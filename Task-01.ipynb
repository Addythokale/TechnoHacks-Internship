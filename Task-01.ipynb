{
 "cells": [
  {
   "cell_type": "code",
   "execution_count": 1,
   "metadata": {
    "execution": {
     "iopub.execute_input": "2023-02-26T06:08:44.191282Z",
     "iopub.status.busy": "2023-02-26T06:08:44.190692Z",
     "iopub.status.idle": "2023-02-26T06:08:44.228350Z",
     "shell.execute_reply": "2023-02-26T06:08:44.227154Z",
     "shell.execute_reply.started": "2023-02-26T06:08:44.191173Z"
    }
   },
   "outputs": [],
   "source": [
    "import numpy as np\n",
    "import pandas as pd "
   ]
  },
  {
   "cell_type": "code",
   "execution_count": 2,
   "metadata": {
    "execution": {
     "iopub.execute_input": "2023-02-26T06:08:44.231404Z",
     "iopub.status.busy": "2023-02-26T06:08:44.230573Z",
     "iopub.status.idle": "2023-02-26T06:08:44.276036Z",
     "shell.execute_reply": "2023-02-26T06:08:44.274707Z",
     "shell.execute_reply.started": "2023-02-26T06:08:44.231360Z"
    }
   },
   "outputs": [],
   "source": [
    "dataset=pd.read_csv(\"train.csv\")"
   ]
  },
  {
   "cell_type": "code",
   "execution_count": 3,
   "metadata": {
    "execution": {
     "iopub.execute_input": "2023-02-26T06:08:44.278673Z",
     "iopub.status.busy": "2023-02-26T06:08:44.277827Z",
     "iopub.status.idle": "2023-02-26T06:08:44.335316Z",
     "shell.execute_reply": "2023-02-26T06:08:44.333891Z",
     "shell.execute_reply.started": "2023-02-26T06:08:44.278622Z"
    }
   },
   "outputs": [
    {
     "data": {
      "text/html": [
       "<div>\n",
       "<style scoped>\n",
       "    .dataframe tbody tr th:only-of-type {\n",
       "        vertical-align: middle;\n",
       "    }\n",
       "\n",
       "    .dataframe tbody tr th {\n",
       "        vertical-align: top;\n",
       "    }\n",
       "\n",
       "    .dataframe thead th {\n",
       "        text-align: right;\n",
       "    }\n",
       "</style>\n",
       "<table border=\"1\" class=\"dataframe\">\n",
       "  <thead>\n",
       "    <tr style=\"text-align: right;\">\n",
       "      <th></th>\n",
       "      <th>Id</th>\n",
       "      <th>MSSubClass</th>\n",
       "      <th>MSZoning</th>\n",
       "      <th>LotFrontage</th>\n",
       "      <th>LotArea</th>\n",
       "      <th>Street</th>\n",
       "      <th>Alley</th>\n",
       "      <th>LotShape</th>\n",
       "      <th>LandContour</th>\n",
       "      <th>Utilities</th>\n",
       "      <th>...</th>\n",
       "      <th>PoolArea</th>\n",
       "      <th>PoolQC</th>\n",
       "      <th>Fence</th>\n",
       "      <th>MiscFeature</th>\n",
       "      <th>MiscVal</th>\n",
       "      <th>MoSold</th>\n",
       "      <th>YrSold</th>\n",
       "      <th>SaleType</th>\n",
       "      <th>SaleCondition</th>\n",
       "      <th>SalePrice</th>\n",
       "    </tr>\n",
       "  </thead>\n",
       "  <tbody>\n",
       "    <tr>\n",
       "      <th>0</th>\n",
       "      <td>1</td>\n",
       "      <td>60</td>\n",
       "      <td>RL</td>\n",
       "      <td>65.0</td>\n",
       "      <td>8450</td>\n",
       "      <td>Pave</td>\n",
       "      <td>NaN</td>\n",
       "      <td>Reg</td>\n",
       "      <td>Lvl</td>\n",
       "      <td>AllPub</td>\n",
       "      <td>...</td>\n",
       "      <td>0</td>\n",
       "      <td>NaN</td>\n",
       "      <td>NaN</td>\n",
       "      <td>NaN</td>\n",
       "      <td>0</td>\n",
       "      <td>2</td>\n",
       "      <td>2008</td>\n",
       "      <td>WD</td>\n",
       "      <td>Normal</td>\n",
       "      <td>208500</td>\n",
       "    </tr>\n",
       "    <tr>\n",
       "      <th>1</th>\n",
       "      <td>2</td>\n",
       "      <td>20</td>\n",
       "      <td>RL</td>\n",
       "      <td>80.0</td>\n",
       "      <td>9600</td>\n",
       "      <td>Pave</td>\n",
       "      <td>NaN</td>\n",
       "      <td>Reg</td>\n",
       "      <td>Lvl</td>\n",
       "      <td>AllPub</td>\n",
       "      <td>...</td>\n",
       "      <td>0</td>\n",
       "      <td>NaN</td>\n",
       "      <td>NaN</td>\n",
       "      <td>NaN</td>\n",
       "      <td>0</td>\n",
       "      <td>5</td>\n",
       "      <td>2007</td>\n",
       "      <td>WD</td>\n",
       "      <td>Normal</td>\n",
       "      <td>181500</td>\n",
       "    </tr>\n",
       "    <tr>\n",
       "      <th>2</th>\n",
       "      <td>3</td>\n",
       "      <td>60</td>\n",
       "      <td>RL</td>\n",
       "      <td>68.0</td>\n",
       "      <td>11250</td>\n",
       "      <td>Pave</td>\n",
       "      <td>NaN</td>\n",
       "      <td>IR1</td>\n",
       "      <td>Lvl</td>\n",
       "      <td>AllPub</td>\n",
       "      <td>...</td>\n",
       "      <td>0</td>\n",
       "      <td>NaN</td>\n",
       "      <td>NaN</td>\n",
       "      <td>NaN</td>\n",
       "      <td>0</td>\n",
       "      <td>9</td>\n",
       "      <td>2008</td>\n",
       "      <td>WD</td>\n",
       "      <td>Normal</td>\n",
       "      <td>223500</td>\n",
       "    </tr>\n",
       "    <tr>\n",
       "      <th>3</th>\n",
       "      <td>4</td>\n",
       "      <td>70</td>\n",
       "      <td>RL</td>\n",
       "      <td>60.0</td>\n",
       "      <td>9550</td>\n",
       "      <td>Pave</td>\n",
       "      <td>NaN</td>\n",
       "      <td>IR1</td>\n",
       "      <td>Lvl</td>\n",
       "      <td>AllPub</td>\n",
       "      <td>...</td>\n",
       "      <td>0</td>\n",
       "      <td>NaN</td>\n",
       "      <td>NaN</td>\n",
       "      <td>NaN</td>\n",
       "      <td>0</td>\n",
       "      <td>2</td>\n",
       "      <td>2006</td>\n",
       "      <td>WD</td>\n",
       "      <td>Abnorml</td>\n",
       "      <td>140000</td>\n",
       "    </tr>\n",
       "    <tr>\n",
       "      <th>4</th>\n",
       "      <td>5</td>\n",
       "      <td>60</td>\n",
       "      <td>RL</td>\n",
       "      <td>84.0</td>\n",
       "      <td>14260</td>\n",
       "      <td>Pave</td>\n",
       "      <td>NaN</td>\n",
       "      <td>IR1</td>\n",
       "      <td>Lvl</td>\n",
       "      <td>AllPub</td>\n",
       "      <td>...</td>\n",
       "      <td>0</td>\n",
       "      <td>NaN</td>\n",
       "      <td>NaN</td>\n",
       "      <td>NaN</td>\n",
       "      <td>0</td>\n",
       "      <td>12</td>\n",
       "      <td>2008</td>\n",
       "      <td>WD</td>\n",
       "      <td>Normal</td>\n",
       "      <td>250000</td>\n",
       "    </tr>\n",
       "    <tr>\n",
       "      <th>...</th>\n",
       "      <td>...</td>\n",
       "      <td>...</td>\n",
       "      <td>...</td>\n",
       "      <td>...</td>\n",
       "      <td>...</td>\n",
       "      <td>...</td>\n",
       "      <td>...</td>\n",
       "      <td>...</td>\n",
       "      <td>...</td>\n",
       "      <td>...</td>\n",
       "      <td>...</td>\n",
       "      <td>...</td>\n",
       "      <td>...</td>\n",
       "      <td>...</td>\n",
       "      <td>...</td>\n",
       "      <td>...</td>\n",
       "      <td>...</td>\n",
       "      <td>...</td>\n",
       "      <td>...</td>\n",
       "      <td>...</td>\n",
       "      <td>...</td>\n",
       "    </tr>\n",
       "    <tr>\n",
       "      <th>1455</th>\n",
       "      <td>1456</td>\n",
       "      <td>60</td>\n",
       "      <td>RL</td>\n",
       "      <td>62.0</td>\n",
       "      <td>7917</td>\n",
       "      <td>Pave</td>\n",
       "      <td>NaN</td>\n",
       "      <td>Reg</td>\n",
       "      <td>Lvl</td>\n",
       "      <td>AllPub</td>\n",
       "      <td>...</td>\n",
       "      <td>0</td>\n",
       "      <td>NaN</td>\n",
       "      <td>NaN</td>\n",
       "      <td>NaN</td>\n",
       "      <td>0</td>\n",
       "      <td>8</td>\n",
       "      <td>2007</td>\n",
       "      <td>WD</td>\n",
       "      <td>Normal</td>\n",
       "      <td>175000</td>\n",
       "    </tr>\n",
       "    <tr>\n",
       "      <th>1456</th>\n",
       "      <td>1457</td>\n",
       "      <td>20</td>\n",
       "      <td>RL</td>\n",
       "      <td>85.0</td>\n",
       "      <td>13175</td>\n",
       "      <td>Pave</td>\n",
       "      <td>NaN</td>\n",
       "      <td>Reg</td>\n",
       "      <td>Lvl</td>\n",
       "      <td>AllPub</td>\n",
       "      <td>...</td>\n",
       "      <td>0</td>\n",
       "      <td>NaN</td>\n",
       "      <td>MnPrv</td>\n",
       "      <td>NaN</td>\n",
       "      <td>0</td>\n",
       "      <td>2</td>\n",
       "      <td>2010</td>\n",
       "      <td>WD</td>\n",
       "      <td>Normal</td>\n",
       "      <td>210000</td>\n",
       "    </tr>\n",
       "    <tr>\n",
       "      <th>1457</th>\n",
       "      <td>1458</td>\n",
       "      <td>70</td>\n",
       "      <td>RL</td>\n",
       "      <td>66.0</td>\n",
       "      <td>9042</td>\n",
       "      <td>Pave</td>\n",
       "      <td>NaN</td>\n",
       "      <td>Reg</td>\n",
       "      <td>Lvl</td>\n",
       "      <td>AllPub</td>\n",
       "      <td>...</td>\n",
       "      <td>0</td>\n",
       "      <td>NaN</td>\n",
       "      <td>GdPrv</td>\n",
       "      <td>Shed</td>\n",
       "      <td>2500</td>\n",
       "      <td>5</td>\n",
       "      <td>2010</td>\n",
       "      <td>WD</td>\n",
       "      <td>Normal</td>\n",
       "      <td>266500</td>\n",
       "    </tr>\n",
       "    <tr>\n",
       "      <th>1458</th>\n",
       "      <td>1459</td>\n",
       "      <td>20</td>\n",
       "      <td>RL</td>\n",
       "      <td>68.0</td>\n",
       "      <td>9717</td>\n",
       "      <td>Pave</td>\n",
       "      <td>NaN</td>\n",
       "      <td>Reg</td>\n",
       "      <td>Lvl</td>\n",
       "      <td>AllPub</td>\n",
       "      <td>...</td>\n",
       "      <td>0</td>\n",
       "      <td>NaN</td>\n",
       "      <td>NaN</td>\n",
       "      <td>NaN</td>\n",
       "      <td>0</td>\n",
       "      <td>4</td>\n",
       "      <td>2010</td>\n",
       "      <td>WD</td>\n",
       "      <td>Normal</td>\n",
       "      <td>142125</td>\n",
       "    </tr>\n",
       "    <tr>\n",
       "      <th>1459</th>\n",
       "      <td>1460</td>\n",
       "      <td>20</td>\n",
       "      <td>RL</td>\n",
       "      <td>75.0</td>\n",
       "      <td>9937</td>\n",
       "      <td>Pave</td>\n",
       "      <td>NaN</td>\n",
       "      <td>Reg</td>\n",
       "      <td>Lvl</td>\n",
       "      <td>AllPub</td>\n",
       "      <td>...</td>\n",
       "      <td>0</td>\n",
       "      <td>NaN</td>\n",
       "      <td>NaN</td>\n",
       "      <td>NaN</td>\n",
       "      <td>0</td>\n",
       "      <td>6</td>\n",
       "      <td>2008</td>\n",
       "      <td>WD</td>\n",
       "      <td>Normal</td>\n",
       "      <td>147500</td>\n",
       "    </tr>\n",
       "  </tbody>\n",
       "</table>\n",
       "<p>1460 rows × 81 columns</p>\n",
       "</div>"
      ],
      "text/plain": [
       "        Id  MSSubClass MSZoning  LotFrontage  LotArea Street Alley LotShape  \\\n",
       "0        1          60       RL         65.0     8450   Pave   NaN      Reg   \n",
       "1        2          20       RL         80.0     9600   Pave   NaN      Reg   \n",
       "2        3          60       RL         68.0    11250   Pave   NaN      IR1   \n",
       "3        4          70       RL         60.0     9550   Pave   NaN      IR1   \n",
       "4        5          60       RL         84.0    14260   Pave   NaN      IR1   \n",
       "...    ...         ...      ...          ...      ...    ...   ...      ...   \n",
       "1455  1456          60       RL         62.0     7917   Pave   NaN      Reg   \n",
       "1456  1457          20       RL         85.0    13175   Pave   NaN      Reg   \n",
       "1457  1458          70       RL         66.0     9042   Pave   NaN      Reg   \n",
       "1458  1459          20       RL         68.0     9717   Pave   NaN      Reg   \n",
       "1459  1460          20       RL         75.0     9937   Pave   NaN      Reg   \n",
       "\n",
       "     LandContour Utilities  ... PoolArea PoolQC  Fence MiscFeature MiscVal  \\\n",
       "0            Lvl    AllPub  ...        0    NaN    NaN         NaN       0   \n",
       "1            Lvl    AllPub  ...        0    NaN    NaN         NaN       0   \n",
       "2            Lvl    AllPub  ...        0    NaN    NaN         NaN       0   \n",
       "3            Lvl    AllPub  ...        0    NaN    NaN         NaN       0   \n",
       "4            Lvl    AllPub  ...        0    NaN    NaN         NaN       0   \n",
       "...          ...       ...  ...      ...    ...    ...         ...     ...   \n",
       "1455         Lvl    AllPub  ...        0    NaN    NaN         NaN       0   \n",
       "1456         Lvl    AllPub  ...        0    NaN  MnPrv         NaN       0   \n",
       "1457         Lvl    AllPub  ...        0    NaN  GdPrv        Shed    2500   \n",
       "1458         Lvl    AllPub  ...        0    NaN    NaN         NaN       0   \n",
       "1459         Lvl    AllPub  ...        0    NaN    NaN         NaN       0   \n",
       "\n",
       "     MoSold YrSold  SaleType  SaleCondition  SalePrice  \n",
       "0         2   2008        WD         Normal     208500  \n",
       "1         5   2007        WD         Normal     181500  \n",
       "2         9   2008        WD         Normal     223500  \n",
       "3         2   2006        WD        Abnorml     140000  \n",
       "4        12   2008        WD         Normal     250000  \n",
       "...     ...    ...       ...            ...        ...  \n",
       "1455      8   2007        WD         Normal     175000  \n",
       "1456      2   2010        WD         Normal     210000  \n",
       "1457      5   2010        WD         Normal     266500  \n",
       "1458      4   2010        WD         Normal     142125  \n",
       "1459      6   2008        WD         Normal     147500  \n",
       "\n",
       "[1460 rows x 81 columns]"
      ]
     },
     "execution_count": 3,
     "metadata": {},
     "output_type": "execute_result"
    }
   ],
   "source": [
    "dataset"
   ]
  },
  {
   "cell_type": "code",
   "execution_count": 4,
   "metadata": {
    "execution": {
     "iopub.execute_input": "2023-02-26T06:08:44.337924Z",
     "iopub.status.busy": "2023-02-26T06:08:44.337245Z",
     "iopub.status.idle": "2023-02-26T06:08:44.372142Z",
     "shell.execute_reply": "2023-02-26T06:08:44.370588Z",
     "shell.execute_reply.started": "2023-02-26T06:08:44.337884Z"
    }
   },
   "outputs": [
    {
     "name": "stdout",
     "output_type": "stream",
     "text": [
      "<class 'pandas.core.frame.DataFrame'>\n",
      "RangeIndex: 1460 entries, 0 to 1459\n",
      "Data columns (total 81 columns):\n",
      " #   Column         Non-Null Count  Dtype  \n",
      "---  ------         --------------  -----  \n",
      " 0   Id             1460 non-null   int64  \n",
      " 1   MSSubClass     1460 non-null   int64  \n",
      " 2   MSZoning       1460 non-null   object \n",
      " 3   LotFrontage    1201 non-null   float64\n",
      " 4   LotArea        1460 non-null   int64  \n",
      " 5   Street         1460 non-null   object \n",
      " 6   Alley          91 non-null     object \n",
      " 7   LotShape       1460 non-null   object \n",
      " 8   LandContour    1460 non-null   object \n",
      " 9   Utilities      1460 non-null   object \n",
      " 10  LotConfig      1460 non-null   object \n",
      " 11  LandSlope      1460 non-null   object \n",
      " 12  Neighborhood   1460 non-null   object \n",
      " 13  Condition1     1460 non-null   object \n",
      " 14  Condition2     1460 non-null   object \n",
      " 15  BldgType       1460 non-null   object \n",
      " 16  HouseStyle     1460 non-null   object \n",
      " 17  OverallQual    1460 non-null   int64  \n",
      " 18  OverallCond    1460 non-null   int64  \n",
      " 19  YearBuilt      1460 non-null   int64  \n",
      " 20  YearRemodAdd   1460 non-null   int64  \n",
      " 21  RoofStyle      1460 non-null   object \n",
      " 22  RoofMatl       1460 non-null   object \n",
      " 23  Exterior1st    1460 non-null   object \n",
      " 24  Exterior2nd    1460 non-null   object \n",
      " 25  MasVnrType     1452 non-null   object \n",
      " 26  MasVnrArea     1452 non-null   float64\n",
      " 27  ExterQual      1460 non-null   object \n",
      " 28  ExterCond      1460 non-null   object \n",
      " 29  Foundation     1460 non-null   object \n",
      " 30  BsmtQual       1423 non-null   object \n",
      " 31  BsmtCond       1423 non-null   object \n",
      " 32  BsmtExposure   1422 non-null   object \n",
      " 33  BsmtFinType1   1423 non-null   object \n",
      " 34  BsmtFinSF1     1460 non-null   int64  \n",
      " 35  BsmtFinType2   1422 non-null   object \n",
      " 36  BsmtFinSF2     1460 non-null   int64  \n",
      " 37  BsmtUnfSF      1460 non-null   int64  \n",
      " 38  TotalBsmtSF    1460 non-null   int64  \n",
      " 39  Heating        1460 non-null   object \n",
      " 40  HeatingQC      1460 non-null   object \n",
      " 41  CentralAir     1460 non-null   object \n",
      " 42  Electrical     1459 non-null   object \n",
      " 43  1stFlrSF       1460 non-null   int64  \n",
      " 44  2ndFlrSF       1460 non-null   int64  \n",
      " 45  LowQualFinSF   1460 non-null   int64  \n",
      " 46  GrLivArea      1460 non-null   int64  \n",
      " 47  BsmtFullBath   1460 non-null   int64  \n",
      " 48  BsmtHalfBath   1460 non-null   int64  \n",
      " 49  FullBath       1460 non-null   int64  \n",
      " 50  HalfBath       1460 non-null   int64  \n",
      " 51  BedroomAbvGr   1460 non-null   int64  \n",
      " 52  KitchenAbvGr   1460 non-null   int64  \n",
      " 53  KitchenQual    1460 non-null   object \n",
      " 54  TotRmsAbvGrd   1460 non-null   int64  \n",
      " 55  Functional     1460 non-null   object \n",
      " 56  Fireplaces     1460 non-null   int64  \n",
      " 57  FireplaceQu    770 non-null    object \n",
      " 58  GarageType     1379 non-null   object \n",
      " 59  GarageYrBlt    1379 non-null   float64\n",
      " 60  GarageFinish   1379 non-null   object \n",
      " 61  GarageCars     1460 non-null   int64  \n",
      " 62  GarageArea     1460 non-null   int64  \n",
      " 63  GarageQual     1379 non-null   object \n",
      " 64  GarageCond     1379 non-null   object \n",
      " 65  PavedDrive     1460 non-null   object \n",
      " 66  WoodDeckSF     1460 non-null   int64  \n",
      " 67  OpenPorchSF    1460 non-null   int64  \n",
      " 68  EnclosedPorch  1460 non-null   int64  \n",
      " 69  3SsnPorch      1460 non-null   int64  \n",
      " 70  ScreenPorch    1460 non-null   int64  \n",
      " 71  PoolArea       1460 non-null   int64  \n",
      " 72  PoolQC         7 non-null      object \n",
      " 73  Fence          281 non-null    object \n",
      " 74  MiscFeature    54 non-null     object \n",
      " 75  MiscVal        1460 non-null   int64  \n",
      " 76  MoSold         1460 non-null   int64  \n",
      " 77  YrSold         1460 non-null   int64  \n",
      " 78  SaleType       1460 non-null   object \n",
      " 79  SaleCondition  1460 non-null   object \n",
      " 80  SalePrice      1460 non-null   int64  \n",
      "dtypes: float64(3), int64(35), object(43)\n",
      "memory usage: 924.0+ KB\n"
     ]
    }
   ],
   "source": [
    "dataset.info()"
   ]
  },
  {
   "cell_type": "code",
   "execution_count": 5,
   "metadata": {
    "execution": {
     "iopub.execute_input": "2023-02-26T06:08:44.377643Z",
     "iopub.status.busy": "2023-02-26T06:08:44.376582Z",
     "iopub.status.idle": "2023-02-26T06:08:44.393087Z",
     "shell.execute_reply": "2023-02-26T06:08:44.391922Z",
     "shell.execute_reply.started": "2023-02-26T06:08:44.377585Z"
    }
   },
   "outputs": [
    {
     "data": {
      "text/plain": [
       "Id                 0\n",
       "MSSubClass         0\n",
       "MSZoning           0\n",
       "LotFrontage      259\n",
       "LotArea            0\n",
       "Street             0\n",
       "Alley           1369\n",
       "LotShape           0\n",
       "LandContour        0\n",
       "Utilities          0\n",
       "LotConfig          0\n",
       "LandSlope          0\n",
       "Neighborhood       0\n",
       "Condition1         0\n",
       "Condition2         0\n",
       "BldgType           0\n",
       "HouseStyle         0\n",
       "OverallQual        0\n",
       "OverallCond        0\n",
       "YearBuilt          0\n",
       "YearRemodAdd       0\n",
       "RoofStyle          0\n",
       "RoofMatl           0\n",
       "Exterior1st        0\n",
       "Exterior2nd        0\n",
       "MasVnrType         8\n",
       "MasVnrArea         8\n",
       "ExterQual          0\n",
       "ExterCond          0\n",
       "Foundation         0\n",
       "BsmtQual          37\n",
       "BsmtCond          37\n",
       "BsmtExposure      38\n",
       "BsmtFinType1      37\n",
       "BsmtFinSF1         0\n",
       "BsmtFinType2      38\n",
       "BsmtFinSF2         0\n",
       "BsmtUnfSF          0\n",
       "TotalBsmtSF        0\n",
       "Heating            0\n",
       "dtype: int64"
      ]
     },
     "execution_count": 5,
     "metadata": {},
     "output_type": "execute_result"
    }
   ],
   "source": [
    "dataset.isnull().sum().head(40)"
   ]
  },
  {
   "cell_type": "markdown",
   "metadata": {},
   "source": [
    "## First We can deal with null values"
   ]
  },
  {
   "cell_type": "code",
   "execution_count": 6,
   "metadata": {
    "execution": {
     "iopub.execute_input": "2023-02-26T06:08:44.397070Z",
     "iopub.status.busy": "2023-02-26T06:08:44.396625Z",
     "iopub.status.idle": "2023-02-26T06:08:44.411898Z",
     "shell.execute_reply": "2023-02-26T06:08:44.410888Z",
     "shell.execute_reply.started": "2023-02-26T06:08:44.397035Z"
    }
   },
   "outputs": [
    {
     "data": {
      "text/plain": [
       "60.0     143\n",
       "70.0      70\n",
       "80.0      69\n",
       "50.0      57\n",
       "75.0      53\n",
       "        ... \n",
       "137.0      1\n",
       "141.0      1\n",
       "38.0       1\n",
       "140.0      1\n",
       "46.0       1\n",
       "Name: LotFrontage, Length: 110, dtype: int64"
      ]
     },
     "execution_count": 6,
     "metadata": {},
     "output_type": "execute_result"
    }
   ],
   "source": [
    "# Working on LotFrontage Column\n",
    "dataset[\"LotFrontage\"].value_counts()"
   ]
  },
  {
   "cell_type": "code",
   "execution_count": 7,
   "metadata": {
    "execution": {
     "iopub.execute_input": "2023-02-26T06:08:44.413261Z",
     "iopub.status.busy": "2023-02-26T06:08:44.412925Z",
     "iopub.status.idle": "2023-02-26T06:08:44.423978Z",
     "shell.execute_reply": "2023-02-26T06:08:44.422712Z",
     "shell.execute_reply.started": "2023-02-26T06:08:44.413233Z"
    }
   },
   "outputs": [
    {
     "data": {
      "text/plain": [
       "70.04995836802665"
      ]
     },
     "execution_count": 7,
     "metadata": {},
     "output_type": "execute_result"
    }
   ],
   "source": [
    "dataset[\"LotFrontage\"].mean()"
   ]
  },
  {
   "cell_type": "code",
   "execution_count": 8,
   "metadata": {
    "execution": {
     "iopub.execute_input": "2023-02-26T06:08:44.426157Z",
     "iopub.status.busy": "2023-02-26T06:08:44.425728Z",
     "iopub.status.idle": "2023-02-26T06:08:44.438963Z",
     "shell.execute_reply": "2023-02-26T06:08:44.437809Z",
     "shell.execute_reply.started": "2023-02-26T06:08:44.426121Z"
    }
   },
   "outputs": [],
   "source": [
    "dataset[\"LotFrontage\"]=dataset[\"LotFrontage\"].fillna(70)"
   ]
  },
  {
   "cell_type": "code",
   "execution_count": 9,
   "metadata": {
    "execution": {
     "iopub.execute_input": "2023-02-26T06:08:44.440806Z",
     "iopub.status.busy": "2023-02-26T06:08:44.440419Z",
     "iopub.status.idle": "2023-02-26T06:08:44.457874Z",
     "shell.execute_reply": "2023-02-26T06:08:44.456577Z",
     "shell.execute_reply.started": "2023-02-26T06:08:44.440772Z"
    }
   },
   "outputs": [
    {
     "data": {
      "text/plain": [
       "Grvl    50\n",
       "Pave    41\n",
       "Name: Alley, dtype: int64"
      ]
     },
     "execution_count": 9,
     "metadata": {},
     "output_type": "execute_result"
    }
   ],
   "source": [
    "# Working on Alley Column\n",
    "dataset[\"Alley\"].value_counts()"
   ]
  },
  {
   "cell_type": "code",
   "execution_count": 10,
   "metadata": {
    "execution": {
     "iopub.execute_input": "2023-02-26T06:08:44.459594Z",
     "iopub.status.busy": "2023-02-26T06:08:44.459193Z",
     "iopub.status.idle": "2023-02-26T06:08:44.477126Z",
     "shell.execute_reply": "2023-02-26T06:08:44.475876Z",
     "shell.execute_reply.started": "2023-02-26T06:08:44.459561Z"
    }
   },
   "outputs": [
    {
     "data": {
      "text/plain": [
       "Pave    1454\n",
       "Grvl       6\n",
       "Name: Street, dtype: int64"
      ]
     },
     "execution_count": 10,
     "metadata": {},
     "output_type": "execute_result"
    }
   ],
   "source": [
    "# Working on Street Column\n",
    "dataset[\"Street\"].value_counts()"
   ]
  },
  {
   "cell_type": "code",
   "execution_count": 11,
   "metadata": {
    "execution": {
     "iopub.execute_input": "2023-02-26T06:08:44.479571Z",
     "iopub.status.busy": "2023-02-26T06:08:44.479000Z",
     "iopub.status.idle": "2023-02-26T06:08:45.076856Z",
     "shell.execute_reply": "2023-02-26T06:08:45.075188Z",
     "shell.execute_reply.started": "2023-02-26T06:08:44.479518Z"
    }
   },
   "outputs": [],
   "source": [
    "for x in dataset[\"Street\"]:\n",
    "    if x==\"Pave\":\n",
    "        dataset[\"Alley\"]=dataset[\"Alley\"].fillna(\"Pave\")\n",
    "    elif x==\"Grvl\":\n",
    "        dataset[\"Alley\"]=dataset[\"Alley\"].fillna(\"Grvl\")"
   ]
  },
  {
   "cell_type": "code",
   "execution_count": 12,
   "metadata": {
    "execution": {
     "iopub.execute_input": "2023-02-26T06:08:45.079108Z",
     "iopub.status.busy": "2023-02-26T06:08:45.078525Z",
     "iopub.status.idle": "2023-02-26T06:08:45.090592Z",
     "shell.execute_reply": "2023-02-26T06:08:45.089032Z",
     "shell.execute_reply.started": "2023-02-26T06:08:45.079061Z"
    }
   },
   "outputs": [
    {
     "data": {
      "text/plain": [
       "TA    649\n",
       "Gd    618\n",
       "Ex    121\n",
       "Fa     35\n",
       "Name: BsmtQual, dtype: int64"
      ]
     },
     "execution_count": 12,
     "metadata": {},
     "output_type": "execute_result"
    }
   ],
   "source": [
    "# Working on BsmtQual Column\n",
    "dataset[\"BsmtQual\"].value_counts()"
   ]
  },
  {
   "cell_type": "code",
   "execution_count": 13,
   "metadata": {
    "execution": {
     "iopub.execute_input": "2023-02-26T06:08:45.092537Z",
     "iopub.status.busy": "2023-02-26T06:08:45.092064Z",
     "iopub.status.idle": "2023-02-26T06:08:45.103182Z",
     "shell.execute_reply": "2023-02-26T06:08:45.101754Z",
     "shell.execute_reply.started": "2023-02-26T06:08:45.092470Z"
    }
   },
   "outputs": [],
   "source": [
    "dataset[\"BsmtQual\"]=dataset[\"BsmtQual\"].fillna(\"Fa\")"
   ]
  },
  {
   "cell_type": "code",
   "execution_count": 14,
   "metadata": {
    "execution": {
     "iopub.execute_input": "2023-02-26T06:08:45.112635Z",
     "iopub.status.busy": "2023-02-26T06:08:45.111581Z",
     "iopub.status.idle": "2023-02-26T06:08:45.124843Z",
     "shell.execute_reply": "2023-02-26T06:08:45.123302Z",
     "shell.execute_reply.started": "2023-02-26T06:08:45.112582Z"
    }
   },
   "outputs": [
    {
     "data": {
      "text/plain": [
       "TA    1311\n",
       "Gd      65\n",
       "Fa      45\n",
       "Po       2\n",
       "Name: BsmtCond, dtype: int64"
      ]
     },
     "execution_count": 14,
     "metadata": {},
     "output_type": "execute_result"
    }
   ],
   "source": [
    "# Working on BsmtCond Column\n",
    "dataset[\"BsmtCond\"].value_counts()"
   ]
  },
  {
   "cell_type": "code",
   "execution_count": 15,
   "metadata": {
    "execution": {
     "iopub.execute_input": "2023-02-26T06:08:45.126389Z",
     "iopub.status.busy": "2023-02-26T06:08:45.125994Z",
     "iopub.status.idle": "2023-02-26T06:08:45.138144Z",
     "shell.execute_reply": "2023-02-26T06:08:45.135838Z",
     "shell.execute_reply.started": "2023-02-26T06:08:45.126346Z"
    }
   },
   "outputs": [],
   "source": [
    "dataset[\"BsmtCond\"]=dataset[\"BsmtCond\"].fillna(\"Po\")"
   ]
  },
  {
   "cell_type": "code",
   "execution_count": 16,
   "metadata": {
    "execution": {
     "iopub.execute_input": "2023-02-26T06:08:45.141135Z",
     "iopub.status.busy": "2023-02-26T06:08:45.139846Z",
     "iopub.status.idle": "2023-02-26T06:08:45.159355Z",
     "shell.execute_reply": "2023-02-26T06:08:45.158066Z",
     "shell.execute_reply.started": "2023-02-26T06:08:45.141051Z"
    }
   },
   "outputs": [
    {
     "data": {
      "text/plain": [
       "No    953\n",
       "Av    221\n",
       "Gd    134\n",
       "Mn    114\n",
       "Name: BsmtExposure, dtype: int64"
      ]
     },
     "execution_count": 16,
     "metadata": {},
     "output_type": "execute_result"
    }
   ],
   "source": [
    "# Working on BsmtExposure Column\n",
    "dataset[\"BsmtExposure\"].value_counts()"
   ]
  },
  {
   "cell_type": "code",
   "execution_count": 17,
   "metadata": {
    "execution": {
     "iopub.execute_input": "2023-02-26T06:08:45.161894Z",
     "iopub.status.busy": "2023-02-26T06:08:45.160733Z",
     "iopub.status.idle": "2023-02-26T06:08:45.174979Z",
     "shell.execute_reply": "2023-02-26T06:08:45.174061Z",
     "shell.execute_reply.started": "2023-02-26T06:08:45.161841Z"
    }
   },
   "outputs": [],
   "source": [
    "dataset[\"BsmtExposure\"]=dataset[\"BsmtExposure\"].fillna(\"mn\")"
   ]
  },
  {
   "cell_type": "code",
   "execution_count": 18,
   "metadata": {
    "execution": {
     "iopub.execute_input": "2023-02-26T06:08:45.176685Z",
     "iopub.status.busy": "2023-02-26T06:08:45.176201Z",
     "iopub.status.idle": "2023-02-26T06:08:45.200593Z",
     "shell.execute_reply": "2023-02-26T06:08:45.198459Z",
     "shell.execute_reply.started": "2023-02-26T06:08:45.176640Z"
    }
   },
   "outputs": [
    {
     "data": {
      "text/plain": [
       "Unf    430\n",
       "GLQ    418\n",
       "ALQ    220\n",
       "BLQ    148\n",
       "Rec    133\n",
       "LwQ     74\n",
       "Name: BsmtFinType1, dtype: int64"
      ]
     },
     "execution_count": 18,
     "metadata": {},
     "output_type": "execute_result"
    }
   ],
   "source": [
    "# Working on BsmtFinType1 Column\n",
    "dataset[\"BsmtFinType1\"].value_counts()"
   ]
  },
  {
   "cell_type": "code",
   "execution_count": 19,
   "metadata": {
    "execution": {
     "iopub.execute_input": "2023-02-26T06:08:45.202161Z",
     "iopub.status.busy": "2023-02-26T06:08:45.201783Z",
     "iopub.status.idle": "2023-02-26T06:08:45.210917Z",
     "shell.execute_reply": "2023-02-26T06:08:45.209811Z",
     "shell.execute_reply.started": "2023-02-26T06:08:45.202115Z"
    }
   },
   "outputs": [],
   "source": [
    "dataset[\"BsmtFinType1\"]=dataset[\"BsmtFinType1\"].fillna(\"LwQ\")"
   ]
  },
  {
   "cell_type": "code",
   "execution_count": 20,
   "metadata": {
    "execution": {
     "iopub.execute_input": "2023-02-26T06:08:45.212637Z",
     "iopub.status.busy": "2023-02-26T06:08:45.212138Z",
     "iopub.status.idle": "2023-02-26T06:08:45.229083Z",
     "shell.execute_reply": "2023-02-26T06:08:45.227937Z",
     "shell.execute_reply.started": "2023-02-26T06:08:45.212547Z"
    }
   },
   "outputs": [
    {
     "data": {
      "text/plain": [
       "Unf    1256\n",
       "Rec      54\n",
       "LwQ      46\n",
       "BLQ      33\n",
       "ALQ      19\n",
       "GLQ      14\n",
       "Name: BsmtFinType2, dtype: int64"
      ]
     },
     "execution_count": 20,
     "metadata": {},
     "output_type": "execute_result"
    }
   ],
   "source": [
    "# Working on BsmtFinType2 Column\n",
    "dataset[\"BsmtFinType2\"].value_counts()"
   ]
  },
  {
   "cell_type": "code",
   "execution_count": 21,
   "metadata": {
    "execution": {
     "iopub.execute_input": "2023-02-26T06:08:45.231038Z",
     "iopub.status.busy": "2023-02-26T06:08:45.230623Z",
     "iopub.status.idle": "2023-02-26T06:08:45.242115Z",
     "shell.execute_reply": "2023-02-26T06:08:45.240863Z",
     "shell.execute_reply.started": "2023-02-26T06:08:45.231005Z"
    }
   },
   "outputs": [],
   "source": [
    "dataset[\"BsmtFinType2\"]=dataset[\"BsmtFinType2\"].fillna(\"LwQ\")"
   ]
  },
  {
   "cell_type": "code",
   "execution_count": 22,
   "metadata": {
    "execution": {
     "iopub.execute_input": "2023-02-26T06:08:45.244154Z",
     "iopub.status.busy": "2023-02-26T06:08:45.243657Z",
     "iopub.status.idle": "2023-02-26T06:08:45.263921Z",
     "shell.execute_reply": "2023-02-26T06:08:45.263051Z",
     "shell.execute_reply.started": "2023-02-26T06:08:45.244108Z"
    }
   },
   "outputs": [
    {
     "data": {
      "text/plain": [
       "CentralAir          0\n",
       "Electrical          1\n",
       "1stFlrSF            0\n",
       "2ndFlrSF            0\n",
       "LowQualFinSF        0\n",
       "GrLivArea           0\n",
       "BsmtFullBath        0\n",
       "BsmtHalfBath        0\n",
       "FullBath            0\n",
       "HalfBath            0\n",
       "BedroomAbvGr        0\n",
       "KitchenAbvGr        0\n",
       "KitchenQual         0\n",
       "TotRmsAbvGrd        0\n",
       "Functional          0\n",
       "Fireplaces          0\n",
       "FireplaceQu       690\n",
       "GarageType         81\n",
       "GarageYrBlt        81\n",
       "GarageFinish       81\n",
       "GarageCars          0\n",
       "GarageArea          0\n",
       "GarageQual         81\n",
       "GarageCond         81\n",
       "PavedDrive          0\n",
       "WoodDeckSF          0\n",
       "OpenPorchSF         0\n",
       "EnclosedPorch       0\n",
       "3SsnPorch           0\n",
       "ScreenPorch         0\n",
       "PoolArea            0\n",
       "PoolQC           1453\n",
       "Fence            1179\n",
       "MiscFeature      1406\n",
       "MiscVal             0\n",
       "MoSold              0\n",
       "YrSold              0\n",
       "SaleType            0\n",
       "SaleCondition       0\n",
       "SalePrice           0\n",
       "dtype: int64"
      ]
     },
     "execution_count": 22,
     "metadata": {},
     "output_type": "execute_result"
    }
   ],
   "source": [
    "dataset.isnull().sum().tail(40)"
   ]
  },
  {
   "cell_type": "code",
   "execution_count": 23,
   "metadata": {
    "execution": {
     "iopub.execute_input": "2023-02-26T06:08:45.265235Z",
     "iopub.status.busy": "2023-02-26T06:08:45.264888Z",
     "iopub.status.idle": "2023-02-26T06:08:45.275168Z",
     "shell.execute_reply": "2023-02-26T06:08:45.273895Z",
     "shell.execute_reply.started": "2023-02-26T06:08:45.265203Z"
    }
   },
   "outputs": [
    {
     "data": {
      "text/plain": [
       "SBrkr    1334\n",
       "FuseA      94\n",
       "FuseF      27\n",
       "FuseP       3\n",
       "Mix         1\n",
       "Name: Electrical, dtype: int64"
      ]
     },
     "execution_count": 23,
     "metadata": {},
     "output_type": "execute_result"
    }
   ],
   "source": [
    "# Working on Electrical Column\n",
    "dataset[\"Electrical\"].value_counts()"
   ]
  },
  {
   "cell_type": "code",
   "execution_count": 24,
   "metadata": {
    "execution": {
     "iopub.execute_input": "2023-02-26T06:08:45.277255Z",
     "iopub.status.busy": "2023-02-26T06:08:45.276764Z",
     "iopub.status.idle": "2023-02-26T06:08:45.292391Z",
     "shell.execute_reply": "2023-02-26T06:08:45.290492Z",
     "shell.execute_reply.started": "2023-02-26T06:08:45.277216Z"
    }
   },
   "outputs": [],
   "source": [
    "dataset[\"Electrical\"]=dataset[\"Electrical\"].fillna('Mix')"
   ]
  },
  {
   "cell_type": "code",
   "execution_count": 25,
   "metadata": {
    "execution": {
     "iopub.execute_input": "2023-02-26T06:08:45.295311Z",
     "iopub.status.busy": "2023-02-26T06:08:45.294673Z",
     "iopub.status.idle": "2023-02-26T06:08:45.310361Z",
     "shell.execute_reply": "2023-02-26T06:08:45.309122Z",
     "shell.execute_reply.started": "2023-02-26T06:08:45.295248Z"
    }
   },
   "outputs": [
    {
     "data": {
      "text/plain": [
       "Gd    380\n",
       "TA    313\n",
       "Fa     33\n",
       "Ex     24\n",
       "Po     20\n",
       "Name: FireplaceQu, dtype: int64"
      ]
     },
     "execution_count": 25,
     "metadata": {},
     "output_type": "execute_result"
    }
   ],
   "source": [
    "# Working on FireplaceQu Column\n",
    "dataset[\"FireplaceQu\"].value_counts()"
   ]
  },
  {
   "cell_type": "code",
   "execution_count": 26,
   "metadata": {
    "execution": {
     "iopub.execute_input": "2023-02-26T06:08:45.312633Z",
     "iopub.status.busy": "2023-02-26T06:08:45.311652Z",
     "iopub.status.idle": "2023-02-26T06:08:45.320631Z",
     "shell.execute_reply": "2023-02-26T06:08:45.319287Z",
     "shell.execute_reply.started": "2023-02-26T06:08:45.312592Z"
    }
   },
   "outputs": [],
   "source": [
    "dataset[\"FireplaceQu\"]=dataset[\"FireplaceQu\"].fillna('Po')"
   ]
  },
  {
   "cell_type": "code",
   "execution_count": 27,
   "metadata": {
    "execution": {
     "iopub.execute_input": "2023-02-26T06:08:45.323224Z",
     "iopub.status.busy": "2023-02-26T06:08:45.322155Z",
     "iopub.status.idle": "2023-02-26T06:08:45.335720Z",
     "shell.execute_reply": "2023-02-26T06:08:45.334475Z",
     "shell.execute_reply.started": "2023-02-26T06:08:45.323168Z"
    }
   },
   "outputs": [
    {
     "data": {
      "text/plain": [
       "Attchd     870\n",
       "Detchd     387\n",
       "BuiltIn     88\n",
       "Basment     19\n",
       "CarPort      9\n",
       "2Types       6\n",
       "Name: GarageType, dtype: int64"
      ]
     },
     "execution_count": 27,
     "metadata": {},
     "output_type": "execute_result"
    }
   ],
   "source": [
    "# Working on GarageType Column\n",
    "dataset[\"GarageType\"].value_counts()"
   ]
  },
  {
   "cell_type": "code",
   "execution_count": 28,
   "metadata": {
    "execution": {
     "iopub.execute_input": "2023-02-26T06:08:45.339165Z",
     "iopub.status.busy": "2023-02-26T06:08:45.338764Z",
     "iopub.status.idle": "2023-02-26T06:08:45.347374Z",
     "shell.execute_reply": "2023-02-26T06:08:45.346006Z",
     "shell.execute_reply.started": "2023-02-26T06:08:45.339132Z"
    }
   },
   "outputs": [],
   "source": [
    "dataset[\"GarageType\"]=dataset[\"GarageType\"].fillna('2Types')"
   ]
  },
  {
   "cell_type": "code",
   "execution_count": 29,
   "metadata": {
    "execution": {
     "iopub.execute_input": "2023-02-26T06:08:45.350333Z",
     "iopub.status.busy": "2023-02-26T06:08:45.349001Z",
     "iopub.status.idle": "2023-02-26T06:08:45.364335Z",
     "shell.execute_reply": "2023-02-26T06:08:45.362380Z",
     "shell.execute_reply.started": "2023-02-26T06:08:45.350282Z"
    }
   },
   "outputs": [
    {
     "data": {
      "text/plain": [
       "TA    1326\n",
       "Fa      35\n",
       "Gd       9\n",
       "Po       7\n",
       "Ex       2\n",
       "Name: GarageCond, dtype: int64"
      ]
     },
     "execution_count": 29,
     "metadata": {},
     "output_type": "execute_result"
    }
   ],
   "source": [
    "# Working on GarageCond Column\n",
    "dataset[\"GarageCond\"].value_counts()"
   ]
  },
  {
   "cell_type": "code",
   "execution_count": 30,
   "metadata": {
    "execution": {
     "iopub.execute_input": "2023-02-26T06:08:45.366601Z",
     "iopub.status.busy": "2023-02-26T06:08:45.365587Z",
     "iopub.status.idle": "2023-02-26T06:08:45.374133Z",
     "shell.execute_reply": "2023-02-26T06:08:45.372861Z",
     "shell.execute_reply.started": "2023-02-26T06:08:45.366550Z"
    }
   },
   "outputs": [],
   "source": [
    "dataset[\"GarageCond\"]=dataset[\"GarageCond\"].fillna('Ex')"
   ]
  },
  {
   "cell_type": "code",
   "execution_count": 31,
   "metadata": {
    "execution": {
     "iopub.execute_input": "2023-02-26T06:08:45.376135Z",
     "iopub.status.busy": "2023-02-26T06:08:45.375749Z",
     "iopub.status.idle": "2023-02-26T06:08:45.391056Z",
     "shell.execute_reply": "2023-02-26T06:08:45.389765Z",
     "shell.execute_reply.started": "2023-02-26T06:08:45.376095Z"
    }
   },
   "outputs": [
    {
     "data": {
      "text/plain": [
       "Unf    605\n",
       "RFn    422\n",
       "Fin    352\n",
       "Name: GarageFinish, dtype: int64"
      ]
     },
     "execution_count": 31,
     "metadata": {},
     "output_type": "execute_result"
    }
   ],
   "source": [
    "# Working on GarageFinish Column\n",
    "dataset[\"GarageFinish\"].value_counts()"
   ]
  },
  {
   "cell_type": "code",
   "execution_count": 32,
   "metadata": {
    "execution": {
     "iopub.execute_input": "2023-02-26T06:08:45.393734Z",
     "iopub.status.busy": "2023-02-26T06:08:45.393098Z",
     "iopub.status.idle": "2023-02-26T06:08:45.402425Z",
     "shell.execute_reply": "2023-02-26T06:08:45.400829Z",
     "shell.execute_reply.started": "2023-02-26T06:08:45.393696Z"
    }
   },
   "outputs": [],
   "source": [
    "dataset[\"GarageFinish\"]=dataset[\"GarageFinish\"].fillna('Fin')"
   ]
  },
  {
   "cell_type": "code",
   "execution_count": 33,
   "metadata": {
    "execution": {
     "iopub.execute_input": "2023-02-26T06:08:45.404939Z",
     "iopub.status.busy": "2023-02-26T06:08:45.404014Z",
     "iopub.status.idle": "2023-02-26T06:08:45.433369Z",
     "shell.execute_reply": "2023-02-26T06:08:45.431738Z",
     "shell.execute_reply.started": "2023-02-26T06:08:45.404899Z"
    }
   },
   "outputs": [
    {
     "data": {
      "text/plain": [
       "1978.5061638868744"
      ]
     },
     "execution_count": 33,
     "metadata": {},
     "output_type": "execute_result"
    }
   ],
   "source": [
    "# Working on GarageYrBlt Column\n",
    "dataset[\"GarageYrBlt\"].mean()"
   ]
  },
  {
   "cell_type": "code",
   "execution_count": 34,
   "metadata": {
    "execution": {
     "iopub.execute_input": "2023-02-26T06:08:45.435983Z",
     "iopub.status.busy": "2023-02-26T06:08:45.435433Z",
     "iopub.status.idle": "2023-02-26T06:08:45.448364Z",
     "shell.execute_reply": "2023-02-26T06:08:45.447311Z",
     "shell.execute_reply.started": "2023-02-26T06:08:45.435929Z"
    }
   },
   "outputs": [],
   "source": [
    "dataset[\"GarageYrBlt\"]=dataset[\"GarageYrBlt\"].fillna('1978.50')"
   ]
  },
  {
   "cell_type": "code",
   "execution_count": 35,
   "metadata": {
    "execution": {
     "iopub.execute_input": "2023-02-26T06:08:45.452257Z",
     "iopub.status.busy": "2023-02-26T06:08:45.450831Z",
     "iopub.status.idle": "2023-02-26T06:08:45.465248Z",
     "shell.execute_reply": "2023-02-26T06:08:45.464023Z",
     "shell.execute_reply.started": "2023-02-26T06:08:45.452198Z"
    }
   },
   "outputs": [
    {
     "data": {
      "text/plain": [
       "TA    1311\n",
       "Fa      48\n",
       "Gd      14\n",
       "Ex       3\n",
       "Po       3\n",
       "Name: GarageQual, dtype: int64"
      ]
     },
     "execution_count": 35,
     "metadata": {},
     "output_type": "execute_result"
    }
   ],
   "source": [
    "dataset[\"GarageQual\"].value_counts()"
   ]
  },
  {
   "cell_type": "code",
   "execution_count": 36,
   "metadata": {
    "execution": {
     "iopub.execute_input": "2023-02-26T06:08:45.467105Z",
     "iopub.status.busy": "2023-02-26T06:08:45.466747Z",
     "iopub.status.idle": "2023-02-26T06:08:45.480283Z",
     "shell.execute_reply": "2023-02-26T06:08:45.478817Z",
     "shell.execute_reply.started": "2023-02-26T06:08:45.467072Z"
    }
   },
   "outputs": [],
   "source": [
    "dataset[\"GarageQual\"]=dataset[\"GarageQual\"].fillna(\"Gd\")"
   ]
  },
  {
   "cell_type": "code",
   "execution_count": 37,
   "metadata": {
    "execution": {
     "iopub.execute_input": "2023-02-26T06:08:45.482728Z",
     "iopub.status.busy": "2023-02-26T06:08:45.482262Z",
     "iopub.status.idle": "2023-02-26T06:08:45.499044Z",
     "shell.execute_reply": "2023-02-26T06:08:45.497523Z",
     "shell.execute_reply.started": "2023-02-26T06:08:45.482687Z"
    }
   },
   "outputs": [
    {
     "data": {
      "text/plain": [
       "Gd    3\n",
       "Ex    2\n",
       "Fa    2\n",
       "Name: PoolQC, dtype: int64"
      ]
     },
     "execution_count": 37,
     "metadata": {},
     "output_type": "execute_result"
    }
   ],
   "source": [
    "dataset[\"PoolQC\"].value_counts()"
   ]
  },
  {
   "cell_type": "code",
   "execution_count": 38,
   "metadata": {
    "execution": {
     "iopub.execute_input": "2023-02-26T06:08:45.501570Z",
     "iopub.status.busy": "2023-02-26T06:08:45.500790Z",
     "iopub.status.idle": "2023-02-26T06:08:45.514973Z",
     "shell.execute_reply": "2023-02-26T06:08:45.513454Z",
     "shell.execute_reply.started": "2023-02-26T06:08:45.501518Z"
    }
   },
   "outputs": [
    {
     "data": {
      "text/plain": [
       "MnPrv    157\n",
       "GdPrv     59\n",
       "GdWo      54\n",
       "MnWw      11\n",
       "Name: Fence, dtype: int64"
      ]
     },
     "execution_count": 38,
     "metadata": {},
     "output_type": "execute_result"
    }
   ],
   "source": [
    "dataset[\"Fence\"].value_counts()"
   ]
  },
  {
   "cell_type": "code",
   "execution_count": 39,
   "metadata": {
    "execution": {
     "iopub.execute_input": "2023-02-26T06:08:45.516761Z",
     "iopub.status.busy": "2023-02-26T06:08:45.516253Z",
     "iopub.status.idle": "2023-02-26T06:08:45.532261Z",
     "shell.execute_reply": "2023-02-26T06:08:45.530727Z",
     "shell.execute_reply.started": "2023-02-26T06:08:45.516710Z"
    }
   },
   "outputs": [
    {
     "data": {
      "text/plain": [
       "Shed    49\n",
       "Gar2     2\n",
       "Othr     2\n",
       "TenC     1\n",
       "Name: MiscFeature, dtype: int64"
      ]
     },
     "execution_count": 39,
     "metadata": {},
     "output_type": "execute_result"
    }
   ],
   "source": [
    "dataset[\"MiscFeature\"].value_counts()"
   ]
  },
  {
   "cell_type": "code",
   "execution_count": 40,
   "metadata": {
    "execution": {
     "iopub.execute_input": "2023-02-26T06:08:45.535293Z",
     "iopub.status.busy": "2023-02-26T06:08:45.534539Z",
     "iopub.status.idle": "2023-02-26T06:08:45.551615Z",
     "shell.execute_reply": "2023-02-26T06:08:45.549838Z",
     "shell.execute_reply.started": "2023-02-26T06:08:45.535239Z"
    }
   },
   "outputs": [],
   "source": [
    "dataset[\"PoolQC\"]=dataset[\"PoolQC\"].fillna('Fa')\n",
    "dataset[\"MiscFeature\"]=dataset[\"MiscFeature\"].fillna('TenC')\n",
    "dataset[\"Fence\"]=dataset[\"Fence\"].fillna('MnWw')"
   ]
  },
  {
   "cell_type": "code",
   "execution_count": 41,
   "metadata": {
    "execution": {
     "iopub.execute_input": "2023-02-26T06:08:45.564856Z",
     "iopub.status.busy": "2023-02-26T06:08:45.563771Z",
     "iopub.status.idle": "2023-02-26T06:08:45.588871Z",
     "shell.execute_reply": "2023-02-26T06:08:45.587479Z",
     "shell.execute_reply.started": "2023-02-26T06:08:45.564803Z"
    }
   },
   "outputs": [
    {
     "data": {
      "text/plain": [
       "Id              0\n",
       "MSSubClass      0\n",
       "MSZoning        0\n",
       "LotFrontage     0\n",
       "LotArea         0\n",
       "Street          0\n",
       "Alley           0\n",
       "LotShape        0\n",
       "LandContour     0\n",
       "Utilities       0\n",
       "LotConfig       0\n",
       "LandSlope       0\n",
       "Neighborhood    0\n",
       "Condition1      0\n",
       "Condition2      0\n",
       "BldgType        0\n",
       "HouseStyle      0\n",
       "OverallQual     0\n",
       "OverallCond     0\n",
       "YearBuilt       0\n",
       "YearRemodAdd    0\n",
       "RoofStyle       0\n",
       "RoofMatl        0\n",
       "Exterior1st     0\n",
       "Exterior2nd     0\n",
       "MasVnrType      8\n",
       "MasVnrArea      8\n",
       "ExterQual       0\n",
       "ExterCond       0\n",
       "Foundation      0\n",
       "BsmtQual        0\n",
       "BsmtCond        0\n",
       "BsmtExposure    0\n",
       "BsmtFinType1    0\n",
       "BsmtFinSF1      0\n",
       "BsmtFinType2    0\n",
       "BsmtFinSF2      0\n",
       "BsmtUnfSF       0\n",
       "TotalBsmtSF     0\n",
       "Heating         0\n",
       "dtype: int64"
      ]
     },
     "execution_count": 41,
     "metadata": {},
     "output_type": "execute_result"
    }
   ],
   "source": [
    "dataset.isnull().sum().head(40)"
   ]
  },
  {
   "cell_type": "code",
   "execution_count": 42,
   "metadata": {
    "execution": {
     "iopub.execute_input": "2023-02-26T06:08:45.591349Z",
     "iopub.status.busy": "2023-02-26T06:08:45.590331Z",
     "iopub.status.idle": "2023-02-26T06:08:45.611279Z",
     "shell.execute_reply": "2023-02-26T06:08:45.609967Z",
     "shell.execute_reply.started": "2023-02-26T06:08:45.591285Z"
    }
   },
   "outputs": [
    {
     "data": {
      "text/plain": [
       "CentralAir       0\n",
       "Electrical       0\n",
       "1stFlrSF         0\n",
       "2ndFlrSF         0\n",
       "LowQualFinSF     0\n",
       "GrLivArea        0\n",
       "BsmtFullBath     0\n",
       "BsmtHalfBath     0\n",
       "FullBath         0\n",
       "HalfBath         0\n",
       "BedroomAbvGr     0\n",
       "KitchenAbvGr     0\n",
       "KitchenQual      0\n",
       "TotRmsAbvGrd     0\n",
       "Functional       0\n",
       "Fireplaces       0\n",
       "FireplaceQu      0\n",
       "GarageType       0\n",
       "GarageYrBlt      0\n",
       "GarageFinish     0\n",
       "GarageCars       0\n",
       "GarageArea       0\n",
       "GarageQual       0\n",
       "GarageCond       0\n",
       "PavedDrive       0\n",
       "WoodDeckSF       0\n",
       "OpenPorchSF      0\n",
       "EnclosedPorch    0\n",
       "3SsnPorch        0\n",
       "ScreenPorch      0\n",
       "PoolArea         0\n",
       "PoolQC           0\n",
       "Fence            0\n",
       "MiscFeature      0\n",
       "MiscVal          0\n",
       "MoSold           0\n",
       "YrSold           0\n",
       "SaleType         0\n",
       "SaleCondition    0\n",
       "SalePrice        0\n",
       "dtype: int64"
      ]
     },
     "execution_count": 42,
     "metadata": {},
     "output_type": "execute_result"
    }
   ],
   "source": [
    "dataset.isnull().sum().tail(40)"
   ]
  },
  {
   "cell_type": "markdown",
   "metadata": {},
   "source": [
    "### Convertng String Dataset from Numerical Values(Label Encoding)"
   ]
  },
  {
   "cell_type": "code",
   "execution_count": 43,
   "metadata": {
    "execution": {
     "iopub.execute_input": "2023-02-26T06:08:45.613643Z",
     "iopub.status.busy": "2023-02-26T06:08:45.612979Z",
     "iopub.status.idle": "2023-02-26T06:08:45.640232Z",
     "shell.execute_reply": "2023-02-26T06:08:45.639215Z",
     "shell.execute_reply.started": "2023-02-26T06:08:45.613597Z"
    }
   },
   "outputs": [
    {
     "name": "stdout",
     "output_type": "stream",
     "text": [
      "<class 'pandas.core.frame.DataFrame'>\n",
      "RangeIndex: 1460 entries, 0 to 1459\n",
      "Data columns (total 81 columns):\n",
      " #   Column         Non-Null Count  Dtype  \n",
      "---  ------         --------------  -----  \n",
      " 0   Id             1460 non-null   int64  \n",
      " 1   MSSubClass     1460 non-null   int64  \n",
      " 2   MSZoning       1460 non-null   object \n",
      " 3   LotFrontage    1460 non-null   float64\n",
      " 4   LotArea        1460 non-null   int64  \n",
      " 5   Street         1460 non-null   object \n",
      " 6   Alley          1460 non-null   object \n",
      " 7   LotShape       1460 non-null   object \n",
      " 8   LandContour    1460 non-null   object \n",
      " 9   Utilities      1460 non-null   object \n",
      " 10  LotConfig      1460 non-null   object \n",
      " 11  LandSlope      1460 non-null   object \n",
      " 12  Neighborhood   1460 non-null   object \n",
      " 13  Condition1     1460 non-null   object \n",
      " 14  Condition2     1460 non-null   object \n",
      " 15  BldgType       1460 non-null   object \n",
      " 16  HouseStyle     1460 non-null   object \n",
      " 17  OverallQual    1460 non-null   int64  \n",
      " 18  OverallCond    1460 non-null   int64  \n",
      " 19  YearBuilt      1460 non-null   int64  \n",
      " 20  YearRemodAdd   1460 non-null   int64  \n",
      " 21  RoofStyle      1460 non-null   object \n",
      " 22  RoofMatl       1460 non-null   object \n",
      " 23  Exterior1st    1460 non-null   object \n",
      " 24  Exterior2nd    1460 non-null   object \n",
      " 25  MasVnrType     1452 non-null   object \n",
      " 26  MasVnrArea     1452 non-null   float64\n",
      " 27  ExterQual      1460 non-null   object \n",
      " 28  ExterCond      1460 non-null   object \n",
      " 29  Foundation     1460 non-null   object \n",
      " 30  BsmtQual       1460 non-null   object \n",
      " 31  BsmtCond       1460 non-null   object \n",
      " 32  BsmtExposure   1460 non-null   object \n",
      " 33  BsmtFinType1   1460 non-null   object \n",
      " 34  BsmtFinSF1     1460 non-null   int64  \n",
      " 35  BsmtFinType2   1460 non-null   object \n",
      " 36  BsmtFinSF2     1460 non-null   int64  \n",
      " 37  BsmtUnfSF      1460 non-null   int64  \n",
      " 38  TotalBsmtSF    1460 non-null   int64  \n",
      " 39  Heating        1460 non-null   object \n",
      " 40  HeatingQC      1460 non-null   object \n",
      " 41  CentralAir     1460 non-null   object \n",
      " 42  Electrical     1460 non-null   object \n",
      " 43  1stFlrSF       1460 non-null   int64  \n",
      " 44  2ndFlrSF       1460 non-null   int64  \n",
      " 45  LowQualFinSF   1460 non-null   int64  \n",
      " 46  GrLivArea      1460 non-null   int64  \n",
      " 47  BsmtFullBath   1460 non-null   int64  \n",
      " 48  BsmtHalfBath   1460 non-null   int64  \n",
      " 49  FullBath       1460 non-null   int64  \n",
      " 50  HalfBath       1460 non-null   int64  \n",
      " 51  BedroomAbvGr   1460 non-null   int64  \n",
      " 52  KitchenAbvGr   1460 non-null   int64  \n",
      " 53  KitchenQual    1460 non-null   object \n",
      " 54  TotRmsAbvGrd   1460 non-null   int64  \n",
      " 55  Functional     1460 non-null   object \n",
      " 56  Fireplaces     1460 non-null   int64  \n",
      " 57  FireplaceQu    1460 non-null   object \n",
      " 58  GarageType     1460 non-null   object \n",
      " 59  GarageYrBlt    1460 non-null   object \n",
      " 60  GarageFinish   1460 non-null   object \n",
      " 61  GarageCars     1460 non-null   int64  \n",
      " 62  GarageArea     1460 non-null   int64  \n",
      " 63  GarageQual     1460 non-null   object \n",
      " 64  GarageCond     1460 non-null   object \n",
      " 65  PavedDrive     1460 non-null   object \n",
      " 66  WoodDeckSF     1460 non-null   int64  \n",
      " 67  OpenPorchSF    1460 non-null   int64  \n",
      " 68  EnclosedPorch  1460 non-null   int64  \n",
      " 69  3SsnPorch      1460 non-null   int64  \n",
      " 70  ScreenPorch    1460 non-null   int64  \n",
      " 71  PoolArea       1460 non-null   int64  \n",
      " 72  PoolQC         1460 non-null   object \n",
      " 73  Fence          1460 non-null   object \n",
      " 74  MiscFeature    1460 non-null   object \n",
      " 75  MiscVal        1460 non-null   int64  \n",
      " 76  MoSold         1460 non-null   int64  \n",
      " 77  YrSold         1460 non-null   int64  \n",
      " 78  SaleType       1460 non-null   object \n",
      " 79  SaleCondition  1460 non-null   object \n",
      " 80  SalePrice      1460 non-null   int64  \n",
      "dtypes: float64(2), int64(35), object(44)\n",
      "memory usage: 924.0+ KB\n"
     ]
    }
   ],
   "source": [
    "dataset.info()"
   ]
  },
  {
   "cell_type": "code",
   "execution_count": 44,
   "metadata": {
    "execution": {
     "iopub.execute_input": "2023-02-26T06:08:45.642461Z",
     "iopub.status.busy": "2023-02-26T06:08:45.641801Z",
     "iopub.status.idle": "2023-02-26T06:08:46.956789Z",
     "shell.execute_reply": "2023-02-26T06:08:46.955118Z",
     "shell.execute_reply.started": "2023-02-26T06:08:45.642422Z"
    }
   },
   "outputs": [],
   "source": [
    "from sklearn.preprocessing import LabelEncoder\n",
    "l1=LabelEncoder()"
   ]
  },
  {
   "cell_type": "code",
   "execution_count": 45,
   "metadata": {
    "execution": {
     "iopub.execute_input": "2023-02-26T06:08:46.963599Z",
     "iopub.status.busy": "2023-02-26T06:08:46.962574Z",
     "iopub.status.idle": "2023-02-26T06:08:46.973259Z",
     "shell.execute_reply": "2023-02-26T06:08:46.971739Z",
     "shell.execute_reply.started": "2023-02-26T06:08:46.963555Z"
    }
   },
   "outputs": [],
   "source": [
    "dataset[\"MSZoning\"]=l1.fit_transform(dataset[\"MSZoning\"])"
   ]
  },
  {
   "cell_type": "code",
   "execution_count": 46,
   "metadata": {
    "execution": {
     "iopub.execute_input": "2023-02-26T06:08:46.976377Z",
     "iopub.status.busy": "2023-02-26T06:08:46.974948Z",
     "iopub.status.idle": "2023-02-26T06:08:46.998168Z",
     "shell.execute_reply": "2023-02-26T06:08:46.997056Z",
     "shell.execute_reply.started": "2023-02-26T06:08:46.976331Z"
    }
   },
   "outputs": [
    {
     "data": {
      "text/plain": [
       "3    1151\n",
       "4     218\n",
       "1      65\n",
       "2      16\n",
       "0      10\n",
       "Name: MSZoning, dtype: int64"
      ]
     },
     "execution_count": 46,
     "metadata": {},
     "output_type": "execute_result"
    }
   ],
   "source": [
    "dataset[\"MSZoning\"].value_counts()"
   ]
  },
  {
   "cell_type": "code",
   "execution_count": 47,
   "metadata": {
    "execution": {
     "iopub.execute_input": "2023-02-26T06:08:47.000898Z",
     "iopub.status.busy": "2023-02-26T06:08:46.999852Z",
     "iopub.status.idle": "2023-02-26T06:08:47.044542Z",
     "shell.execute_reply": "2023-02-26T06:08:47.043107Z",
     "shell.execute_reply.started": "2023-02-26T06:08:47.000856Z"
    }
   },
   "outputs": [],
   "source": [
    "dataset[\"Street\"]=l1.fit_transform(dataset[\"Street\"])\n",
    "dataset[\"Alley\"]=l1.fit_transform(dataset[\"Alley\"])\n",
    "dataset[\"LotShape\"]=l1.fit_transform(dataset[\"LotShape\"])\n",
    "dataset[\"LandContour\"]=l1.fit_transform(dataset[\"LandContour\"])\n",
    "dataset[\"Utilities\"]=l1.fit_transform(dataset[\"Utilities\"])\n",
    "dataset[\"LotConfig\"]=l1.fit_transform(dataset[\"LotConfig\"])\n",
    "dataset[\"Neighborhood\"]=l1.fit_transform(dataset[\"Neighborhood\"])\n",
    "dataset[\"LandSlope\"]=l1.fit_transform(dataset[\"LandSlope\"])\n",
    "dataset[\"Condition1\"]=l1.fit_transform(dataset[\"Condition1\"])\n",
    "dataset[\"Condition2\"]=l1.fit_transform(dataset[\"Condition2\"])\n",
    "dataset[\"BldgType\"]=l1.fit_transform(dataset[\"BldgType\"])\n",
    "dataset[\"HouseStyle\"]=l1.fit_transform(dataset[\"HouseStyle\"])\n",
    "dataset[\"RoofStyle\"]=l1.fit_transform(dataset[\"RoofStyle\"])\n",
    "dataset[\"RoofMatl\"]=l1.fit_transform(dataset[\"RoofMatl\"])\n",
    "dataset[\"Exterior1st\"]=l1.fit_transform(dataset[\"Exterior1st\"])\n",
    "dataset[\"Exterior2nd\"]=l1.fit_transform(dataset[\"Exterior2nd\"])\n",
    "dataset[\"MasVnrType\"]=l1.fit_transform(dataset[\"MasVnrType\"])\n",
    "dataset[\"ExterQual\"]=l1.fit_transform(dataset[\"ExterQual\"])\n",
    "dataset[\"ExterCond\"]=l1.fit_transform(dataset[\"ExterCond\"])\n",
    "dataset[\"BsmtExposure\"]=l1.fit_transform(dataset[\"BsmtExposure\"])"
   ]
  },
  {
   "cell_type": "code",
   "execution_count": 48,
   "metadata": {
    "execution": {
     "iopub.execute_input": "2023-02-26T06:08:47.046786Z",
     "iopub.status.busy": "2023-02-26T06:08:47.046251Z",
     "iopub.status.idle": "2023-02-26T06:08:47.076839Z",
     "shell.execute_reply": "2023-02-26T06:08:47.075058Z",
     "shell.execute_reply.started": "2023-02-26T06:08:47.046737Z"
    }
   },
   "outputs": [
    {
     "name": "stdout",
     "output_type": "stream",
     "text": [
      "<class 'pandas.core.frame.DataFrame'>\n",
      "RangeIndex: 1460 entries, 0 to 1459\n",
      "Data columns (total 81 columns):\n",
      " #   Column         Non-Null Count  Dtype  \n",
      "---  ------         --------------  -----  \n",
      " 0   Id             1460 non-null   int64  \n",
      " 1   MSSubClass     1460 non-null   int64  \n",
      " 2   MSZoning       1460 non-null   int32  \n",
      " 3   LotFrontage    1460 non-null   float64\n",
      " 4   LotArea        1460 non-null   int64  \n",
      " 5   Street         1460 non-null   int32  \n",
      " 6   Alley          1460 non-null   int32  \n",
      " 7   LotShape       1460 non-null   int32  \n",
      " 8   LandContour    1460 non-null   int32  \n",
      " 9   Utilities      1460 non-null   int32  \n",
      " 10  LotConfig      1460 non-null   int32  \n",
      " 11  LandSlope      1460 non-null   int32  \n",
      " 12  Neighborhood   1460 non-null   int32  \n",
      " 13  Condition1     1460 non-null   int32  \n",
      " 14  Condition2     1460 non-null   int32  \n",
      " 15  BldgType       1460 non-null   int32  \n",
      " 16  HouseStyle     1460 non-null   int32  \n",
      " 17  OverallQual    1460 non-null   int64  \n",
      " 18  OverallCond    1460 non-null   int64  \n",
      " 19  YearBuilt      1460 non-null   int64  \n",
      " 20  YearRemodAdd   1460 non-null   int64  \n",
      " 21  RoofStyle      1460 non-null   int32  \n",
      " 22  RoofMatl       1460 non-null   int32  \n",
      " 23  Exterior1st    1460 non-null   int32  \n",
      " 24  Exterior2nd    1460 non-null   int32  \n",
      " 25  MasVnrType     1460 non-null   int32  \n",
      " 26  MasVnrArea     1452 non-null   float64\n",
      " 27  ExterQual      1460 non-null   int32  \n",
      " 28  ExterCond      1460 non-null   int32  \n",
      " 29  Foundation     1460 non-null   object \n",
      " 30  BsmtQual       1460 non-null   object \n",
      " 31  BsmtCond       1460 non-null   object \n",
      " 32  BsmtExposure   1460 non-null   int32  \n",
      " 33  BsmtFinType1   1460 non-null   object \n",
      " 34  BsmtFinSF1     1460 non-null   int64  \n",
      " 35  BsmtFinType2   1460 non-null   object \n",
      " 36  BsmtFinSF2     1460 non-null   int64  \n",
      " 37  BsmtUnfSF      1460 non-null   int64  \n",
      " 38  TotalBsmtSF    1460 non-null   int64  \n",
      " 39  Heating        1460 non-null   object \n",
      " 40  HeatingQC      1460 non-null   object \n",
      " 41  CentralAir     1460 non-null   object \n",
      " 42  Electrical     1460 non-null   object \n",
      " 43  1stFlrSF       1460 non-null   int64  \n",
      " 44  2ndFlrSF       1460 non-null   int64  \n",
      " 45  LowQualFinSF   1460 non-null   int64  \n",
      " 46  GrLivArea      1460 non-null   int64  \n",
      " 47  BsmtFullBath   1460 non-null   int64  \n",
      " 48  BsmtHalfBath   1460 non-null   int64  \n",
      " 49  FullBath       1460 non-null   int64  \n",
      " 50  HalfBath       1460 non-null   int64  \n",
      " 51  BedroomAbvGr   1460 non-null   int64  \n",
      " 52  KitchenAbvGr   1460 non-null   int64  \n",
      " 53  KitchenQual    1460 non-null   object \n",
      " 54  TotRmsAbvGrd   1460 non-null   int64  \n",
      " 55  Functional     1460 non-null   object \n",
      " 56  Fireplaces     1460 non-null   int64  \n",
      " 57  FireplaceQu    1460 non-null   object \n",
      " 58  GarageType     1460 non-null   object \n",
      " 59  GarageYrBlt    1460 non-null   object \n",
      " 60  GarageFinish   1460 non-null   object \n",
      " 61  GarageCars     1460 non-null   int64  \n",
      " 62  GarageArea     1460 non-null   int64  \n",
      " 63  GarageQual     1460 non-null   object \n",
      " 64  GarageCond     1460 non-null   object \n",
      " 65  PavedDrive     1460 non-null   object \n",
      " 66  WoodDeckSF     1460 non-null   int64  \n",
      " 67  OpenPorchSF    1460 non-null   int64  \n",
      " 68  EnclosedPorch  1460 non-null   int64  \n",
      " 69  3SsnPorch      1460 non-null   int64  \n",
      " 70  ScreenPorch    1460 non-null   int64  \n",
      " 71  PoolArea       1460 non-null   int64  \n",
      " 72  PoolQC         1460 non-null   object \n",
      " 73  Fence          1460 non-null   object \n",
      " 74  MiscFeature    1460 non-null   object \n",
      " 75  MiscVal        1460 non-null   int64  \n",
      " 76  MoSold         1460 non-null   int64  \n",
      " 77  YrSold         1460 non-null   int64  \n",
      " 78  SaleType       1460 non-null   object \n",
      " 79  SaleCondition  1460 non-null   object \n",
      " 80  SalePrice      1460 non-null   int64  \n",
      "dtypes: float64(2), int32(21), int64(35), object(23)\n",
      "memory usage: 804.3+ KB\n"
     ]
    }
   ],
   "source": [
    "dataset.info()"
   ]
  },
  {
   "cell_type": "code",
   "execution_count": 49,
   "metadata": {
    "execution": {
     "iopub.execute_input": "2023-02-26T06:08:47.079609Z",
     "iopub.status.busy": "2023-02-26T06:08:47.078542Z",
     "iopub.status.idle": "2023-02-26T06:08:47.125914Z",
     "shell.execute_reply": "2023-02-26T06:08:47.124472Z",
     "shell.execute_reply.started": "2023-02-26T06:08:47.079554Z"
    }
   },
   "outputs": [],
   "source": [
    "dataset[\"Foundation\"]=l1.fit_transform(dataset[\"Foundation\"])\n",
    "dataset[\"BsmtQual\"]=l1.fit_transform(dataset[\"BsmtQual\"])\n",
    "dataset[\"BsmtCond\"]=l1.fit_transform(dataset[\"BsmtCond\"])\n",
    "dataset[\"BsmtFinType1\"]=l1.fit_transform(dataset[\"BsmtFinType1\"])\n",
    "dataset[\"BsmtFinType2\"]=l1.fit_transform(dataset[\"BsmtFinType2\"])\n",
    "dataset[\"Heating\"]=l1.fit_transform(dataset[\"Heating\"])\n",
    "dataset[\"HeatingQC\"]=l1.fit_transform(dataset[\"HeatingQC\"])\n",
    "dataset[\"CentralAir\"]=l1.fit_transform(dataset[\"CentralAir\"])\n",
    "dataset[\"Electrical\"]=l1.fit_transform(dataset[\"Electrical\"])\n",
    "dataset[\"KitchenQual\"]=l1.fit_transform(dataset[\"KitchenQual\"])\n",
    "dataset[\"Functional\"]=l1.fit_transform(dataset[\"Functional\"])\n",
    "dataset[\"FireplaceQu\"]=l1.fit_transform(dataset[\"FireplaceQu\"])\n",
    "dataset[\"GarageType\"]=l1.fit_transform(dataset[\"GarageType\"])\n",
    "#dataset[\"GarageYrBlt\"]=l1.fit_transform(dataset[\"GarageYrBlt\"])\n",
    "dataset[\"GarageFinish\"]=l1.fit_transform(dataset[\"GarageFinish\"])\n",
    "dataset[\"GarageQual\"]=l1.fit_transform(dataset[\"GarageQual\"])\n",
    "dataset[\"GarageCond\"]=l1.fit_transform(dataset[\"GarageCond\"])\n",
    "dataset[\"PavedDrive\"]=l1.fit_transform(dataset[\"PavedDrive\"])\n",
    "dataset[\"PoolQC\"]=l1.fit_transform(dataset[\"PoolQC\"])\n",
    "dataset[\"Fence\"]=l1.fit_transform(dataset[\"Fence\"])\n",
    "dataset[\"MiscFeature\"]=l1.fit_transform(dataset[\"MiscFeature\"])\n",
    "dataset[\"SaleType\"]=l1.fit_transform(dataset[\"SaleType\"])\n",
    "dataset[\"SaleCondition\"]=l1.fit_transform(dataset[\"SaleCondition\"])"
   ]
  },
  {
   "cell_type": "code",
   "execution_count": 50,
   "metadata": {
    "execution": {
     "iopub.execute_input": "2023-02-26T06:08:47.128796Z",
     "iopub.status.busy": "2023-02-26T06:08:47.127959Z",
     "iopub.status.idle": "2023-02-26T06:08:47.176709Z",
     "shell.execute_reply": "2023-02-26T06:08:47.174565Z",
     "shell.execute_reply.started": "2023-02-26T06:08:47.128741Z"
    }
   },
   "outputs": [
    {
     "name": "stdout",
     "output_type": "stream",
     "text": [
      "<class 'pandas.core.frame.DataFrame'>\n",
      "RangeIndex: 1460 entries, 0 to 1459\n",
      "Data columns (total 81 columns):\n",
      " #   Column         Non-Null Count  Dtype  \n",
      "---  ------         --------------  -----  \n",
      " 0   Id             1460 non-null   int64  \n",
      " 1   MSSubClass     1460 non-null   int64  \n",
      " 2   MSZoning       1460 non-null   int32  \n",
      " 3   LotFrontage    1460 non-null   float64\n",
      " 4   LotArea        1460 non-null   int64  \n",
      " 5   Street         1460 non-null   int32  \n",
      " 6   Alley          1460 non-null   int32  \n",
      " 7   LotShape       1460 non-null   int32  \n",
      " 8   LandContour    1460 non-null   int32  \n",
      " 9   Utilities      1460 non-null   int32  \n",
      " 10  LotConfig      1460 non-null   int32  \n",
      " 11  LandSlope      1460 non-null   int32  \n",
      " 12  Neighborhood   1460 non-null   int32  \n",
      " 13  Condition1     1460 non-null   int32  \n",
      " 14  Condition2     1460 non-null   int32  \n",
      " 15  BldgType       1460 non-null   int32  \n",
      " 16  HouseStyle     1460 non-null   int32  \n",
      " 17  OverallQual    1460 non-null   int64  \n",
      " 18  OverallCond    1460 non-null   int64  \n",
      " 19  YearBuilt      1460 non-null   int64  \n",
      " 20  YearRemodAdd   1460 non-null   int64  \n",
      " 21  RoofStyle      1460 non-null   int32  \n",
      " 22  RoofMatl       1460 non-null   int32  \n",
      " 23  Exterior1st    1460 non-null   int32  \n",
      " 24  Exterior2nd    1460 non-null   int32  \n",
      " 25  MasVnrType     1460 non-null   int32  \n",
      " 26  MasVnrArea     1452 non-null   float64\n",
      " 27  ExterQual      1460 non-null   int32  \n",
      " 28  ExterCond      1460 non-null   int32  \n",
      " 29  Foundation     1460 non-null   int32  \n",
      " 30  BsmtQual       1460 non-null   int32  \n",
      " 31  BsmtCond       1460 non-null   int32  \n",
      " 32  BsmtExposure   1460 non-null   int32  \n",
      " 33  BsmtFinType1   1460 non-null   int32  \n",
      " 34  BsmtFinSF1     1460 non-null   int64  \n",
      " 35  BsmtFinType2   1460 non-null   int32  \n",
      " 36  BsmtFinSF2     1460 non-null   int64  \n",
      " 37  BsmtUnfSF      1460 non-null   int64  \n",
      " 38  TotalBsmtSF    1460 non-null   int64  \n",
      " 39  Heating        1460 non-null   int32  \n",
      " 40  HeatingQC      1460 non-null   int32  \n",
      " 41  CentralAir     1460 non-null   int32  \n",
      " 42  Electrical     1460 non-null   int32  \n",
      " 43  1stFlrSF       1460 non-null   int64  \n",
      " 44  2ndFlrSF       1460 non-null   int64  \n",
      " 45  LowQualFinSF   1460 non-null   int64  \n",
      " 46  GrLivArea      1460 non-null   int64  \n",
      " 47  BsmtFullBath   1460 non-null   int64  \n",
      " 48  BsmtHalfBath   1460 non-null   int64  \n",
      " 49  FullBath       1460 non-null   int64  \n",
      " 50  HalfBath       1460 non-null   int64  \n",
      " 51  BedroomAbvGr   1460 non-null   int64  \n",
      " 52  KitchenAbvGr   1460 non-null   int64  \n",
      " 53  KitchenQual    1460 non-null   int32  \n",
      " 54  TotRmsAbvGrd   1460 non-null   int64  \n",
      " 55  Functional     1460 non-null   int32  \n",
      " 56  Fireplaces     1460 non-null   int64  \n",
      " 57  FireplaceQu    1460 non-null   int32  \n",
      " 58  GarageType     1460 non-null   int32  \n",
      " 59  GarageYrBlt    1460 non-null   object \n",
      " 60  GarageFinish   1460 non-null   int32  \n",
      " 61  GarageCars     1460 non-null   int64  \n",
      " 62  GarageArea     1460 non-null   int64  \n",
      " 63  GarageQual     1460 non-null   int32  \n",
      " 64  GarageCond     1460 non-null   int32  \n",
      " 65  PavedDrive     1460 non-null   int32  \n",
      " 66  WoodDeckSF     1460 non-null   int64  \n",
      " 67  OpenPorchSF    1460 non-null   int64  \n",
      " 68  EnclosedPorch  1460 non-null   int64  \n",
      " 69  3SsnPorch      1460 non-null   int64  \n",
      " 70  ScreenPorch    1460 non-null   int64  \n",
      " 71  PoolArea       1460 non-null   int64  \n",
      " 72  PoolQC         1460 non-null   int32  \n",
      " 73  Fence          1460 non-null   int32  \n",
      " 74  MiscFeature    1460 non-null   int32  \n",
      " 75  MiscVal        1460 non-null   int64  \n",
      " 76  MoSold         1460 non-null   int64  \n",
      " 77  YrSold         1460 non-null   int64  \n",
      " 78  SaleType       1460 non-null   int32  \n",
      " 79  SaleCondition  1460 non-null   int32  \n",
      " 80  SalePrice      1460 non-null   int64  \n",
      "dtypes: float64(2), int32(43), int64(35), object(1)\n",
      "memory usage: 678.8+ KB\n"
     ]
    }
   ],
   "source": [
    "dataset.info()"
   ]
  },
  {
   "cell_type": "code",
   "execution_count": 51,
   "metadata": {
    "execution": {
     "iopub.execute_input": "2023-02-26T06:08:47.180286Z",
     "iopub.status.busy": "2023-02-26T06:08:47.179543Z",
     "iopub.status.idle": "2023-02-26T06:08:47.190874Z",
     "shell.execute_reply": "2023-02-26T06:08:47.188266Z",
     "shell.execute_reply.started": "2023-02-26T06:08:47.180231Z"
    }
   },
   "outputs": [
    {
     "data": {
      "text/plain": [
       "0       2003.0\n",
       "1       1976.0\n",
       "2       2001.0\n",
       "3       1998.0\n",
       "4       2000.0\n",
       "         ...  \n",
       "1455    1999.0\n",
       "1456    1978.0\n",
       "1457    1941.0\n",
       "1458    1950.0\n",
       "1459    1965.0\n",
       "Name: GarageYrBlt, Length: 1460, dtype: object"
      ]
     },
     "execution_count": 51,
     "metadata": {},
     "output_type": "execute_result"
    }
   ],
   "source": [
    "dataset[\"GarageYrBlt\"]"
   ]
  },
  {
   "cell_type": "code",
   "execution_count": 52,
   "metadata": {
    "execution": {
     "iopub.execute_input": "2023-02-26T06:08:47.195930Z",
     "iopub.status.busy": "2023-02-26T06:08:47.194668Z",
     "iopub.status.idle": "2023-02-26T06:08:47.209078Z",
     "shell.execute_reply": "2023-02-26T06:08:47.207484Z",
     "shell.execute_reply.started": "2023-02-26T06:08:47.195868Z"
    }
   },
   "outputs": [],
   "source": [
    "dataset['GarageYrBlt'] = dataset['GarageYrBlt'].astype(str)"
   ]
  },
  {
   "cell_type": "code",
   "execution_count": 53,
   "metadata": {
    "execution": {
     "iopub.execute_input": "2023-02-26T06:08:47.212182Z",
     "iopub.status.busy": "2023-02-26T06:08:47.211668Z",
     "iopub.status.idle": "2023-02-26T06:08:47.245574Z",
     "shell.execute_reply": "2023-02-26T06:08:47.243719Z",
     "shell.execute_reply.started": "2023-02-26T06:08:47.212134Z"
    }
   },
   "outputs": [
    {
     "data": {
      "text/plain": [
       "['2003',\n",
       " '1976',\n",
       " '2001',\n",
       " '1998',\n",
       " '2000',\n",
       " '1993',\n",
       " '2004',\n",
       " '1973',\n",
       " '1931',\n",
       " '1939',\n",
       " '1965',\n",
       " '2005',\n",
       " '1962',\n",
       " '2006',\n",
       " '1960',\n",
       " '1991',\n",
       " '1970',\n",
       " '1967',\n",
       " '2004',\n",
       " '1958',\n",
       " '2005',\n",
       " '1930',\n",
       " '2002',\n",
       " '1976',\n",
       " '1968',\n",
       " '2007',\n",
       " '2005',\n",
       " '2008',\n",
       " '1957',\n",
       " '1920',\n",
       " '1920',\n",
       " '1966',\n",
       " '2007',\n",
       " '1959',\n",
       " '2005',\n",
       " '2004',\n",
       " '1995',\n",
       " '1954',\n",
       " '1953',\n",
       " '1978.',\n",
       " '1965',\n",
       " '1959',\n",
       " '1983',\n",
       " '1977',\n",
       " '1959',\n",
       " '2005',\n",
       " '2003',\n",
       " '2006',\n",
       " '1978.',\n",
       " '1966',\n",
       " '1997',\n",
       " '1985',\n",
       " '1963',\n",
       " '1981',\n",
       " '1962',\n",
       " '1964',\n",
       " '1999',\n",
       " '2004',\n",
       " '2006',\n",
       " '1973',\n",
       " '2006',\n",
       " '1935',\n",
       " '2006',\n",
       " '1990',\n",
       " '1998',\n",
       " '2004',\n",
       " '1970',\n",
       " '2003',\n",
       " '1945',\n",
       " '1953',\n",
       " '1973',\n",
       " '1987',\n",
       " '1998',\n",
       " '1989',\n",
       " '1915',\n",
       " '1973',\n",
       " '1956',\n",
       " '1948',\n",
       " '1978.',\n",
       " '1966',\n",
       " '1968',\n",
       " '1998',\n",
       " '2007',\n",
       " '1974',\n",
       " '1995',\n",
       " '1991',\n",
       " '2005',\n",
       " '2009',\n",
       " '1978.',\n",
       " '1978.',\n",
       " '1950',\n",
       " '1961',\n",
       " '1921',\n",
       " '1900',\n",
       " '1997',\n",
       " '1993',\n",
       " '1999',\n",
       " '1965',\n",
       " '1920',\n",
       " '1978.',\n",
       " '1977',\n",
       " '1985',\n",
       " '1979',\n",
       " '2009',\n",
       " '1951',\n",
       " '2003',\n",
       " '1954',\n",
       " '1948',\n",
       " '1978.',\n",
       " '1977',\n",
       " '1954',\n",
       " '2000',\n",
       " '2007',\n",
       " '1953',\n",
       " '1945',\n",
       " '1999',\n",
       " '1962',\n",
       " '2007',\n",
       " '1990',\n",
       " '2005',\n",
       " '1969',\n",
       " '1979',\n",
       " '1958',\n",
       " '1993',\n",
       " '1979',\n",
       " '1978.',\n",
       " '1977',\n",
       " '1978.',\n",
       " '1966',\n",
       " '1998',\n",
       " '1966',\n",
       " '2000',\n",
       " '1974',\n",
       " '2001',\n",
       " '1968',\n",
       " '1970',\n",
       " '1967',\n",
       " '1989',\n",
       " '1999',\n",
       " '1997',\n",
       " '1978.',\n",
       " '2005',\n",
       " '2000',\n",
       " '1999',\n",
       " '1963',\n",
       " '2004',\n",
       " '1931',\n",
       " '2001',\n",
       " '1978.',\n",
       " '1936',\n",
       " '1975',\n",
       " '2007',\n",
       " '1971',\n",
       " '1960',\n",
       " '1923',\n",
       " '1978.',\n",
       " '1950',\n",
       " '2009',\n",
       " '2004',\n",
       " '2006',\n",
       " '1984',\n",
       " '2003',\n",
       " '2005',\n",
       " '1978.',\n",
       " '1926',\n",
       " '1978.',\n",
       " '1955',\n",
       " '2007',\n",
       " '2004',\n",
       " '1981',\n",
       " '1991',\n",
       " '1960',\n",
       " '1987',\n",
       " '1961',\n",
       " '1986',\n",
       " '1950',\n",
       " '1988',\n",
       " '1958',\n",
       " '2009',\n",
       " '1935',\n",
       " '2000',\n",
       " '1920',\n",
       " '1957',\n",
       " '2003',\n",
       " '1986',\n",
       " '1993',\n",
       " '1990',\n",
       " '1916',\n",
       " '1979',\n",
       " '2001',\n",
       " '1932',\n",
       " '1972',\n",
       " '1999',\n",
       " '2004',\n",
       " '1989',\n",
       " '1976',\n",
       " '2007',\n",
       " '1918',\n",
       " '1978.',\n",
       " '2004',\n",
       " '2003',\n",
       " '1980',\n",
       " '1924',\n",
       " '2004',\n",
       " '1948',\n",
       " '1990',\n",
       " '1962',\n",
       " '1960',\n",
       " '1988',\n",
       " '1964',\n",
       " '1978.',\n",
       " '2009',\n",
       " '2009',\n",
       " '1996',\n",
       " '1977',\n",
       " '1957',\n",
       " '2004',\n",
       " '1940',\n",
       " '1939',\n",
       " '2005',\n",
       " '2006',\n",
       " '2002',\n",
       " '1975',\n",
       " '1989',\n",
       " '2003',\n",
       " '1991',\n",
       " '1995',\n",
       " '1987',\n",
       " '1974',\n",
       " '2005',\n",
       " '1959',\n",
       " '1995',\n",
       " '1972',\n",
       " '1976',\n",
       " '2002',\n",
       " '1971',\n",
       " '2004',\n",
       " '1993',\n",
       " '2007',\n",
       " '1949',\n",
       " '2008',\n",
       " '1978.',\n",
       " '1940',\n",
       " '1980',\n",
       " '1994',\n",
       " '1988',\n",
       " '1910',\n",
       " '1954',\n",
       " '2003',\n",
       " '1958',\n",
       " '1978.',\n",
       " '2006',\n",
       " '2004',\n",
       " '1964',\n",
       " '1957',\n",
       " '1999',\n",
       " '2003',\n",
       " '2006',\n",
       " '2001',\n",
       " '1956',\n",
       " '1991',\n",
       " '2007',\n",
       " '1978',\n",
       " '1974',\n",
       " '1965',\n",
       " '1981',\n",
       " '1997',\n",
       " '1939',\n",
       " '1966',\n",
       " '1987',\n",
       " '2006',\n",
       " '1954',\n",
       " '1999',\n",
       " '1958',\n",
       " '1982',\n",
       " '1978',\n",
       " '2003',\n",
       " '1951',\n",
       " '2007',\n",
       " '1977',\n",
       " '1989',\n",
       " '2006',\n",
       " '2008',\n",
       " '2008',\n",
       " '1992',\n",
       " '2006',\n",
       " '1962',\n",
       " '1978.',\n",
       " '1970',\n",
       " '2003',\n",
       " '2006',\n",
       " '1978.',\n",
       " '1949',\n",
       " '1977',\n",
       " '1953',\n",
       " '1984',\n",
       " '1950',\n",
       " '1997',\n",
       " '1968',\n",
       " '1950',\n",
       " '1953',\n",
       " '1998',\n",
       " '2001',\n",
       " '1975',\n",
       " '2003',\n",
       " '2004',\n",
       " '1990',\n",
       " '1978.',\n",
       " '1961',\n",
       " '2003',\n",
       " '1993',\n",
       " '1948',\n",
       " '1939',\n",
       " '1965',\n",
       " '1925',\n",
       " '2004',\n",
       " '1983',\n",
       " '2006',\n",
       " '1993',\n",
       " '1980',\n",
       " '2006',\n",
       " '2004',\n",
       " '1987',\n",
       " '1955',\n",
       " '1961',\n",
       " '1941',\n",
       " '1993',\n",
       " '1960',\n",
       " '1930',\n",
       " '1920',\n",
       " '2002',\n",
       " '1958',\n",
       " '2003',\n",
       " '2004',\n",
       " '1998',\n",
       " '1965',\n",
       " '2005',\n",
       " '2002',\n",
       " '1984',\n",
       " '1958',\n",
       " '2002',\n",
       " '1950',\n",
       " '1949',\n",
       " '2005',\n",
       " '1976',\n",
       " '1939',\n",
       " '1960',\n",
       " '1960',\n",
       " '2003',\n",
       " '2006',\n",
       " '2007',\n",
       " '1986',\n",
       " '1941',\n",
       " '2005',\n",
       " '1940',\n",
       " '1995',\n",
       " '1992',\n",
       " '1976',\n",
       " '1958',\n",
       " '1998',\n",
       " '1978',\n",
       " '1940',\n",
       " '2003',\n",
       " '1972',\n",
       " '1976',\n",
       " '1964',\n",
       " '1963',\n",
       " '1962',\n",
       " '1954',\n",
       " '1997',\n",
       " '2000',\n",
       " '1991',\n",
       " '1984',\n",
       " '1953',\n",
       " '2003',\n",
       " '1978.',\n",
       " '1998',\n",
       " '2004',\n",
       " '2010',\n",
       " '2000',\n",
       " '1924',\n",
       " '2006',\n",
       " '2006',\n",
       " '1950',\n",
       " '1992',\n",
       " '2004',\n",
       " '1978.',\n",
       " '1977',\n",
       " '1999',\n",
       " '2008',\n",
       " '1978',\n",
       " '2001',\n",
       " '1959',\n",
       " '1978.',\n",
       " '1940',\n",
       " '1956',\n",
       " '1985',\n",
       " '1962',\n",
       " '1920',\n",
       " '2007',\n",
       " '1996',\n",
       " '2005',\n",
       " '1940',\n",
       " '1998',\n",
       " '1995',\n",
       " '1993',\n",
       " '1936',\n",
       " '1960',\n",
       " '2006',\n",
       " '2008',\n",
       " '1958',\n",
       " '1955',\n",
       " '2009',\n",
       " '1927',\n",
       " '1993',\n",
       " '2007',\n",
       " '1978',\n",
       " '1918',\n",
       " '1940',\n",
       " '1968',\n",
       " '1997',\n",
       " '1977',\n",
       " '1954',\n",
       " '1998',\n",
       " '1956',\n",
       " '1947',\n",
       " '1989',\n",
       " '1964',\n",
       " '2007',\n",
       " '1988',\n",
       " '1971',\n",
       " '1978.',\n",
       " '1971',\n",
       " '1997',\n",
       " '1978.',\n",
       " '1996',\n",
       " '1990',\n",
       " '1926',\n",
       " '1990',\n",
       " '2005',\n",
       " '2008',\n",
       " '1978.',\n",
       " '1930',\n",
       " '2007',\n",
       " '1994',\n",
       " '1956',\n",
       " '1966',\n",
       " '1998',\n",
       " '1937',\n",
       " '1981',\n",
       " '1932',\n",
       " '1975',\n",
       " '1996',\n",
       " '2008',\n",
       " '1976',\n",
       " '1973',\n",
       " '1916',\n",
       " '1954',\n",
       " '1925',\n",
       " '1950',\n",
       " '2009',\n",
       " '1971',\n",
       " '1965',\n",
       " '1939',\n",
       " '1978.',\n",
       " '2004',\n",
       " '1970',\n",
       " '1942',\n",
       " '2006',\n",
       " '1993',\n",
       " '1985',\n",
       " '1977',\n",
       " '2005',\n",
       " '2006',\n",
       " '2000',\n",
       " '1996',\n",
       " '1997',\n",
       " '2006',\n",
       " '2007',\n",
       " '1995',\n",
       " '2004',\n",
       " '2003',\n",
       " '1915',\n",
       " '1998',\n",
       " '1963',\n",
       " '1950',\n",
       " '1965',\n",
       " '1971',\n",
       " '1970',\n",
       " '1970',\n",
       " '1976',\n",
       " '1941',\n",
       " '2006',\n",
       " '1964',\n",
       " '1938',\n",
       " '1978.',\n",
       " '1992',\n",
       " '1925',\n",
       " '1967',\n",
       " '1958',\n",
       " '1973',\n",
       " '2005',\n",
       " '1965',\n",
       " '1959',\n",
       " '1974',\n",
       " '1952',\n",
       " '1993',\n",
       " '2009',\n",
       " '1928',\n",
       " '1959',\n",
       " '1951',\n",
       " '2005',\n",
       " '1964',\n",
       " '1983',\n",
       " '1926',\n",
       " '2009',\n",
       " '1972',\n",
       " '1996',\n",
       " '1998',\n",
       " '1926',\n",
       " '1978.',\n",
       " '1957',\n",
       " '1950',\n",
       " '2007',\n",
       " '1996',\n",
       " '2005',\n",
       " '1956',\n",
       " '2008',\n",
       " '1978.',\n",
       " '1975',\n",
       " '1988',\n",
       " '1920',\n",
       " '1967',\n",
       " '1978.',\n",
       " '2004',\n",
       " '1978.',\n",
       " '1998',\n",
       " '1980',\n",
       " '1968',\n",
       " '2001',\n",
       " '2006',\n",
       " '2000',\n",
       " '1998',\n",
       " '1998',\n",
       " '2006',\n",
       " '1988',\n",
       " '1950',\n",
       " '1987',\n",
       " '1963',\n",
       " '2003',\n",
       " '1977',\n",
       " '1957',\n",
       " '2006',\n",
       " '2002',\n",
       " '2003',\n",
       " '1922',\n",
       " '1957',\n",
       " '1994',\n",
       " '1996',\n",
       " '2003',\n",
       " '1957',\n",
       " '1975',\n",
       " '1978.',\n",
       " '1955',\n",
       " '1992',\n",
       " '1920',\n",
       " '2005',\n",
       " '2004',\n",
       " '1983',\n",
       " '1979',\n",
       " '1987',\n",
       " '1959',\n",
       " '2009',\n",
       " '2000',\n",
       " '1971',\n",
       " '1947',\n",
       " '1928',\n",
       " '1966',\n",
       " '2007',\n",
       " '1954',\n",
       " '1960',\n",
       " '2009',\n",
       " '1978.',\n",
       " '1988',\n",
       " '1935',\n",
       " '2005',\n",
       " '1961',\n",
       " '1996',\n",
       " '1968',\n",
       " '1988',\n",
       " '2004',\n",
       " '2008',\n",
       " '1985',\n",
       " '2003',\n",
       " '1981',\n",
       " '2005',\n",
       " '1930',\n",
       " '2006',\n",
       " '1977',\n",
       " '1980',\n",
       " '2003',\n",
       " '1979',\n",
       " '1992',\n",
       " '2004',\n",
       " '2002',\n",
       " '1965',\n",
       " '2000',\n",
       " '1948',\n",
       " '1934',\n",
       " '1961',\n",
       " '2000',\n",
       " '1978',\n",
       " '2001',\n",
       " '1978.',\n",
       " '1978.',\n",
       " '1963',\n",
       " '2002',\n",
       " '1962',\n",
       " '2007',\n",
       " '2003',\n",
       " '1978.',\n",
       " '1974',\n",
       " '1986',\n",
       " '2000',\n",
       " '1972',\n",
       " '1962',\n",
       " '1960',\n",
       " '1955',\n",
       " '1969',\n",
       " '1964',\n",
       " '1937',\n",
       " '2006',\n",
       " '1977',\n",
       " '1954',\n",
       " '1980',\n",
       " '1978.',\n",
       " '1978.',\n",
       " '1954',\n",
       " '1978.',\n",
       " '2006',\n",
       " '2003',\n",
       " '2001',\n",
       " '1972',\n",
       " '1969',\n",
       " '2009',\n",
       " '1979',\n",
       " '1950',\n",
       " '1953',\n",
       " '1966',\n",
       " '1978.',\n",
       " '2007',\n",
       " '1940',\n",
       " '1996',\n",
       " '1906',\n",
       " '1995',\n",
       " '1971',\n",
       " '1959',\n",
       " '1931',\n",
       " '1948',\n",
       " '1968',\n",
       " '1976',\n",
       " '1994',\n",
       " '1968',\n",
       " '1974',\n",
       " '2005',\n",
       " '2000',\n",
       " '1965',\n",
       " '1994',\n",
       " '1999',\n",
       " '1922',\n",
       " '2005',\n",
       " '1930',\n",
       " '1977',\n",
       " '1957',\n",
       " '1965',\n",
       " '1978',\n",
       " '1920',\n",
       " '1924',\n",
       " '2008',\n",
       " '1963',\n",
       " '1980',\n",
       " '1968',\n",
       " '1996',\n",
       " '2002',\n",
       " '1998',\n",
       " '1984',\n",
       " '2007',\n",
       " '2004',\n",
       " '2007',\n",
       " '2005',\n",
       " '2004',\n",
       " '1994',\n",
       " '1989',\n",
       " '1968',\n",
       " '1995',\n",
       " '1987',\n",
       " '1921',\n",
       " '1952',\n",
       " '1973',\n",
       " '2004',\n",
       " '2002',\n",
       " '1969',\n",
       " '2006',\n",
       " '1999',\n",
       " '2004',\n",
       " '1978.',\n",
       " '1971',\n",
       " '2006',\n",
       " '2007',\n",
       " '1966',\n",
       " '1978.',\n",
       " '1964',\n",
       " '1988',\n",
       " '1970',\n",
       " '1976',\n",
       " '1974',\n",
       " '1996',\n",
       " '1973',\n",
       " '1993',\n",
       " '1969',\n",
       " '1985',\n",
       " '2004',\n",
       " '1994',\n",
       " '1958',\n",
       " '2007',\n",
       " '1989',\n",
       " '1988',\n",
       " '2007',\n",
       " '1968',\n",
       " '1962',\n",
       " '1995',\n",
       " '2003',\n",
       " '1998',\n",
       " '1961',\n",
       " '1968',\n",
       " '1914',\n",
       " '1949',\n",
       " '2005',\n",
       " '1978.',\n",
       " '2004',\n",
       " '1910',\n",
       " '1962',\n",
       " '2000',\n",
       " '1997',\n",
       " '1993',\n",
       " '1994',\n",
       " '2000',\n",
       " '1950',\n",
       " '1996',\n",
       " '1945',\n",
       " '1978.',\n",
       " '2003',\n",
       " '1997',\n",
       " '2005',\n",
       " '1969',\n",
       " '1999',\n",
       " '2007',\n",
       " '1978',\n",
       " '1999',\n",
       " '1995',\n",
       " '2008',\n",
       " '1965',\n",
       " '2009',\n",
       " '1999',\n",
       " '1995',\n",
       " '2008',\n",
       " '1988',\n",
       " '1989',\n",
       " '2004',\n",
       " '2003',\n",
       " '1983',\n",
       " '1951',\n",
       " '1976',\n",
       " '1958',\n",
       " '2006',\n",
       " '1998',\n",
       " '2005',\n",
       " '1974',\n",
       " '1977',\n",
       " '1977',\n",
       " '1995',\n",
       " '1992',\n",
       " '2001',\n",
       " '1978',\n",
       " '1978.',\n",
       " '1967',\n",
       " '1961',\n",
       " '2004',\n",
       " '1954',\n",
       " '1966',\n",
       " '2005',\n",
       " '1976',\n",
       " '1997',\n",
       " '2007',\n",
       " '1994',\n",
       " '1980',\n",
       " '1977',\n",
       " '1953',\n",
       " '2009',\n",
       " '1939',\n",
       " '1997',\n",
       " '1957',\n",
       " '2005',\n",
       " '2009',\n",
       " '1954',\n",
       " '2008',\n",
       " '1967',\n",
       " '1923',\n",
       " '1966',\n",
       " '1910',\n",
       " '1974',\n",
       " '2004',\n",
       " '1952',\n",
       " '1958',\n",
       " '1955',\n",
       " '1998',\n",
       " '1954',\n",
       " '2002',\n",
       " '1971',\n",
       " '2010',\n",
       " '2003',\n",
       " '1974',\n",
       " '2003',\n",
       " '1940',\n",
       " '2006',\n",
       " '2007',\n",
       " '1978.',\n",
       " '2001',\n",
       " '1967',\n",
       " '2005',\n",
       " '1957',\n",
       " '2005',\n",
       " '2003',\n",
       " '1964',\n",
       " '1961',\n",
       " '1996',\n",
       " '1948',\n",
       " '1973',\n",
       " '1999',\n",
       " '1946',\n",
       " '1934',\n",
       " '1983',\n",
       " '1966',\n",
       " '1978.',\n",
       " '1949',\n",
       " '1975',\n",
       " '1993',\n",
       " '1972',\n",
       " '1908',\n",
       " '1976',\n",
       " '2003',\n",
       " '2003',\n",
       " '1941',\n",
       " '1964',\n",
       " '1955',\n",
       " '1962',\n",
       " '1981',\n",
       " '1994',\n",
       " '1976',\n",
       " '1968',\n",
       " '1925',\n",
       " '1965',\n",
       " '1986',\n",
       " '1959',\n",
       " '2008',\n",
       " '1973',\n",
       " '2007',\n",
       " '1961',\n",
       " '1979',\n",
       " '1993',\n",
       " '1962',\n",
       " '1998',\n",
       " '1953',\n",
       " '1949',\n",
       " '1941',\n",
       " '2007',\n",
       " '1963',\n",
       " '2004',\n",
       " '1987',\n",
       " '1978',\n",
       " '2005',\n",
       " '1990',\n",
       " '1993',\n",
       " '1997',\n",
       " '1967',\n",
       " '1999',\n",
       " '2005',\n",
       " '1955',\n",
       " '1970',\n",
       " '1953',\n",
       " '2003',\n",
       " '1978',\n",
       " '1963',\n",
       " '1954',\n",
       " '1979',\n",
       " '1963',\n",
       " '1936',\n",
       " '1979',\n",
       " '2009',\n",
       " '1961',\n",
       " '1979',\n",
       " '1968',\n",
       " '2003',\n",
       " '2006',\n",
       " '1967',\n",
       " '1954',\n",
       " '2006',\n",
       " '1936',\n",
       " '1983',\n",
       " '2005',\n",
       " '1960',\n",
       " '1978',\n",
       " '1925',\n",
       " '1949',\n",
       " '2009',\n",
       " '1970',\n",
       " '1958',\n",
       " '1956',\n",
       " '1991',\n",
       " '1990',\n",
       " '1994',\n",
       " '1978.',\n",
       " '2005',\n",
       " '1993',\n",
       " '1980',\n",
       " '1977',\n",
       " '2003',\n",
       " '1968',\n",
       " '2001',\n",
       " '1997',\n",
       " '2007',\n",
       " '1965',\n",
       " '2006',\n",
       " '2004',\n",
       " '1960',\n",
       " '1953',\n",
       " '2003',\n",
       " '2005',\n",
       " '2006',\n",
       " '1940',\n",
       " '1976',\n",
       " '1999',\n",
       " '1978.',\n",
       " '1967',\n",
       " '1958',\n",
       " '1963',\n",
       " '1959',\n",
       " '2002',\n",
       " '2002',\n",
       " '1972',\n",
       " '1980',\n",
       " '1979',\n",
       " '1974',\n",
       " '1969',\n",
       " '1978.',\n",
       " '1946',\n",
       " '1980',\n",
       " '1977',\n",
       " '2003',\n",
       " '1999',\n",
       " '1978.',\n",
       " '1977',\n",
       " '1976',\n",
       " '2007',\n",
       " '2002',\n",
       " '2005',\n",
       " '1940',\n",
       " '1955',\n",
       " '1978.',\n",
       " '1958',\n",
       " '1978.',\n",
       " '2003',\n",
       " '1979',\n",
       " '2007',\n",
       " '1997',\n",
       " '2000',\n",
       " '1978.',\n",
       " '2007',\n",
       " '1999',\n",
       " '1963',\n",
       " '1961',\n",
       " '1998',\n",
       " '2007',\n",
       " '2002',\n",
       " '1977',\n",
       " '1950',\n",
       " '1950',\n",
       " '2010',\n",
       " '1976',\n",
       " '2006',\n",
       " '1997',\n",
       " '1925',\n",
       " '1964',\n",
       " '2005',\n",
       " '2008',\n",
       " '1946',\n",
       " '1961',\n",
       " '1970',\n",
       " '1922',\n",
       " '2006',\n",
       " ...]"
      ]
     },
     "execution_count": 53,
     "metadata": {},
     "output_type": "execute_result"
    }
   ],
   "source": [
    "data1=[]\n",
    "for x in dataset[\"GarageYrBlt\"]:\n",
    "    a1=x[:-2]\n",
    "    data1.append(a1)\n",
    "data1"
   ]
  },
  {
   "cell_type": "code",
   "execution_count": 54,
   "metadata": {
    "execution": {
     "iopub.execute_input": "2023-02-26T06:08:47.249213Z",
     "iopub.status.busy": "2023-02-26T06:08:47.247286Z",
     "iopub.status.idle": "2023-02-26T06:08:47.256343Z",
     "shell.execute_reply": "2023-02-26T06:08:47.254976Z",
     "shell.execute_reply.started": "2023-02-26T06:08:47.249157Z"
    }
   },
   "outputs": [],
   "source": [
    "del dataset[\"GarageYrBlt\"]"
   ]
  },
  {
   "cell_type": "code",
   "execution_count": 55,
   "metadata": {
    "execution": {
     "iopub.execute_input": "2023-02-26T06:08:47.259145Z",
     "iopub.status.busy": "2023-02-26T06:08:47.258606Z",
     "iopub.status.idle": "2023-02-26T06:08:47.300429Z",
     "shell.execute_reply": "2023-02-26T06:08:47.299096Z",
     "shell.execute_reply.started": "2023-02-26T06:08:47.259088Z"
    }
   },
   "outputs": [
    {
     "name": "stdout",
     "output_type": "stream",
     "text": [
      "<class 'pandas.core.frame.DataFrame'>\n",
      "RangeIndex: 1460 entries, 0 to 1459\n",
      "Data columns (total 80 columns):\n",
      " #   Column         Non-Null Count  Dtype  \n",
      "---  ------         --------------  -----  \n",
      " 0   Id             1460 non-null   int64  \n",
      " 1   MSSubClass     1460 non-null   int64  \n",
      " 2   MSZoning       1460 non-null   int32  \n",
      " 3   LotFrontage    1460 non-null   float64\n",
      " 4   LotArea        1460 non-null   int64  \n",
      " 5   Street         1460 non-null   int32  \n",
      " 6   Alley          1460 non-null   int32  \n",
      " 7   LotShape       1460 non-null   int32  \n",
      " 8   LandContour    1460 non-null   int32  \n",
      " 9   Utilities      1460 non-null   int32  \n",
      " 10  LotConfig      1460 non-null   int32  \n",
      " 11  LandSlope      1460 non-null   int32  \n",
      " 12  Neighborhood   1460 non-null   int32  \n",
      " 13  Condition1     1460 non-null   int32  \n",
      " 14  Condition2     1460 non-null   int32  \n",
      " 15  BldgType       1460 non-null   int32  \n",
      " 16  HouseStyle     1460 non-null   int32  \n",
      " 17  OverallQual    1460 non-null   int64  \n",
      " 18  OverallCond    1460 non-null   int64  \n",
      " 19  YearBuilt      1460 non-null   int64  \n",
      " 20  YearRemodAdd   1460 non-null   int64  \n",
      " 21  RoofStyle      1460 non-null   int32  \n",
      " 22  RoofMatl       1460 non-null   int32  \n",
      " 23  Exterior1st    1460 non-null   int32  \n",
      " 24  Exterior2nd    1460 non-null   int32  \n",
      " 25  MasVnrType     1460 non-null   int32  \n",
      " 26  MasVnrArea     1452 non-null   float64\n",
      " 27  ExterQual      1460 non-null   int32  \n",
      " 28  ExterCond      1460 non-null   int32  \n",
      " 29  Foundation     1460 non-null   int32  \n",
      " 30  BsmtQual       1460 non-null   int32  \n",
      " 31  BsmtCond       1460 non-null   int32  \n",
      " 32  BsmtExposure   1460 non-null   int32  \n",
      " 33  BsmtFinType1   1460 non-null   int32  \n",
      " 34  BsmtFinSF1     1460 non-null   int64  \n",
      " 35  BsmtFinType2   1460 non-null   int32  \n",
      " 36  BsmtFinSF2     1460 non-null   int64  \n",
      " 37  BsmtUnfSF      1460 non-null   int64  \n",
      " 38  TotalBsmtSF    1460 non-null   int64  \n",
      " 39  Heating        1460 non-null   int32  \n",
      " 40  HeatingQC      1460 non-null   int32  \n",
      " 41  CentralAir     1460 non-null   int32  \n",
      " 42  Electrical     1460 non-null   int32  \n",
      " 43  1stFlrSF       1460 non-null   int64  \n",
      " 44  2ndFlrSF       1460 non-null   int64  \n",
      " 45  LowQualFinSF   1460 non-null   int64  \n",
      " 46  GrLivArea      1460 non-null   int64  \n",
      " 47  BsmtFullBath   1460 non-null   int64  \n",
      " 48  BsmtHalfBath   1460 non-null   int64  \n",
      " 49  FullBath       1460 non-null   int64  \n",
      " 50  HalfBath       1460 non-null   int64  \n",
      " 51  BedroomAbvGr   1460 non-null   int64  \n",
      " 52  KitchenAbvGr   1460 non-null   int64  \n",
      " 53  KitchenQual    1460 non-null   int32  \n",
      " 54  TotRmsAbvGrd   1460 non-null   int64  \n",
      " 55  Functional     1460 non-null   int32  \n",
      " 56  Fireplaces     1460 non-null   int64  \n",
      " 57  FireplaceQu    1460 non-null   int32  \n",
      " 58  GarageType     1460 non-null   int32  \n",
      " 59  GarageFinish   1460 non-null   int32  \n",
      " 60  GarageCars     1460 non-null   int64  \n",
      " 61  GarageArea     1460 non-null   int64  \n",
      " 62  GarageQual     1460 non-null   int32  \n",
      " 63  GarageCond     1460 non-null   int32  \n",
      " 64  PavedDrive     1460 non-null   int32  \n",
      " 65  WoodDeckSF     1460 non-null   int64  \n",
      " 66  OpenPorchSF    1460 non-null   int64  \n",
      " 67  EnclosedPorch  1460 non-null   int64  \n",
      " 68  3SsnPorch      1460 non-null   int64  \n",
      " 69  ScreenPorch    1460 non-null   int64  \n",
      " 70  PoolArea       1460 non-null   int64  \n",
      " 71  PoolQC         1460 non-null   int32  \n",
      " 72  Fence          1460 non-null   int32  \n",
      " 73  MiscFeature    1460 non-null   int32  \n",
      " 74  MiscVal        1460 non-null   int64  \n",
      " 75  MoSold         1460 non-null   int64  \n",
      " 76  YrSold         1460 non-null   int64  \n",
      " 77  SaleType       1460 non-null   int32  \n",
      " 78  SaleCondition  1460 non-null   int32  \n",
      " 79  SalePrice      1460 non-null   int64  \n",
      "dtypes: float64(2), int32(43), int64(35)\n",
      "memory usage: 667.4 KB\n"
     ]
    }
   ],
   "source": [
    "dataset.info()"
   ]
  },
  {
   "cell_type": "code",
   "execution_count": 56,
   "metadata": {
    "execution": {
     "iopub.execute_input": "2023-02-26T06:08:47.303643Z",
     "iopub.status.busy": "2023-02-26T06:08:47.302057Z",
     "iopub.status.idle": "2023-02-26T06:08:47.312839Z",
     "shell.execute_reply": "2023-02-26T06:08:47.311482Z",
     "shell.execute_reply.started": "2023-02-26T06:08:47.303582Z"
    }
   },
   "outputs": [],
   "source": [
    "dataset.insert(59,\"GarageYrBlt\",data1)"
   ]
  },
  {
   "cell_type": "code",
   "execution_count": 57,
   "metadata": {
    "execution": {
     "iopub.execute_input": "2023-02-26T06:08:47.315018Z",
     "iopub.status.busy": "2023-02-26T06:08:47.314159Z",
     "iopub.status.idle": "2023-02-26T06:08:47.329085Z",
     "shell.execute_reply": "2023-02-26T06:08:47.327826Z",
     "shell.execute_reply.started": "2023-02-26T06:08:47.314966Z"
    }
   },
   "outputs": [],
   "source": [
    "dataset['GarageYrBlt'] = dataset['GarageYrBlt'].astype(float)"
   ]
  },
  {
   "cell_type": "code",
   "execution_count": 60,
   "metadata": {
    "execution": {
     "iopub.execute_input": "2023-02-26T06:08:47.331487Z",
     "iopub.status.busy": "2023-02-26T06:08:47.331018Z",
     "iopub.status.idle": "2023-02-26T06:08:47.370218Z",
     "shell.execute_reply": "2023-02-26T06:08:47.368612Z",
     "shell.execute_reply.started": "2023-02-26T06:08:47.331451Z"
    }
   },
   "outputs": [
    {
     "name": "stdout",
     "output_type": "stream",
     "text": [
      "<class 'pandas.core.frame.DataFrame'>\n",
      "RangeIndex: 1460 entries, 0 to 1459\n",
      "Data columns (total 81 columns):\n",
      " #   Column         Non-Null Count  Dtype  \n",
      "---  ------         --------------  -----  \n",
      " 0   Id             1460 non-null   int64  \n",
      " 1   MSSubClass     1460 non-null   int64  \n",
      " 2   MSZoning       1460 non-null   int32  \n",
      " 3   LotFrontage    1460 non-null   float64\n",
      " 4   LotArea        1460 non-null   int64  \n",
      " 5   Street         1460 non-null   int32  \n",
      " 6   Alley          1460 non-null   int32  \n",
      " 7   LotShape       1460 non-null   int32  \n",
      " 8   LandContour    1460 non-null   int32  \n",
      " 9   Utilities      1460 non-null   int32  \n",
      " 10  LotConfig      1460 non-null   int32  \n",
      " 11  LandSlope      1460 non-null   int32  \n",
      " 12  Neighborhood   1460 non-null   int32  \n",
      " 13  Condition1     1460 non-null   int32  \n",
      " 14  Condition2     1460 non-null   int32  \n",
      " 15  BldgType       1460 non-null   int32  \n",
      " 16  HouseStyle     1460 non-null   int32  \n",
      " 17  OverallQual    1460 non-null   int64  \n",
      " 18  OverallCond    1460 non-null   int64  \n",
      " 19  YearBuilt      1460 non-null   int64  \n",
      " 20  YearRemodAdd   1460 non-null   int64  \n",
      " 21  RoofStyle      1460 non-null   int32  \n",
      " 22  RoofMatl       1460 non-null   int32  \n",
      " 23  Exterior1st    1460 non-null   int32  \n",
      " 24  Exterior2nd    1460 non-null   int32  \n",
      " 25  MasVnrType     1460 non-null   int32  \n",
      " 26  MasVnrArea     1452 non-null   float64\n",
      " 27  ExterQual      1460 non-null   int32  \n",
      " 28  ExterCond      1460 non-null   int32  \n",
      " 29  Foundation     1460 non-null   int32  \n",
      " 30  BsmtQual       1460 non-null   int32  \n",
      " 31  BsmtCond       1460 non-null   int32  \n",
      " 32  BsmtExposure   1460 non-null   int32  \n",
      " 33  BsmtFinType1   1460 non-null   int32  \n",
      " 34  BsmtFinSF1     1460 non-null   int64  \n",
      " 35  BsmtFinType2   1460 non-null   int32  \n",
      " 36  BsmtFinSF2     1460 non-null   int64  \n",
      " 37  BsmtUnfSF      1460 non-null   int64  \n",
      " 38  TotalBsmtSF    1460 non-null   int64  \n",
      " 39  Heating        1460 non-null   int32  \n",
      " 40  HeatingQC      1460 non-null   int32  \n",
      " 41  CentralAir     1460 non-null   int32  \n",
      " 42  Electrical     1460 non-null   int32  \n",
      " 43  1stFlrSF       1460 non-null   int64  \n",
      " 44  2ndFlrSF       1460 non-null   int64  \n",
      " 45  LowQualFinSF   1460 non-null   int64  \n",
      " 46  GrLivArea      1460 non-null   int64  \n",
      " 47  BsmtFullBath   1460 non-null   int64  \n",
      " 48  BsmtHalfBath   1460 non-null   int64  \n",
      " 49  FullBath       1460 non-null   int64  \n",
      " 50  HalfBath       1460 non-null   int64  \n",
      " 51  BedroomAbvGr   1460 non-null   int64  \n",
      " 52  KitchenAbvGr   1460 non-null   int64  \n",
      " 53  KitchenQual    1460 non-null   int32  \n",
      " 54  TotRmsAbvGrd   1460 non-null   int64  \n",
      " 55  Functional     1460 non-null   int32  \n",
      " 56  Fireplaces     1460 non-null   int64  \n",
      " 57  FireplaceQu    1460 non-null   int32  \n",
      " 58  GarageType     1460 non-null   int32  \n",
      " 59  GarageYrBlt    1460 non-null   float64\n",
      " 60  GarageFinish   1460 non-null   int32  \n",
      " 61  GarageCars     1460 non-null   int64  \n",
      " 62  GarageArea     1460 non-null   int64  \n",
      " 63  GarageQual     1460 non-null   int32  \n",
      " 64  GarageCond     1460 non-null   int32  \n",
      " 65  PavedDrive     1460 non-null   int32  \n",
      " 66  WoodDeckSF     1460 non-null   int64  \n",
      " 67  OpenPorchSF    1460 non-null   int64  \n",
      " 68  EnclosedPorch  1460 non-null   int64  \n",
      " 69  3SsnPorch      1460 non-null   int64  \n",
      " 70  ScreenPorch    1460 non-null   int64  \n",
      " 71  PoolArea       1460 non-null   int64  \n",
      " 72  PoolQC         1460 non-null   int32  \n",
      " 73  Fence          1460 non-null   int32  \n",
      " 74  MiscFeature    1460 non-null   int32  \n",
      " 75  MiscVal        1460 non-null   int64  \n",
      " 76  MoSold         1460 non-null   int64  \n",
      " 77  YrSold         1460 non-null   int64  \n",
      " 78  SaleType       1460 non-null   int32  \n",
      " 79  SaleCondition  1460 non-null   int32  \n",
      " 80  SalePrice      1460 non-null   int64  \n",
      "dtypes: float64(3), int32(43), int64(35)\n",
      "memory usage: 678.8 KB\n"
     ]
    }
   ],
   "source": [
    "dataset.info()"
   ]
  },
  {
   "cell_type": "code",
   "execution_count": 61,
   "metadata": {
    "execution": {
     "iopub.execute_input": "2023-02-26T06:08:47.421026Z",
     "iopub.status.busy": "2023-02-26T06:08:47.420219Z",
     "iopub.status.idle": "2023-02-26T06:08:47.438703Z",
     "shell.execute_reply": "2023-02-26T06:08:47.436886Z",
     "shell.execute_reply.started": "2023-02-26T06:08:47.420975Z"
    }
   },
   "outputs": [],
   "source": [
    "x=dataset.iloc[:,:-1].values\n",
    "y=dataset.iloc[:,-1].values"
   ]
  },
  {
   "cell_type": "code",
   "execution_count": 62,
   "metadata": {
    "execution": {
     "iopub.execute_input": "2023-02-26T06:08:47.443476Z",
     "iopub.status.busy": "2023-02-26T06:08:47.442313Z",
     "iopub.status.idle": "2023-02-26T06:08:47.455955Z",
     "shell.execute_reply": "2023-02-26T06:08:47.453913Z",
     "shell.execute_reply.started": "2023-02-26T06:08:47.443354Z"
    }
   },
   "outputs": [
    {
     "data": {
      "text/plain": [
       "array([[1.000e+00, 6.000e+01, 3.000e+00, ..., 2.008e+03, 8.000e+00,\n",
       "        4.000e+00],\n",
       "       [2.000e+00, 2.000e+01, 3.000e+00, ..., 2.007e+03, 8.000e+00,\n",
       "        4.000e+00],\n",
       "       [3.000e+00, 6.000e+01, 3.000e+00, ..., 2.008e+03, 8.000e+00,\n",
       "        4.000e+00],\n",
       "       ...,\n",
       "       [1.458e+03, 7.000e+01, 3.000e+00, ..., 2.010e+03, 8.000e+00,\n",
       "        4.000e+00],\n",
       "       [1.459e+03, 2.000e+01, 3.000e+00, ..., 2.010e+03, 8.000e+00,\n",
       "        4.000e+00],\n",
       "       [1.460e+03, 2.000e+01, 3.000e+00, ..., 2.008e+03, 8.000e+00,\n",
       "        4.000e+00]])"
      ]
     },
     "execution_count": 62,
     "metadata": {},
     "output_type": "execute_result"
    }
   ],
   "source": [
    "x"
   ]
  },
  {
   "cell_type": "code",
   "execution_count": 63,
   "metadata": {
    "execution": {
     "iopub.execute_input": "2023-02-26T06:08:47.459618Z",
     "iopub.status.busy": "2023-02-26T06:08:47.458517Z",
     "iopub.status.idle": "2023-02-26T06:08:47.470076Z",
     "shell.execute_reply": "2023-02-26T06:08:47.468554Z",
     "shell.execute_reply.started": "2023-02-26T06:08:47.459565Z"
    }
   },
   "outputs": [
    {
     "data": {
      "text/plain": [
       "array([208500, 181500, 223500, ..., 266500, 142125, 147500], dtype=int64)"
      ]
     },
     "execution_count": 63,
     "metadata": {},
     "output_type": "execute_result"
    }
   ],
   "source": [
    "y"
   ]
  },
  {
   "cell_type": "code",
   "execution_count": 65,
   "metadata": {
    "execution": {
     "iopub.execute_input": "2023-02-26T06:08:47.474238Z",
     "iopub.status.busy": "2023-02-26T06:08:47.473225Z",
     "iopub.status.idle": "2023-02-26T06:08:47.483454Z",
     "shell.execute_reply": "2023-02-26T06:08:47.481384Z",
     "shell.execute_reply.started": "2023-02-26T06:08:47.474165Z"
    }
   },
   "outputs": [],
   "source": [
    "dataset[\"MasVnrArea\"].unique()\n",
    "dataset[\"MasVnrArea\"]=dataset[\"MasVnrArea\"].replace(\"nan\",0)"
   ]
  },
  {
   "cell_type": "code",
   "execution_count": 66,
   "metadata": {
    "execution": {
     "iopub.execute_input": "2023-02-26T06:08:47.488473Z",
     "iopub.status.busy": "2023-02-26T06:08:47.486970Z",
     "iopub.status.idle": "2023-02-26T06:08:47.505935Z",
     "shell.execute_reply": "2023-02-26T06:08:47.503459Z",
     "shell.execute_reply.started": "2023-02-26T06:08:47.488406Z"
    }
   },
   "outputs": [],
   "source": [
    "import numpy as np\n",
    "dataset[\"MasVnrArea\"].unique()\n",
    "dataset[\"MasVnrArea\"]=dataset[\"MasVnrArea\"].replace(np.nan,0)"
   ]
  },
  {
   "cell_type": "code",
   "execution_count": 67,
   "metadata": {
    "execution": {
     "iopub.execute_input": "2023-02-26T06:08:47.510570Z",
     "iopub.status.busy": "2023-02-26T06:08:47.509008Z",
     "iopub.status.idle": "2023-02-26T06:08:47.540910Z",
     "shell.execute_reply": "2023-02-26T06:08:47.539612Z",
     "shell.execute_reply.started": "2023-02-26T06:08:47.510445Z"
    }
   },
   "outputs": [
    {
     "data": {
      "text/plain": [
       "array([1.960e+02, 0.000e+00, 1.620e+02, 3.500e+02, 1.860e+02, 2.400e+02,\n",
       "       2.860e+02, 3.060e+02, 2.120e+02, 1.800e+02, 3.800e+02, 2.810e+02,\n",
       "       6.400e+02, 2.000e+02, 2.460e+02, 1.320e+02, 6.500e+02, 1.010e+02,\n",
       "       4.120e+02, 2.720e+02, 4.560e+02, 1.031e+03, 1.780e+02, 5.730e+02,\n",
       "       3.440e+02, 2.870e+02, 1.670e+02, 1.115e+03, 4.000e+01, 1.040e+02,\n",
       "       5.760e+02, 4.430e+02, 4.680e+02, 6.600e+01, 2.200e+01, 2.840e+02,\n",
       "       7.600e+01, 2.030e+02, 6.800e+01, 1.830e+02, 4.800e+01, 2.800e+01,\n",
       "       3.360e+02, 6.000e+02, 7.680e+02, 4.800e+02, 2.200e+02, 1.840e+02,\n",
       "       1.129e+03, 1.160e+02, 1.350e+02, 2.660e+02, 8.500e+01, 3.090e+02,\n",
       "       1.360e+02, 2.880e+02, 7.000e+01, 3.200e+02, 5.000e+01, 1.200e+02,\n",
       "       4.360e+02, 2.520e+02, 8.400e+01, 6.640e+02, 2.260e+02, 3.000e+02,\n",
       "       6.530e+02, 1.120e+02, 4.910e+02, 2.680e+02, 7.480e+02, 9.800e+01,\n",
       "       2.750e+02, 1.380e+02, 2.050e+02, 2.620e+02, 1.280e+02, 2.600e+02,\n",
       "       1.530e+02, 6.400e+01, 3.120e+02, 1.600e+01, 9.220e+02, 1.420e+02,\n",
       "       2.900e+02, 1.270e+02, 5.060e+02, 2.970e+02, 6.040e+02, 2.540e+02,\n",
       "       3.600e+01, 1.020e+02, 4.720e+02, 4.810e+02, 1.080e+02, 3.020e+02,\n",
       "       1.720e+02, 3.990e+02, 2.700e+02, 4.600e+01, 2.100e+02, 1.740e+02,\n",
       "       3.480e+02, 3.150e+02, 2.990e+02, 3.400e+02, 1.660e+02, 7.200e+01,\n",
       "       3.100e+01, 3.400e+01, 2.380e+02, 1.600e+03, 3.650e+02, 5.600e+01,\n",
       "       1.500e+02, 2.780e+02, 2.560e+02, 2.250e+02, 3.700e+02, 3.880e+02,\n",
       "       1.750e+02, 2.960e+02, 1.460e+02, 1.130e+02, 1.760e+02, 6.160e+02,\n",
       "       3.000e+01, 1.060e+02, 8.700e+02, 3.620e+02, 5.300e+02, 5.000e+02,\n",
       "       5.100e+02, 2.470e+02, 3.050e+02, 2.550e+02, 1.250e+02, 1.000e+02,\n",
       "       4.320e+02, 1.260e+02, 4.730e+02, 7.400e+01, 1.450e+02, 2.320e+02,\n",
       "       3.760e+02, 4.200e+01, 1.610e+02, 1.100e+02, 1.800e+01, 2.240e+02,\n",
       "       2.480e+02, 8.000e+01, 3.040e+02, 2.150e+02, 7.720e+02, 4.350e+02,\n",
       "       3.780e+02, 5.620e+02, 1.680e+02, 8.900e+01, 2.850e+02, 3.600e+02,\n",
       "       9.400e+01, 3.330e+02, 9.210e+02, 7.620e+02, 5.940e+02, 2.190e+02,\n",
       "       1.880e+02, 4.790e+02, 5.840e+02, 1.820e+02, 2.500e+02, 2.920e+02,\n",
       "       2.450e+02, 2.070e+02, 8.200e+01, 9.700e+01, 3.350e+02, 2.080e+02,\n",
       "       4.200e+02, 1.700e+02, 4.590e+02, 2.800e+02, 9.900e+01, 1.920e+02,\n",
       "       2.040e+02, 2.330e+02, 1.560e+02, 4.520e+02, 5.130e+02, 2.610e+02,\n",
       "       1.640e+02, 2.590e+02, 2.090e+02, 2.630e+02, 2.160e+02, 3.510e+02,\n",
       "       6.600e+02, 3.810e+02, 5.400e+01, 5.280e+02, 2.580e+02, 4.640e+02,\n",
       "       5.700e+01, 1.470e+02, 1.170e+03, 2.930e+02, 6.300e+02, 4.660e+02,\n",
       "       1.090e+02, 4.100e+01, 1.600e+02, 2.890e+02, 6.510e+02, 1.690e+02,\n",
       "       9.500e+01, 4.420e+02, 2.020e+02, 3.380e+02, 8.940e+02, 3.280e+02,\n",
       "       6.730e+02, 6.030e+02, 1.000e+00, 3.750e+02, 9.000e+01, 3.800e+01,\n",
       "       1.570e+02, 1.100e+01, 1.400e+02, 1.300e+02, 1.480e+02, 8.600e+02,\n",
       "       4.240e+02, 1.047e+03, 2.430e+02, 8.160e+02, 3.870e+02, 2.230e+02,\n",
       "       1.580e+02, 1.370e+02, 1.150e+02, 1.890e+02, 2.740e+02, 1.170e+02,\n",
       "       6.000e+01, 1.220e+02, 9.200e+01, 4.150e+02, 7.600e+02, 2.700e+01,\n",
       "       7.500e+01, 3.610e+02, 1.050e+02, 3.420e+02, 2.980e+02, 5.410e+02,\n",
       "       2.360e+02, 1.440e+02, 4.230e+02, 4.400e+01, 1.510e+02, 9.750e+02,\n",
       "       4.500e+02, 2.300e+02, 5.710e+02, 2.400e+01, 5.300e+01, 2.060e+02,\n",
       "       1.400e+01, 3.240e+02, 2.950e+02, 3.960e+02, 6.700e+01, 1.540e+02,\n",
       "       4.250e+02, 4.500e+01, 1.378e+03, 3.370e+02, 1.490e+02, 1.430e+02,\n",
       "       5.100e+01, 1.710e+02, 2.340e+02, 6.300e+01, 7.660e+02, 3.200e+01,\n",
       "       8.100e+01, 1.630e+02, 5.540e+02, 2.180e+02, 6.320e+02, 1.140e+02,\n",
       "       5.670e+02, 3.590e+02, 4.510e+02, 6.210e+02, 7.880e+02, 8.600e+01,\n",
       "       7.960e+02, 3.910e+02, 2.280e+02, 8.800e+01, 1.650e+02, 4.280e+02,\n",
       "       4.100e+02, 5.640e+02, 3.680e+02, 3.180e+02, 5.790e+02, 6.500e+01,\n",
       "       7.050e+02, 4.080e+02, 2.440e+02, 1.230e+02, 3.660e+02, 7.310e+02,\n",
       "       4.480e+02, 2.940e+02, 3.100e+02, 2.370e+02, 4.260e+02, 9.600e+01,\n",
       "       4.380e+02, 1.940e+02, 1.190e+02])"
      ]
     },
     "execution_count": 67,
     "metadata": {},
     "output_type": "execute_result"
    }
   ],
   "source": [
    "dataset[\"MasVnrArea\"].unique()"
   ]
  },
  {
   "cell_type": "code",
   "execution_count": 68,
   "metadata": {
    "execution": {
     "iopub.execute_input": "2023-02-26T06:08:47.542836Z",
     "iopub.status.busy": "2023-02-26T06:08:47.542032Z",
     "iopub.status.idle": "2023-02-26T06:08:47.551579Z",
     "shell.execute_reply": "2023-02-26T06:08:47.550587Z",
     "shell.execute_reply.started": "2023-02-26T06:08:47.542800Z"
    }
   },
   "outputs": [
    {
     "data": {
      "text/plain": [
       "array([2003., 1976., 2001., 1998., 2000., 1993., 2004., 1973., 1931.,\n",
       "       1939., 1965., 2005., 1962., 2006., 1960., 1991., 1970., 1967.,\n",
       "       1958., 1930., 2002., 1968., 2007., 2008., 1957., 1920., 1966.,\n",
       "       1959., 1995., 1954., 1953., 1978., 1983., 1977., 1997., 1985.,\n",
       "       1963., 1981., 1964., 1999., 1935., 1990., 1945., 1987., 1989.,\n",
       "       1915., 1956., 1948., 1974., 2009., 1950., 1961., 1921., 1900.,\n",
       "       1979., 1951., 1969., 1936., 1975., 1971., 1923., 1984., 1926.,\n",
       "       1955., 1986., 1988., 1916., 1932., 1972., 1918., 1980., 1924.,\n",
       "       1996., 1940., 1949., 1994., 1910., 1982., 1992., 1925., 1941.,\n",
       "       2010., 1927., 1947., 1937., 1942., 1938., 1952., 1928., 1922.,\n",
       "       1934., 1906., 1914., 1946., 1908., 1929., 1933.])"
      ]
     },
     "execution_count": 68,
     "metadata": {},
     "output_type": "execute_result"
    }
   ],
   "source": [
    "dataset[\"GarageYrBlt\"].unique()"
   ]
  },
  {
   "cell_type": "code",
   "execution_count": 69,
   "metadata": {
    "execution": {
     "iopub.execute_input": "2023-02-26T06:08:47.553580Z",
     "iopub.status.busy": "2023-02-26T06:08:47.552971Z",
     "iopub.status.idle": "2023-02-26T06:08:47.574954Z",
     "shell.execute_reply": "2023-02-26T06:08:47.573842Z",
     "shell.execute_reply.started": "2023-02-26T06:08:47.553540Z"
    }
   },
   "outputs": [
    {
     "data": {
      "text/plain": [
       "True"
      ]
     },
     "execution_count": 69,
     "metadata": {},
     "output_type": "execute_result"
    }
   ],
   "source": [
    "np.all(np.isfinite(dataset))"
   ]
  },
  {
   "cell_type": "code",
   "execution_count": 70,
   "metadata": {
    "execution": {
     "iopub.execute_input": "2023-02-26T06:08:47.576891Z",
     "iopub.status.busy": "2023-02-26T06:08:47.576316Z",
     "iopub.status.idle": "2023-02-26T06:08:47.584590Z",
     "shell.execute_reply": "2023-02-26T06:08:47.583538Z",
     "shell.execute_reply.started": "2023-02-26T06:08:47.576857Z"
    }
   },
   "outputs": [],
   "source": [
    "dataset.replace([np.inf,-np.inf], np.nan, inplace=True)"
   ]
  },
  {
   "cell_type": "code",
   "execution_count": 71,
   "metadata": {
    "execution": {
     "iopub.execute_input": "2023-02-26T06:08:47.586865Z",
     "iopub.status.busy": "2023-02-26T06:08:47.586195Z",
     "iopub.status.idle": "2023-02-26T06:08:47.595874Z",
     "shell.execute_reply": "2023-02-26T06:08:47.594866Z",
     "shell.execute_reply.started": "2023-02-26T06:08:47.586827Z"
    }
   },
   "outputs": [],
   "source": [
    "dataset.fillna(999, inplace=True)"
   ]
  },
  {
   "cell_type": "code",
   "execution_count": 72,
   "metadata": {
    "execution": {
     "iopub.execute_input": "2023-02-26T06:08:47.597853Z",
     "iopub.status.busy": "2023-02-26T06:08:47.597317Z",
     "iopub.status.idle": "2023-02-26T06:08:47.611391Z",
     "shell.execute_reply": "2023-02-26T06:08:47.610319Z",
     "shell.execute_reply.started": "2023-02-26T06:08:47.597815Z"
    }
   },
   "outputs": [],
   "source": [
    "x1=dataset.iloc[:,:-1].values\n",
    "y1=dataset.iloc[:,-1].values"
   ]
  },
  {
   "cell_type": "code",
   "execution_count": 73,
   "metadata": {
    "execution": {
     "iopub.execute_input": "2023-02-26T06:08:47.613903Z",
     "iopub.status.busy": "2023-02-26T06:08:47.613169Z",
     "iopub.status.idle": "2023-02-26T06:08:47.854276Z",
     "shell.execute_reply": "2023-02-26T06:08:47.851563Z",
     "shell.execute_reply.started": "2023-02-26T06:08:47.613865Z"
    }
   },
   "outputs": [
    {
     "data": {
      "text/plain": [
       "LinearRegression()"
      ]
     },
     "execution_count": 73,
     "metadata": {},
     "output_type": "execute_result"
    }
   ],
   "source": [
    "from sklearn.linear_model import LinearRegression\n",
    "rg=LinearRegression()\n",
    "rg.fit(x1,y1)"
   ]
  },
  {
   "cell_type": "markdown",
   "metadata": {},
   "source": [
    "### Now we Work on test data"
   ]
  },
  {
   "cell_type": "code",
   "execution_count": 74,
   "metadata": {
    "execution": {
     "iopub.execute_input": "2023-02-26T06:08:47.857368Z",
     "iopub.status.busy": "2023-02-26T06:08:47.856310Z",
     "iopub.status.idle": "2023-02-26T06:08:47.926735Z",
     "shell.execute_reply": "2023-02-26T06:08:47.924877Z",
     "shell.execute_reply.started": "2023-02-26T06:08:47.857310Z"
    }
   },
   "outputs": [],
   "source": [
    "data_test=pd.read_csv(r\"test.csv\")"
   ]
  },
  {
   "cell_type": "code",
   "execution_count": 75,
   "metadata": {
    "execution": {
     "iopub.execute_input": "2023-02-26T06:08:47.930869Z",
     "iopub.status.busy": "2023-02-26T06:08:47.929684Z",
     "iopub.status.idle": "2023-02-26T06:08:47.981725Z",
     "shell.execute_reply": "2023-02-26T06:08:47.980199Z",
     "shell.execute_reply.started": "2023-02-26T06:08:47.930795Z"
    }
   },
   "outputs": [
    {
     "data": {
      "text/html": [
       "<div>\n",
       "<style scoped>\n",
       "    .dataframe tbody tr th:only-of-type {\n",
       "        vertical-align: middle;\n",
       "    }\n",
       "\n",
       "    .dataframe tbody tr th {\n",
       "        vertical-align: top;\n",
       "    }\n",
       "\n",
       "    .dataframe thead th {\n",
       "        text-align: right;\n",
       "    }\n",
       "</style>\n",
       "<table border=\"1\" class=\"dataframe\">\n",
       "  <thead>\n",
       "    <tr style=\"text-align: right;\">\n",
       "      <th></th>\n",
       "      <th>Id</th>\n",
       "      <th>MSSubClass</th>\n",
       "      <th>MSZoning</th>\n",
       "      <th>LotFrontage</th>\n",
       "      <th>LotArea</th>\n",
       "      <th>Street</th>\n",
       "      <th>Alley</th>\n",
       "      <th>LotShape</th>\n",
       "      <th>LandContour</th>\n",
       "      <th>Utilities</th>\n",
       "      <th>...</th>\n",
       "      <th>ScreenPorch</th>\n",
       "      <th>PoolArea</th>\n",
       "      <th>PoolQC</th>\n",
       "      <th>Fence</th>\n",
       "      <th>MiscFeature</th>\n",
       "      <th>MiscVal</th>\n",
       "      <th>MoSold</th>\n",
       "      <th>YrSold</th>\n",
       "      <th>SaleType</th>\n",
       "      <th>SaleCondition</th>\n",
       "    </tr>\n",
       "  </thead>\n",
       "  <tbody>\n",
       "    <tr>\n",
       "      <th>0</th>\n",
       "      <td>1461</td>\n",
       "      <td>20</td>\n",
       "      <td>RH</td>\n",
       "      <td>80.0</td>\n",
       "      <td>11622</td>\n",
       "      <td>Pave</td>\n",
       "      <td>NaN</td>\n",
       "      <td>Reg</td>\n",
       "      <td>Lvl</td>\n",
       "      <td>AllPub</td>\n",
       "      <td>...</td>\n",
       "      <td>120</td>\n",
       "      <td>0</td>\n",
       "      <td>NaN</td>\n",
       "      <td>MnPrv</td>\n",
       "      <td>NaN</td>\n",
       "      <td>0</td>\n",
       "      <td>6</td>\n",
       "      <td>2010</td>\n",
       "      <td>WD</td>\n",
       "      <td>Normal</td>\n",
       "    </tr>\n",
       "    <tr>\n",
       "      <th>1</th>\n",
       "      <td>1462</td>\n",
       "      <td>20</td>\n",
       "      <td>RL</td>\n",
       "      <td>81.0</td>\n",
       "      <td>14267</td>\n",
       "      <td>Pave</td>\n",
       "      <td>NaN</td>\n",
       "      <td>IR1</td>\n",
       "      <td>Lvl</td>\n",
       "      <td>AllPub</td>\n",
       "      <td>...</td>\n",
       "      <td>0</td>\n",
       "      <td>0</td>\n",
       "      <td>NaN</td>\n",
       "      <td>NaN</td>\n",
       "      <td>Gar2</td>\n",
       "      <td>12500</td>\n",
       "      <td>6</td>\n",
       "      <td>2010</td>\n",
       "      <td>WD</td>\n",
       "      <td>Normal</td>\n",
       "    </tr>\n",
       "    <tr>\n",
       "      <th>2</th>\n",
       "      <td>1463</td>\n",
       "      <td>60</td>\n",
       "      <td>RL</td>\n",
       "      <td>74.0</td>\n",
       "      <td>13830</td>\n",
       "      <td>Pave</td>\n",
       "      <td>NaN</td>\n",
       "      <td>IR1</td>\n",
       "      <td>Lvl</td>\n",
       "      <td>AllPub</td>\n",
       "      <td>...</td>\n",
       "      <td>0</td>\n",
       "      <td>0</td>\n",
       "      <td>NaN</td>\n",
       "      <td>MnPrv</td>\n",
       "      <td>NaN</td>\n",
       "      <td>0</td>\n",
       "      <td>3</td>\n",
       "      <td>2010</td>\n",
       "      <td>WD</td>\n",
       "      <td>Normal</td>\n",
       "    </tr>\n",
       "    <tr>\n",
       "      <th>3</th>\n",
       "      <td>1464</td>\n",
       "      <td>60</td>\n",
       "      <td>RL</td>\n",
       "      <td>78.0</td>\n",
       "      <td>9978</td>\n",
       "      <td>Pave</td>\n",
       "      <td>NaN</td>\n",
       "      <td>IR1</td>\n",
       "      <td>Lvl</td>\n",
       "      <td>AllPub</td>\n",
       "      <td>...</td>\n",
       "      <td>0</td>\n",
       "      <td>0</td>\n",
       "      <td>NaN</td>\n",
       "      <td>NaN</td>\n",
       "      <td>NaN</td>\n",
       "      <td>0</td>\n",
       "      <td>6</td>\n",
       "      <td>2010</td>\n",
       "      <td>WD</td>\n",
       "      <td>Normal</td>\n",
       "    </tr>\n",
       "    <tr>\n",
       "      <th>4</th>\n",
       "      <td>1465</td>\n",
       "      <td>120</td>\n",
       "      <td>RL</td>\n",
       "      <td>43.0</td>\n",
       "      <td>5005</td>\n",
       "      <td>Pave</td>\n",
       "      <td>NaN</td>\n",
       "      <td>IR1</td>\n",
       "      <td>HLS</td>\n",
       "      <td>AllPub</td>\n",
       "      <td>...</td>\n",
       "      <td>144</td>\n",
       "      <td>0</td>\n",
       "      <td>NaN</td>\n",
       "      <td>NaN</td>\n",
       "      <td>NaN</td>\n",
       "      <td>0</td>\n",
       "      <td>1</td>\n",
       "      <td>2010</td>\n",
       "      <td>WD</td>\n",
       "      <td>Normal</td>\n",
       "    </tr>\n",
       "    <tr>\n",
       "      <th>...</th>\n",
       "      <td>...</td>\n",
       "      <td>...</td>\n",
       "      <td>...</td>\n",
       "      <td>...</td>\n",
       "      <td>...</td>\n",
       "      <td>...</td>\n",
       "      <td>...</td>\n",
       "      <td>...</td>\n",
       "      <td>...</td>\n",
       "      <td>...</td>\n",
       "      <td>...</td>\n",
       "      <td>...</td>\n",
       "      <td>...</td>\n",
       "      <td>...</td>\n",
       "      <td>...</td>\n",
       "      <td>...</td>\n",
       "      <td>...</td>\n",
       "      <td>...</td>\n",
       "      <td>...</td>\n",
       "      <td>...</td>\n",
       "      <td>...</td>\n",
       "    </tr>\n",
       "    <tr>\n",
       "      <th>1454</th>\n",
       "      <td>2915</td>\n",
       "      <td>160</td>\n",
       "      <td>RM</td>\n",
       "      <td>21.0</td>\n",
       "      <td>1936</td>\n",
       "      <td>Pave</td>\n",
       "      <td>NaN</td>\n",
       "      <td>Reg</td>\n",
       "      <td>Lvl</td>\n",
       "      <td>AllPub</td>\n",
       "      <td>...</td>\n",
       "      <td>0</td>\n",
       "      <td>0</td>\n",
       "      <td>NaN</td>\n",
       "      <td>NaN</td>\n",
       "      <td>NaN</td>\n",
       "      <td>0</td>\n",
       "      <td>6</td>\n",
       "      <td>2006</td>\n",
       "      <td>WD</td>\n",
       "      <td>Normal</td>\n",
       "    </tr>\n",
       "    <tr>\n",
       "      <th>1455</th>\n",
       "      <td>2916</td>\n",
       "      <td>160</td>\n",
       "      <td>RM</td>\n",
       "      <td>21.0</td>\n",
       "      <td>1894</td>\n",
       "      <td>Pave</td>\n",
       "      <td>NaN</td>\n",
       "      <td>Reg</td>\n",
       "      <td>Lvl</td>\n",
       "      <td>AllPub</td>\n",
       "      <td>...</td>\n",
       "      <td>0</td>\n",
       "      <td>0</td>\n",
       "      <td>NaN</td>\n",
       "      <td>NaN</td>\n",
       "      <td>NaN</td>\n",
       "      <td>0</td>\n",
       "      <td>4</td>\n",
       "      <td>2006</td>\n",
       "      <td>WD</td>\n",
       "      <td>Abnorml</td>\n",
       "    </tr>\n",
       "    <tr>\n",
       "      <th>1456</th>\n",
       "      <td>2917</td>\n",
       "      <td>20</td>\n",
       "      <td>RL</td>\n",
       "      <td>160.0</td>\n",
       "      <td>20000</td>\n",
       "      <td>Pave</td>\n",
       "      <td>NaN</td>\n",
       "      <td>Reg</td>\n",
       "      <td>Lvl</td>\n",
       "      <td>AllPub</td>\n",
       "      <td>...</td>\n",
       "      <td>0</td>\n",
       "      <td>0</td>\n",
       "      <td>NaN</td>\n",
       "      <td>NaN</td>\n",
       "      <td>NaN</td>\n",
       "      <td>0</td>\n",
       "      <td>9</td>\n",
       "      <td>2006</td>\n",
       "      <td>WD</td>\n",
       "      <td>Abnorml</td>\n",
       "    </tr>\n",
       "    <tr>\n",
       "      <th>1457</th>\n",
       "      <td>2918</td>\n",
       "      <td>85</td>\n",
       "      <td>RL</td>\n",
       "      <td>62.0</td>\n",
       "      <td>10441</td>\n",
       "      <td>Pave</td>\n",
       "      <td>NaN</td>\n",
       "      <td>Reg</td>\n",
       "      <td>Lvl</td>\n",
       "      <td>AllPub</td>\n",
       "      <td>...</td>\n",
       "      <td>0</td>\n",
       "      <td>0</td>\n",
       "      <td>NaN</td>\n",
       "      <td>MnPrv</td>\n",
       "      <td>Shed</td>\n",
       "      <td>700</td>\n",
       "      <td>7</td>\n",
       "      <td>2006</td>\n",
       "      <td>WD</td>\n",
       "      <td>Normal</td>\n",
       "    </tr>\n",
       "    <tr>\n",
       "      <th>1458</th>\n",
       "      <td>2919</td>\n",
       "      <td>60</td>\n",
       "      <td>RL</td>\n",
       "      <td>74.0</td>\n",
       "      <td>9627</td>\n",
       "      <td>Pave</td>\n",
       "      <td>NaN</td>\n",
       "      <td>Reg</td>\n",
       "      <td>Lvl</td>\n",
       "      <td>AllPub</td>\n",
       "      <td>...</td>\n",
       "      <td>0</td>\n",
       "      <td>0</td>\n",
       "      <td>NaN</td>\n",
       "      <td>NaN</td>\n",
       "      <td>NaN</td>\n",
       "      <td>0</td>\n",
       "      <td>11</td>\n",
       "      <td>2006</td>\n",
       "      <td>WD</td>\n",
       "      <td>Normal</td>\n",
       "    </tr>\n",
       "  </tbody>\n",
       "</table>\n",
       "<p>1459 rows × 80 columns</p>\n",
       "</div>"
      ],
      "text/plain": [
       "        Id  MSSubClass MSZoning  LotFrontage  LotArea Street Alley LotShape  \\\n",
       "0     1461          20       RH         80.0    11622   Pave   NaN      Reg   \n",
       "1     1462          20       RL         81.0    14267   Pave   NaN      IR1   \n",
       "2     1463          60       RL         74.0    13830   Pave   NaN      IR1   \n",
       "3     1464          60       RL         78.0     9978   Pave   NaN      IR1   \n",
       "4     1465         120       RL         43.0     5005   Pave   NaN      IR1   \n",
       "...    ...         ...      ...          ...      ...    ...   ...      ...   \n",
       "1454  2915         160       RM         21.0     1936   Pave   NaN      Reg   \n",
       "1455  2916         160       RM         21.0     1894   Pave   NaN      Reg   \n",
       "1456  2917          20       RL        160.0    20000   Pave   NaN      Reg   \n",
       "1457  2918          85       RL         62.0    10441   Pave   NaN      Reg   \n",
       "1458  2919          60       RL         74.0     9627   Pave   NaN      Reg   \n",
       "\n",
       "     LandContour Utilities  ... ScreenPorch PoolArea PoolQC  Fence  \\\n",
       "0            Lvl    AllPub  ...         120        0    NaN  MnPrv   \n",
       "1            Lvl    AllPub  ...           0        0    NaN    NaN   \n",
       "2            Lvl    AllPub  ...           0        0    NaN  MnPrv   \n",
       "3            Lvl    AllPub  ...           0        0    NaN    NaN   \n",
       "4            HLS    AllPub  ...         144        0    NaN    NaN   \n",
       "...          ...       ...  ...         ...      ...    ...    ...   \n",
       "1454         Lvl    AllPub  ...           0        0    NaN    NaN   \n",
       "1455         Lvl    AllPub  ...           0        0    NaN    NaN   \n",
       "1456         Lvl    AllPub  ...           0        0    NaN    NaN   \n",
       "1457         Lvl    AllPub  ...           0        0    NaN  MnPrv   \n",
       "1458         Lvl    AllPub  ...           0        0    NaN    NaN   \n",
       "\n",
       "     MiscFeature MiscVal MoSold  YrSold  SaleType  SaleCondition  \n",
       "0            NaN       0      6    2010        WD         Normal  \n",
       "1           Gar2   12500      6    2010        WD         Normal  \n",
       "2            NaN       0      3    2010        WD         Normal  \n",
       "3            NaN       0      6    2010        WD         Normal  \n",
       "4            NaN       0      1    2010        WD         Normal  \n",
       "...          ...     ...    ...     ...       ...            ...  \n",
       "1454         NaN       0      6    2006        WD         Normal  \n",
       "1455         NaN       0      4    2006        WD        Abnorml  \n",
       "1456         NaN       0      9    2006        WD        Abnorml  \n",
       "1457        Shed     700      7    2006        WD         Normal  \n",
       "1458         NaN       0     11    2006        WD         Normal  \n",
       "\n",
       "[1459 rows x 80 columns]"
      ]
     },
     "execution_count": 75,
     "metadata": {},
     "output_type": "execute_result"
    }
   ],
   "source": [
    "data_test"
   ]
  },
  {
   "cell_type": "code",
   "execution_count": 76,
   "metadata": {
    "execution": {
     "iopub.execute_input": "2023-02-26T06:08:47.983828Z",
     "iopub.status.busy": "2023-02-26T06:08:47.983311Z",
     "iopub.status.idle": "2023-02-26T06:08:48.011724Z",
     "shell.execute_reply": "2023-02-26T06:08:48.010162Z",
     "shell.execute_reply.started": "2023-02-26T06:08:47.983776Z"
    }
   },
   "outputs": [
    {
     "name": "stdout",
     "output_type": "stream",
     "text": [
      "<class 'pandas.core.frame.DataFrame'>\n",
      "RangeIndex: 1459 entries, 0 to 1458\n",
      "Data columns (total 80 columns):\n",
      " #   Column         Non-Null Count  Dtype  \n",
      "---  ------         --------------  -----  \n",
      " 0   Id             1459 non-null   int64  \n",
      " 1   MSSubClass     1459 non-null   int64  \n",
      " 2   MSZoning       1455 non-null   object \n",
      " 3   LotFrontage    1232 non-null   float64\n",
      " 4   LotArea        1459 non-null   int64  \n",
      " 5   Street         1459 non-null   object \n",
      " 6   Alley          107 non-null    object \n",
      " 7   LotShape       1459 non-null   object \n",
      " 8   LandContour    1459 non-null   object \n",
      " 9   Utilities      1457 non-null   object \n",
      " 10  LotConfig      1459 non-null   object \n",
      " 11  LandSlope      1459 non-null   object \n",
      " 12  Neighborhood   1459 non-null   object \n",
      " 13  Condition1     1459 non-null   object \n",
      " 14  Condition2     1459 non-null   object \n",
      " 15  BldgType       1459 non-null   object \n",
      " 16  HouseStyle     1459 non-null   object \n",
      " 17  OverallQual    1459 non-null   int64  \n",
      " 18  OverallCond    1459 non-null   int64  \n",
      " 19  YearBuilt      1459 non-null   int64  \n",
      " 20  YearRemodAdd   1459 non-null   int64  \n",
      " 21  RoofStyle      1459 non-null   object \n",
      " 22  RoofMatl       1459 non-null   object \n",
      " 23  Exterior1st    1458 non-null   object \n",
      " 24  Exterior2nd    1458 non-null   object \n",
      " 25  MasVnrType     1443 non-null   object \n",
      " 26  MasVnrArea     1444 non-null   float64\n",
      " 27  ExterQual      1459 non-null   object \n",
      " 28  ExterCond      1459 non-null   object \n",
      " 29  Foundation     1459 non-null   object \n",
      " 30  BsmtQual       1415 non-null   object \n",
      " 31  BsmtCond       1414 non-null   object \n",
      " 32  BsmtExposure   1415 non-null   object \n",
      " 33  BsmtFinType1   1417 non-null   object \n",
      " 34  BsmtFinSF1     1458 non-null   float64\n",
      " 35  BsmtFinType2   1417 non-null   object \n",
      " 36  BsmtFinSF2     1458 non-null   float64\n",
      " 37  BsmtUnfSF      1458 non-null   float64\n",
      " 38  TotalBsmtSF    1458 non-null   float64\n",
      " 39  Heating        1459 non-null   object \n",
      " 40  HeatingQC      1459 non-null   object \n",
      " 41  CentralAir     1459 non-null   object \n",
      " 42  Electrical     1459 non-null   object \n",
      " 43  1stFlrSF       1459 non-null   int64  \n",
      " 44  2ndFlrSF       1459 non-null   int64  \n",
      " 45  LowQualFinSF   1459 non-null   int64  \n",
      " 46  GrLivArea      1459 non-null   int64  \n",
      " 47  BsmtFullBath   1457 non-null   float64\n",
      " 48  BsmtHalfBath   1457 non-null   float64\n",
      " 49  FullBath       1459 non-null   int64  \n",
      " 50  HalfBath       1459 non-null   int64  \n",
      " 51  BedroomAbvGr   1459 non-null   int64  \n",
      " 52  KitchenAbvGr   1459 non-null   int64  \n",
      " 53  KitchenQual    1458 non-null   object \n",
      " 54  TotRmsAbvGrd   1459 non-null   int64  \n",
      " 55  Functional     1457 non-null   object \n",
      " 56  Fireplaces     1459 non-null   int64  \n",
      " 57  FireplaceQu    729 non-null    object \n",
      " 58  GarageType     1383 non-null   object \n",
      " 59  GarageYrBlt    1381 non-null   float64\n",
      " 60  GarageFinish   1381 non-null   object \n",
      " 61  GarageCars     1458 non-null   float64\n",
      " 62  GarageArea     1458 non-null   float64\n",
      " 63  GarageQual     1381 non-null   object \n",
      " 64  GarageCond     1381 non-null   object \n",
      " 65  PavedDrive     1459 non-null   object \n",
      " 66  WoodDeckSF     1459 non-null   int64  \n",
      " 67  OpenPorchSF    1459 non-null   int64  \n",
      " 68  EnclosedPorch  1459 non-null   int64  \n",
      " 69  3SsnPorch      1459 non-null   int64  \n",
      " 70  ScreenPorch    1459 non-null   int64  \n",
      " 71  PoolArea       1459 non-null   int64  \n",
      " 72  PoolQC         3 non-null      object \n",
      " 73  Fence          290 non-null    object \n",
      " 74  MiscFeature    51 non-null     object \n",
      " 75  MiscVal        1459 non-null   int64  \n",
      " 76  MoSold         1459 non-null   int64  \n",
      " 77  YrSold         1459 non-null   int64  \n",
      " 78  SaleType       1458 non-null   object \n",
      " 79  SaleCondition  1459 non-null   object \n",
      "dtypes: float64(11), int64(26), object(43)\n",
      "memory usage: 912.0+ KB\n"
     ]
    }
   ],
   "source": [
    "data_test.info()"
   ]
  },
  {
   "cell_type": "markdown",
   "metadata": {},
   "source": [
    "### Convert all the columns in Numerical Dataset."
   ]
  },
  {
   "cell_type": "code",
   "execution_count": 77,
   "metadata": {
    "execution": {
     "iopub.execute_input": "2023-02-26T06:08:48.014585Z",
     "iopub.status.busy": "2023-02-26T06:08:48.013575Z",
     "iopub.status.idle": "2023-02-26T06:08:48.096820Z",
     "shell.execute_reply": "2023-02-26T06:08:48.095493Z",
     "shell.execute_reply.started": "2023-02-26T06:08:48.014538Z"
    }
   },
   "outputs": [
    {
     "name": "stdout",
     "output_type": "stream",
     "text": [
      "        Id  MSSubClass  MSZoning  LotFrontage  LotArea  Street  Alley  \\\n",
      "0     1461          20         2         80.0    11622       1      2   \n",
      "1     1462          20         3         81.0    14267       1      2   \n",
      "2     1463          60         3         74.0    13830       1      2   \n",
      "3     1464          60         3         78.0     9978       1      2   \n",
      "4     1465         120         3         43.0     5005       1      2   \n",
      "...    ...         ...       ...          ...      ...     ...    ...   \n",
      "1454  2915         160         4         21.0     1936       1      2   \n",
      "1455  2916         160         4         21.0     1894       1      2   \n",
      "1456  2917          20         3        160.0    20000       1      2   \n",
      "1457  2918          85         3         62.0    10441       1      2   \n",
      "1458  2919          60         3         74.0     9627       1      2   \n",
      "\n",
      "      LotShape  LandContour  Utilities  ...  ScreenPorch  PoolArea  PoolQC  \\\n",
      "0            3            3          0  ...          120         0       2   \n",
      "1            0            3          0  ...            0         0       2   \n",
      "2            0            3          0  ...            0         0       2   \n",
      "3            0            3          0  ...            0         0       2   \n",
      "4            0            1          0  ...          144         0       2   \n",
      "...        ...          ...        ...  ...          ...       ...     ...   \n",
      "1454         3            3          0  ...            0         0       2   \n",
      "1455         3            3          0  ...            0         0       2   \n",
      "1456         3            3          0  ...            0         0       2   \n",
      "1457         3            3          0  ...            0         0       2   \n",
      "1458         3            3          0  ...            0         0       2   \n",
      "\n",
      "      Fence  MiscFeature  MiscVal  MoSold  YrSold  SaleType  SaleCondition  \n",
      "0         2            3        0       6    2010         8              4  \n",
      "1         4            0    12500       6    2010         8              4  \n",
      "2         2            3        0       3    2010         8              4  \n",
      "3         4            3        0       6    2010         8              4  \n",
      "4         4            3        0       1    2010         8              4  \n",
      "...     ...          ...      ...     ...     ...       ...            ...  \n",
      "1454      4            3        0       6    2006         8              4  \n",
      "1455      4            3        0       4    2006         8              0  \n",
      "1456      4            3        0       9    2006         8              0  \n",
      "1457      2            2      700       7    2006         8              4  \n",
      "1458      4            3        0      11    2006         8              4  \n",
      "\n",
      "[1459 rows x 80 columns]\n"
     ]
    }
   ],
   "source": [
    "for col in data_test.columns:\n",
    "    if data_test[col].dtype == object:\n",
    "        data_test[col] = data_test[col].astype(str)\n",
    "        data_test[col]=l1.fit_transform(data_test[col])\n",
    "print(data_test)"
   ]
  },
  {
   "cell_type": "code",
   "execution_count": 78,
   "metadata": {
    "execution": {
     "iopub.execute_input": "2023-02-26T06:08:48.098722Z",
     "iopub.status.busy": "2023-02-26T06:08:48.098244Z",
     "iopub.status.idle": "2023-02-26T06:08:48.129841Z",
     "shell.execute_reply": "2023-02-26T06:08:48.128729Z",
     "shell.execute_reply.started": "2023-02-26T06:08:48.098673Z"
    }
   },
   "outputs": [
    {
     "name": "stdout",
     "output_type": "stream",
     "text": [
      "<class 'pandas.core.frame.DataFrame'>\n",
      "RangeIndex: 1459 entries, 0 to 1458\n",
      "Data columns (total 80 columns):\n",
      " #   Column         Non-Null Count  Dtype  \n",
      "---  ------         --------------  -----  \n",
      " 0   Id             1459 non-null   int64  \n",
      " 1   MSSubClass     1459 non-null   int64  \n",
      " 2   MSZoning       1459 non-null   int32  \n",
      " 3   LotFrontage    1232 non-null   float64\n",
      " 4   LotArea        1459 non-null   int64  \n",
      " 5   Street         1459 non-null   int32  \n",
      " 6   Alley          1459 non-null   int32  \n",
      " 7   LotShape       1459 non-null   int32  \n",
      " 8   LandContour    1459 non-null   int32  \n",
      " 9   Utilities      1459 non-null   int32  \n",
      " 10  LotConfig      1459 non-null   int32  \n",
      " 11  LandSlope      1459 non-null   int32  \n",
      " 12  Neighborhood   1459 non-null   int32  \n",
      " 13  Condition1     1459 non-null   int32  \n",
      " 14  Condition2     1459 non-null   int32  \n",
      " 15  BldgType       1459 non-null   int32  \n",
      " 16  HouseStyle     1459 non-null   int32  \n",
      " 17  OverallQual    1459 non-null   int64  \n",
      " 18  OverallCond    1459 non-null   int64  \n",
      " 19  YearBuilt      1459 non-null   int64  \n",
      " 20  YearRemodAdd   1459 non-null   int64  \n",
      " 21  RoofStyle      1459 non-null   int32  \n",
      " 22  RoofMatl       1459 non-null   int32  \n",
      " 23  Exterior1st    1459 non-null   int32  \n",
      " 24  Exterior2nd    1459 non-null   int32  \n",
      " 25  MasVnrType     1459 non-null   int32  \n",
      " 26  MasVnrArea     1444 non-null   float64\n",
      " 27  ExterQual      1459 non-null   int32  \n",
      " 28  ExterCond      1459 non-null   int32  \n",
      " 29  Foundation     1459 non-null   int32  \n",
      " 30  BsmtQual       1459 non-null   int32  \n",
      " 31  BsmtCond       1459 non-null   int32  \n",
      " 32  BsmtExposure   1459 non-null   int32  \n",
      " 33  BsmtFinType1   1459 non-null   int32  \n",
      " 34  BsmtFinSF1     1458 non-null   float64\n",
      " 35  BsmtFinType2   1459 non-null   int32  \n",
      " 36  BsmtFinSF2     1458 non-null   float64\n",
      " 37  BsmtUnfSF      1458 non-null   float64\n",
      " 38  TotalBsmtSF    1458 non-null   float64\n",
      " 39  Heating        1459 non-null   int32  \n",
      " 40  HeatingQC      1459 non-null   int32  \n",
      " 41  CentralAir     1459 non-null   int32  \n",
      " 42  Electrical     1459 non-null   int32  \n",
      " 43  1stFlrSF       1459 non-null   int64  \n",
      " 44  2ndFlrSF       1459 non-null   int64  \n",
      " 45  LowQualFinSF   1459 non-null   int64  \n",
      " 46  GrLivArea      1459 non-null   int64  \n",
      " 47  BsmtFullBath   1457 non-null   float64\n",
      " 48  BsmtHalfBath   1457 non-null   float64\n",
      " 49  FullBath       1459 non-null   int64  \n",
      " 50  HalfBath       1459 non-null   int64  \n",
      " 51  BedroomAbvGr   1459 non-null   int64  \n",
      " 52  KitchenAbvGr   1459 non-null   int64  \n",
      " 53  KitchenQual    1459 non-null   int32  \n",
      " 54  TotRmsAbvGrd   1459 non-null   int64  \n",
      " 55  Functional     1459 non-null   int32  \n",
      " 56  Fireplaces     1459 non-null   int64  \n",
      " 57  FireplaceQu    1459 non-null   int32  \n",
      " 58  GarageType     1459 non-null   int32  \n",
      " 59  GarageYrBlt    1381 non-null   float64\n",
      " 60  GarageFinish   1459 non-null   int32  \n",
      " 61  GarageCars     1458 non-null   float64\n",
      " 62  GarageArea     1458 non-null   float64\n",
      " 63  GarageQual     1459 non-null   int32  \n",
      " 64  GarageCond     1459 non-null   int32  \n",
      " 65  PavedDrive     1459 non-null   int32  \n",
      " 66  WoodDeckSF     1459 non-null   int64  \n",
      " 67  OpenPorchSF    1459 non-null   int64  \n",
      " 68  EnclosedPorch  1459 non-null   int64  \n",
      " 69  3SsnPorch      1459 non-null   int64  \n",
      " 70  ScreenPorch    1459 non-null   int64  \n",
      " 71  PoolArea       1459 non-null   int64  \n",
      " 72  PoolQC         1459 non-null   int32  \n",
      " 73  Fence          1459 non-null   int32  \n",
      " 74  MiscFeature    1459 non-null   int32  \n",
      " 75  MiscVal        1459 non-null   int64  \n",
      " 76  MoSold         1459 non-null   int64  \n",
      " 77  YrSold         1459 non-null   int64  \n",
      " 78  SaleType       1459 non-null   int32  \n",
      " 79  SaleCondition  1459 non-null   int32  \n",
      "dtypes: float64(11), int32(43), int64(26)\n",
      "memory usage: 666.9 KB\n"
     ]
    }
   ],
   "source": [
    "data_test.info()"
   ]
  },
  {
   "cell_type": "code",
   "execution_count": 79,
   "metadata": {
    "execution": {
     "iopub.execute_input": "2023-02-26T06:29:37.452381Z",
     "iopub.status.busy": "2023-02-26T06:29:37.451877Z",
     "iopub.status.idle": "2023-02-26T06:29:37.464555Z",
     "shell.execute_reply": "2023-02-26T06:29:37.463342Z",
     "shell.execute_reply.started": "2023-02-26T06:29:37.452340Z"
    }
   },
   "outputs": [
    {
     "data": {
      "text/plain": [
       "HeatingQC         0\n",
       "CentralAir        0\n",
       "Electrical        0\n",
       "1stFlrSF          0\n",
       "2ndFlrSF          0\n",
       "LowQualFinSF      0\n",
       "GrLivArea         0\n",
       "BsmtFullBath      2\n",
       "BsmtHalfBath      2\n",
       "FullBath          0\n",
       "HalfBath          0\n",
       "BedroomAbvGr      0\n",
       "KitchenAbvGr      0\n",
       "KitchenQual       0\n",
       "TotRmsAbvGrd      0\n",
       "Functional        0\n",
       "Fireplaces        0\n",
       "FireplaceQu       0\n",
       "GarageType        0\n",
       "GarageYrBlt      78\n",
       "GarageFinish      0\n",
       "GarageCars        1\n",
       "GarageArea        1\n",
       "GarageQual        0\n",
       "GarageCond        0\n",
       "PavedDrive        0\n",
       "WoodDeckSF        0\n",
       "OpenPorchSF       0\n",
       "EnclosedPorch     0\n",
       "3SsnPorch         0\n",
       "ScreenPorch       0\n",
       "PoolArea          0\n",
       "PoolQC            0\n",
       "Fence             0\n",
       "MiscFeature       0\n",
       "MiscVal           0\n",
       "MoSold            0\n",
       "YrSold            0\n",
       "SaleType          0\n",
       "SaleCondition     0\n",
       "dtype: int64"
      ]
     },
     "execution_count": 79,
     "metadata": {},
     "output_type": "execute_result"
    }
   ],
   "source": [
    "data_test.isnull().sum().tail(40)"
   ]
  },
  {
   "cell_type": "code",
   "execution_count": null,
   "metadata": {},
   "outputs": [],
   "source": []
  },
  {
   "cell_type": "code",
   "execution_count": 80,
   "metadata": {
    "execution": {
     "iopub.execute_input": "2023-02-26T06:16:05.913132Z",
     "iopub.status.busy": "2023-02-26T06:16:05.912519Z",
     "iopub.status.idle": "2023-02-26T06:16:05.923293Z",
     "shell.execute_reply": "2023-02-26T06:16:05.922018Z",
     "shell.execute_reply.started": "2023-02-26T06:16:05.913079Z"
    }
   },
   "outputs": [
    {
     "data": {
      "text/plain": [
       "68.58035714285714"
      ]
     },
     "execution_count": 80,
     "metadata": {},
     "output_type": "execute_result"
    }
   ],
   "source": [
    "data_test[\"LotFrontage\"].mean()"
   ]
  },
  {
   "cell_type": "code",
   "execution_count": 81,
   "metadata": {
    "execution": {
     "iopub.execute_input": "2023-02-26T06:16:32.572293Z",
     "iopub.status.busy": "2023-02-26T06:16:32.571839Z",
     "iopub.status.idle": "2023-02-26T06:16:32.579165Z",
     "shell.execute_reply": "2023-02-26T06:16:32.577833Z",
     "shell.execute_reply.started": "2023-02-26T06:16:32.572253Z"
    }
   },
   "outputs": [],
   "source": [
    "data_test[\"LotFrontage\"]=data_test[\"LotFrontage\"].fillna(68)"
   ]
  },
  {
   "cell_type": "code",
   "execution_count": 82,
   "metadata": {
    "execution": {
     "iopub.execute_input": "2023-02-26T06:18:36.093104Z",
     "iopub.status.busy": "2023-02-26T06:18:36.092189Z",
     "iopub.status.idle": "2023-02-26T06:18:36.104927Z",
     "shell.execute_reply": "2023-02-26T06:18:36.102896Z",
     "shell.execute_reply.started": "2023-02-26T06:18:36.093037Z"
    }
   },
   "outputs": [
    {
     "data": {
      "text/plain": [
       "100.70914127423822"
      ]
     },
     "execution_count": 82,
     "metadata": {},
     "output_type": "execute_result"
    }
   ],
   "source": [
    "data_test[\"MasVnrArea\"].mean()"
   ]
  },
  {
   "cell_type": "code",
   "execution_count": 83,
   "metadata": {
    "execution": {
     "iopub.execute_input": "2023-02-26T06:18:59.671540Z",
     "iopub.status.busy": "2023-02-26T06:18:59.671098Z",
     "iopub.status.idle": "2023-02-26T06:18:59.678817Z",
     "shell.execute_reply": "2023-02-26T06:18:59.677210Z",
     "shell.execute_reply.started": "2023-02-26T06:18:59.671483Z"
    }
   },
   "outputs": [],
   "source": [
    "data_test[\"MasVnrArea\"]=data_test[\"MasVnrArea\"].fillna(100)"
   ]
  },
  {
   "cell_type": "code",
   "execution_count": 84,
   "metadata": {
    "execution": {
     "iopub.execute_input": "2023-02-26T06:20:59.940815Z",
     "iopub.status.busy": "2023-02-26T06:20:59.940340Z",
     "iopub.status.idle": "2023-02-26T06:20:59.954809Z",
     "shell.execute_reply": "2023-02-26T06:20:59.953487Z",
     "shell.execute_reply.started": "2023-02-26T06:20:59.940774Z"
    }
   },
   "outputs": [
    {
     "data": {
      "text/plain": [
       "0.0       462\n",
       "24.0       15\n",
       "276.0       6\n",
       "602.0       6\n",
       "300.0       5\n",
       "         ... \n",
       "1337.0      1\n",
       "656.0       1\n",
       "706.0       1\n",
       "496.0       1\n",
       "337.0       1\n",
       "Name: BsmtFinSF1, Length: 669, dtype: int64"
      ]
     },
     "execution_count": 84,
     "metadata": {},
     "output_type": "execute_result"
    }
   ],
   "source": [
    "data_test[\"BsmtFinSF1\"].value_counts()"
   ]
  },
  {
   "cell_type": "code",
   "execution_count": 85,
   "metadata": {
    "execution": {
     "iopub.execute_input": "2023-02-26T06:29:23.271247Z",
     "iopub.status.busy": "2023-02-26T06:29:23.270729Z",
     "iopub.status.idle": "2023-02-26T06:29:23.281098Z",
     "shell.execute_reply": "2023-02-26T06:29:23.280095Z",
     "shell.execute_reply.started": "2023-02-26T06:29:23.271212Z"
    }
   },
   "outputs": [],
   "source": [
    "data_test[\"BsmtFinSF1\"]=data_test[\"BsmtFinSF1\"].fillna(0)\n",
    "data_test[\"BsmtFinSF2\"]=data_test[\"BsmtFinSF2\"].fillna(0)\n",
    "data_test[\"BsmtUnfSF\"]=data_test[\"BsmtUnfSF\"].fillna(0)\n",
    "data_test[\"TotalBsmtSF\"]=data_test[\"TotalBsmtSF\"].fillna(0)"
   ]
  },
  {
   "cell_type": "code",
   "execution_count": 86,
   "metadata": {
    "execution": {
     "iopub.execute_input": "2023-02-26T06:31:07.167278Z",
     "iopub.status.busy": "2023-02-26T06:31:07.166802Z",
     "iopub.status.idle": "2023-02-26T06:31:07.175186Z",
     "shell.execute_reply": "2023-02-26T06:31:07.173618Z",
     "shell.execute_reply.started": "2023-02-26T06:31:07.167230Z"
    }
   },
   "outputs": [],
   "source": [
    "data_test[\"BsmtFullBath\"]=data_test[\"BsmtFinSF1\"].fillna(0)\n",
    "data_test[\"BsmtHalfBath\"]=data_test[\"BsmtHalfBath\"].fillna(0)"
   ]
  },
  {
   "cell_type": "code",
   "execution_count": 87,
   "metadata": {
    "execution": {
     "iopub.execute_input": "2023-02-26T06:31:50.032024Z",
     "iopub.status.busy": "2023-02-26T06:31:50.031422Z",
     "iopub.status.idle": "2023-02-26T06:31:50.042632Z",
     "shell.execute_reply": "2023-02-26T06:31:50.041268Z",
     "shell.execute_reply.started": "2023-02-26T06:31:50.031974Z"
    }
   },
   "outputs": [
    {
     "data": {
      "text/plain": [
       "1977.7212165097756"
      ]
     },
     "execution_count": 87,
     "metadata": {},
     "output_type": "execute_result"
    }
   ],
   "source": [
    "data_test[\"GarageYrBlt\"].mean()"
   ]
  },
  {
   "cell_type": "code",
   "execution_count": 88,
   "metadata": {
    "execution": {
     "iopub.execute_input": "2023-02-26T06:32:22.031722Z",
     "iopub.status.busy": "2023-02-26T06:32:22.031250Z",
     "iopub.status.idle": "2023-02-26T06:32:22.038696Z",
     "shell.execute_reply": "2023-02-26T06:32:22.037129Z",
     "shell.execute_reply.started": "2023-02-26T06:32:22.031676Z"
    }
   },
   "outputs": [],
   "source": [
    "data_test[\"GarageYrBlt\"]=data_test[\"GarageYrBlt\"].fillna(1977)"
   ]
  },
  {
   "cell_type": "code",
   "execution_count": 89,
   "metadata": {
    "execution": {
     "iopub.execute_input": "2023-02-26T06:33:54.194575Z",
     "iopub.status.busy": "2023-02-26T06:33:54.193935Z",
     "iopub.status.idle": "2023-02-26T06:33:54.206853Z",
     "shell.execute_reply": "2023-02-26T06:33:54.204874Z",
     "shell.execute_reply.started": "2023-02-26T06:33:54.194516Z"
    }
   },
   "outputs": [],
   "source": [
    "data_test[\"GarageCars\"]=data_test[\"GarageCars\"].fillna(0)\n",
    "data_test[\"GarageArea\"]=data_test[\"GarageArea\"].fillna(0)"
   ]
  },
  {
   "cell_type": "code",
   "execution_count": 90,
   "metadata": {
    "execution": {
     "iopub.execute_input": "2023-02-26T06:35:22.854446Z",
     "iopub.status.busy": "2023-02-26T06:35:22.853866Z",
     "iopub.status.idle": "2023-02-26T06:35:22.868399Z",
     "shell.execute_reply": "2023-02-26T06:35:22.867074Z",
     "shell.execute_reply.started": "2023-02-26T06:35:22.854389Z"
    }
   },
   "outputs": [
    {
     "data": {
      "text/plain": [
       "Id              0\n",
       "MSSubClass      0\n",
       "MSZoning        0\n",
       "LotFrontage     0\n",
       "LotArea         0\n",
       "Street          0\n",
       "Alley           0\n",
       "LotShape        0\n",
       "LandContour     0\n",
       "Utilities       0\n",
       "LotConfig       0\n",
       "LandSlope       0\n",
       "Neighborhood    0\n",
       "Condition1      0\n",
       "Condition2      0\n",
       "BldgType        0\n",
       "HouseStyle      0\n",
       "OverallQual     0\n",
       "OverallCond     0\n",
       "YearBuilt       0\n",
       "YearRemodAdd    0\n",
       "RoofStyle       0\n",
       "RoofMatl        0\n",
       "Exterior1st     0\n",
       "Exterior2nd     0\n",
       "MasVnrType      0\n",
       "MasVnrArea      0\n",
       "ExterQual       0\n",
       "ExterCond       0\n",
       "Foundation      0\n",
       "BsmtQual        0\n",
       "BsmtCond        0\n",
       "BsmtExposure    0\n",
       "BsmtFinType1    0\n",
       "BsmtFinSF1      0\n",
       "BsmtFinType2    0\n",
       "BsmtFinSF2      0\n",
       "BsmtUnfSF       0\n",
       "TotalBsmtSF     0\n",
       "Heating         0\n",
       "dtype: int64"
      ]
     },
     "execution_count": 90,
     "metadata": {},
     "output_type": "execute_result"
    }
   ],
   "source": [
    "data_test.isnull().sum().head(40)"
   ]
  },
  {
   "cell_type": "code",
   "execution_count": null,
   "metadata": {},
   "outputs": [],
   "source": []
  },
  {
   "cell_type": "code",
   "execution_count": 91,
   "metadata": {
    "execution": {
     "iopub.execute_input": "2023-02-26T06:35:07.572612Z",
     "iopub.status.busy": "2023-02-26T06:35:07.572007Z",
     "iopub.status.idle": "2023-02-26T06:35:07.587326Z",
     "shell.execute_reply": "2023-02-26T06:35:07.585446Z",
     "shell.execute_reply.started": "2023-02-26T06:35:07.572560Z"
    }
   },
   "outputs": [
    {
     "data": {
      "text/plain": [
       "HeatingQC        0\n",
       "CentralAir       0\n",
       "Electrical       0\n",
       "1stFlrSF         0\n",
       "2ndFlrSF         0\n",
       "LowQualFinSF     0\n",
       "GrLivArea        0\n",
       "BsmtFullBath     0\n",
       "BsmtHalfBath     0\n",
       "FullBath         0\n",
       "HalfBath         0\n",
       "BedroomAbvGr     0\n",
       "KitchenAbvGr     0\n",
       "KitchenQual      0\n",
       "TotRmsAbvGrd     0\n",
       "Functional       0\n",
       "Fireplaces       0\n",
       "FireplaceQu      0\n",
       "GarageType       0\n",
       "GarageYrBlt      0\n",
       "GarageFinish     0\n",
       "GarageCars       0\n",
       "GarageArea       0\n",
       "GarageQual       0\n",
       "GarageCond       0\n",
       "PavedDrive       0\n",
       "WoodDeckSF       0\n",
       "OpenPorchSF      0\n",
       "EnclosedPorch    0\n",
       "3SsnPorch        0\n",
       "ScreenPorch      0\n",
       "PoolArea         0\n",
       "PoolQC           0\n",
       "Fence            0\n",
       "MiscFeature      0\n",
       "MiscVal          0\n",
       "MoSold           0\n",
       "YrSold           0\n",
       "SaleType         0\n",
       "SaleCondition    0\n",
       "dtype: int64"
      ]
     },
     "execution_count": 91,
     "metadata": {},
     "output_type": "execute_result"
    }
   ],
   "source": [
    "data_test.isnull().sum().tail(40)"
   ]
  },
  {
   "cell_type": "code",
   "execution_count": 92,
   "metadata": {
    "execution": {
     "iopub.execute_input": "2023-02-26T06:35:27.240833Z",
     "iopub.status.busy": "2023-02-26T06:35:27.240372Z",
     "iopub.status.idle": "2023-02-26T06:35:27.256212Z",
     "shell.execute_reply": "2023-02-26T06:35:27.254599Z",
     "shell.execute_reply.started": "2023-02-26T06:35:27.240792Z"
    }
   },
   "outputs": [
    {
     "name": "stderr",
     "output_type": "stream",
     "text": [
      "C:\\ProgramData\\Anaconda3\\lib\\site-packages\\sklearn\\base.py:443: UserWarning: X has feature names, but LinearRegression was fitted without feature names\n",
      "  warnings.warn(\n"
     ]
    },
    {
     "data": {
      "text/plain": [
       "array([2742963.73843279, 5493791.17051395, 4724245.47544591, ...,\n",
       "       7264726.86998569, 1960168.80805628, 4601316.06674606])"
      ]
     },
     "execution_count": 92,
     "metadata": {},
     "output_type": "execute_result"
    }
   ],
   "source": [
    "saleprice=rg.predict(data_test)\n",
    "saleprice"
   ]
  },
  {
   "cell_type": "code",
   "execution_count": 93,
   "metadata": {
    "execution": {
     "iopub.execute_input": "2023-02-26T06:36:24.091900Z",
     "iopub.status.busy": "2023-02-26T06:36:24.091443Z",
     "iopub.status.idle": "2023-02-26T06:36:24.123401Z",
     "shell.execute_reply": "2023-02-26T06:36:24.121914Z",
     "shell.execute_reply.started": "2023-02-26T06:36:24.091867Z"
    }
   },
   "outputs": [
    {
     "data": {
      "text/html": [
       "<div>\n",
       "<style scoped>\n",
       "    .dataframe tbody tr th:only-of-type {\n",
       "        vertical-align: middle;\n",
       "    }\n",
       "\n",
       "    .dataframe tbody tr th {\n",
       "        vertical-align: top;\n",
       "    }\n",
       "\n",
       "    .dataframe thead th {\n",
       "        text-align: right;\n",
       "    }\n",
       "</style>\n",
       "<table border=\"1\" class=\"dataframe\">\n",
       "  <thead>\n",
       "    <tr style=\"text-align: right;\">\n",
       "      <th></th>\n",
       "      <th>Id</th>\n",
       "      <th>SalePrice</th>\n",
       "      <th>MSSubClass</th>\n",
       "      <th>MSZoning</th>\n",
       "      <th>LotFrontage</th>\n",
       "      <th>LotArea</th>\n",
       "      <th>Street</th>\n",
       "      <th>Alley</th>\n",
       "      <th>LotShape</th>\n",
       "      <th>LandContour</th>\n",
       "      <th>...</th>\n",
       "      <th>ScreenPorch</th>\n",
       "      <th>PoolArea</th>\n",
       "      <th>PoolQC</th>\n",
       "      <th>Fence</th>\n",
       "      <th>MiscFeature</th>\n",
       "      <th>MiscVal</th>\n",
       "      <th>MoSold</th>\n",
       "      <th>YrSold</th>\n",
       "      <th>SaleType</th>\n",
       "      <th>SaleCondition</th>\n",
       "    </tr>\n",
       "  </thead>\n",
       "  <tbody>\n",
       "    <tr>\n",
       "      <th>0</th>\n",
       "      <td>1461</td>\n",
       "      <td>2.742964e+06</td>\n",
       "      <td>20</td>\n",
       "      <td>2</td>\n",
       "      <td>80.0</td>\n",
       "      <td>11622</td>\n",
       "      <td>1</td>\n",
       "      <td>2</td>\n",
       "      <td>3</td>\n",
       "      <td>3</td>\n",
       "      <td>...</td>\n",
       "      <td>120</td>\n",
       "      <td>0</td>\n",
       "      <td>2</td>\n",
       "      <td>2</td>\n",
       "      <td>3</td>\n",
       "      <td>0</td>\n",
       "      <td>6</td>\n",
       "      <td>2010</td>\n",
       "      <td>8</td>\n",
       "      <td>4</td>\n",
       "    </tr>\n",
       "    <tr>\n",
       "      <th>1</th>\n",
       "      <td>1462</td>\n",
       "      <td>5.493791e+06</td>\n",
       "      <td>20</td>\n",
       "      <td>3</td>\n",
       "      <td>81.0</td>\n",
       "      <td>14267</td>\n",
       "      <td>1</td>\n",
       "      <td>2</td>\n",
       "      <td>0</td>\n",
       "      <td>3</td>\n",
       "      <td>...</td>\n",
       "      <td>0</td>\n",
       "      <td>0</td>\n",
       "      <td>2</td>\n",
       "      <td>4</td>\n",
       "      <td>0</td>\n",
       "      <td>12500</td>\n",
       "      <td>6</td>\n",
       "      <td>2010</td>\n",
       "      <td>8</td>\n",
       "      <td>4</td>\n",
       "    </tr>\n",
       "    <tr>\n",
       "      <th>2</th>\n",
       "      <td>1463</td>\n",
       "      <td>4.724245e+06</td>\n",
       "      <td>60</td>\n",
       "      <td>3</td>\n",
       "      <td>74.0</td>\n",
       "      <td>13830</td>\n",
       "      <td>1</td>\n",
       "      <td>2</td>\n",
       "      <td>0</td>\n",
       "      <td>3</td>\n",
       "      <td>...</td>\n",
       "      <td>0</td>\n",
       "      <td>0</td>\n",
       "      <td>2</td>\n",
       "      <td>2</td>\n",
       "      <td>3</td>\n",
       "      <td>0</td>\n",
       "      <td>3</td>\n",
       "      <td>2010</td>\n",
       "      <td>8</td>\n",
       "      <td>4</td>\n",
       "    </tr>\n",
       "    <tr>\n",
       "      <th>3</th>\n",
       "      <td>1464</td>\n",
       "      <td>3.620532e+06</td>\n",
       "      <td>60</td>\n",
       "      <td>3</td>\n",
       "      <td>78.0</td>\n",
       "      <td>9978</td>\n",
       "      <td>1</td>\n",
       "      <td>2</td>\n",
       "      <td>0</td>\n",
       "      <td>3</td>\n",
       "      <td>...</td>\n",
       "      <td>0</td>\n",
       "      <td>0</td>\n",
       "      <td>2</td>\n",
       "      <td>4</td>\n",
       "      <td>3</td>\n",
       "      <td>0</td>\n",
       "      <td>6</td>\n",
       "      <td>2010</td>\n",
       "      <td>8</td>\n",
       "      <td>4</td>\n",
       "    </tr>\n",
       "    <tr>\n",
       "      <th>4</th>\n",
       "      <td>1465</td>\n",
       "      <td>1.603518e+06</td>\n",
       "      <td>120</td>\n",
       "      <td>3</td>\n",
       "      <td>43.0</td>\n",
       "      <td>5005</td>\n",
       "      <td>1</td>\n",
       "      <td>2</td>\n",
       "      <td>0</td>\n",
       "      <td>1</td>\n",
       "      <td>...</td>\n",
       "      <td>144</td>\n",
       "      <td>0</td>\n",
       "      <td>2</td>\n",
       "      <td>4</td>\n",
       "      <td>3</td>\n",
       "      <td>0</td>\n",
       "      <td>1</td>\n",
       "      <td>2010</td>\n",
       "      <td>8</td>\n",
       "      <td>4</td>\n",
       "    </tr>\n",
       "    <tr>\n",
       "      <th>...</th>\n",
       "      <td>...</td>\n",
       "      <td>...</td>\n",
       "      <td>...</td>\n",
       "      <td>...</td>\n",
       "      <td>...</td>\n",
       "      <td>...</td>\n",
       "      <td>...</td>\n",
       "      <td>...</td>\n",
       "      <td>...</td>\n",
       "      <td>...</td>\n",
       "      <td>...</td>\n",
       "      <td>...</td>\n",
       "      <td>...</td>\n",
       "      <td>...</td>\n",
       "      <td>...</td>\n",
       "      <td>...</td>\n",
       "      <td>...</td>\n",
       "      <td>...</td>\n",
       "      <td>...</td>\n",
       "      <td>...</td>\n",
       "      <td>...</td>\n",
       "    </tr>\n",
       "    <tr>\n",
       "      <th>1454</th>\n",
       "      <td>2915</td>\n",
       "      <td>-8.421205e+04</td>\n",
       "      <td>160</td>\n",
       "      <td>4</td>\n",
       "      <td>21.0</td>\n",
       "      <td>1936</td>\n",
       "      <td>1</td>\n",
       "      <td>2</td>\n",
       "      <td>3</td>\n",
       "      <td>3</td>\n",
       "      <td>...</td>\n",
       "      <td>0</td>\n",
       "      <td>0</td>\n",
       "      <td>2</td>\n",
       "      <td>4</td>\n",
       "      <td>3</td>\n",
       "      <td>0</td>\n",
       "      <td>6</td>\n",
       "      <td>2006</td>\n",
       "      <td>8</td>\n",
       "      <td>4</td>\n",
       "    </tr>\n",
       "    <tr>\n",
       "      <th>1455</th>\n",
       "      <td>2916</td>\n",
       "      <td>1.407563e+06</td>\n",
       "      <td>160</td>\n",
       "      <td>4</td>\n",
       "      <td>21.0</td>\n",
       "      <td>1894</td>\n",
       "      <td>1</td>\n",
       "      <td>2</td>\n",
       "      <td>3</td>\n",
       "      <td>3</td>\n",
       "      <td>...</td>\n",
       "      <td>0</td>\n",
       "      <td>0</td>\n",
       "      <td>2</td>\n",
       "      <td>4</td>\n",
       "      <td>3</td>\n",
       "      <td>0</td>\n",
       "      <td>4</td>\n",
       "      <td>2006</td>\n",
       "      <td>8</td>\n",
       "      <td>0</td>\n",
       "    </tr>\n",
       "    <tr>\n",
       "      <th>1456</th>\n",
       "      <td>2917</td>\n",
       "      <td>7.264727e+06</td>\n",
       "      <td>20</td>\n",
       "      <td>3</td>\n",
       "      <td>160.0</td>\n",
       "      <td>20000</td>\n",
       "      <td>1</td>\n",
       "      <td>2</td>\n",
       "      <td>3</td>\n",
       "      <td>3</td>\n",
       "      <td>...</td>\n",
       "      <td>0</td>\n",
       "      <td>0</td>\n",
       "      <td>2</td>\n",
       "      <td>4</td>\n",
       "      <td>3</td>\n",
       "      <td>0</td>\n",
       "      <td>9</td>\n",
       "      <td>2006</td>\n",
       "      <td>8</td>\n",
       "      <td>0</td>\n",
       "    </tr>\n",
       "    <tr>\n",
       "      <th>1457</th>\n",
       "      <td>2918</td>\n",
       "      <td>1.960169e+06</td>\n",
       "      <td>85</td>\n",
       "      <td>3</td>\n",
       "      <td>62.0</td>\n",
       "      <td>10441</td>\n",
       "      <td>1</td>\n",
       "      <td>2</td>\n",
       "      <td>3</td>\n",
       "      <td>3</td>\n",
       "      <td>...</td>\n",
       "      <td>0</td>\n",
       "      <td>0</td>\n",
       "      <td>2</td>\n",
       "      <td>2</td>\n",
       "      <td>2</td>\n",
       "      <td>700</td>\n",
       "      <td>7</td>\n",
       "      <td>2006</td>\n",
       "      <td>8</td>\n",
       "      <td>4</td>\n",
       "    </tr>\n",
       "    <tr>\n",
       "      <th>1458</th>\n",
       "      <td>2919</td>\n",
       "      <td>4.601316e+06</td>\n",
       "      <td>60</td>\n",
       "      <td>3</td>\n",
       "      <td>74.0</td>\n",
       "      <td>9627</td>\n",
       "      <td>1</td>\n",
       "      <td>2</td>\n",
       "      <td>3</td>\n",
       "      <td>3</td>\n",
       "      <td>...</td>\n",
       "      <td>0</td>\n",
       "      <td>0</td>\n",
       "      <td>2</td>\n",
       "      <td>4</td>\n",
       "      <td>3</td>\n",
       "      <td>0</td>\n",
       "      <td>11</td>\n",
       "      <td>2006</td>\n",
       "      <td>8</td>\n",
       "      <td>4</td>\n",
       "    </tr>\n",
       "  </tbody>\n",
       "</table>\n",
       "<p>1459 rows × 81 columns</p>\n",
       "</div>"
      ],
      "text/plain": [
       "        Id     SalePrice  MSSubClass  MSZoning  LotFrontage  LotArea  Street  \\\n",
       "0     1461  2.742964e+06          20         2         80.0    11622       1   \n",
       "1     1462  5.493791e+06          20         3         81.0    14267       1   \n",
       "2     1463  4.724245e+06          60         3         74.0    13830       1   \n",
       "3     1464  3.620532e+06          60         3         78.0     9978       1   \n",
       "4     1465  1.603518e+06         120         3         43.0     5005       1   \n",
       "...    ...           ...         ...       ...          ...      ...     ...   \n",
       "1454  2915 -8.421205e+04         160         4         21.0     1936       1   \n",
       "1455  2916  1.407563e+06         160         4         21.0     1894       1   \n",
       "1456  2917  7.264727e+06          20         3        160.0    20000       1   \n",
       "1457  2918  1.960169e+06          85         3         62.0    10441       1   \n",
       "1458  2919  4.601316e+06          60         3         74.0     9627       1   \n",
       "\n",
       "      Alley  LotShape  LandContour  ...  ScreenPorch  PoolArea  PoolQC  Fence  \\\n",
       "0         2         3            3  ...          120         0       2      2   \n",
       "1         2         0            3  ...            0         0       2      4   \n",
       "2         2         0            3  ...            0         0       2      2   \n",
       "3         2         0            3  ...            0         0       2      4   \n",
       "4         2         0            1  ...          144         0       2      4   \n",
       "...     ...       ...          ...  ...          ...       ...     ...    ...   \n",
       "1454      2         3            3  ...            0         0       2      4   \n",
       "1455      2         3            3  ...            0         0       2      4   \n",
       "1456      2         3            3  ...            0         0       2      4   \n",
       "1457      2         3            3  ...            0         0       2      2   \n",
       "1458      2         3            3  ...            0         0       2      4   \n",
       "\n",
       "      MiscFeature  MiscVal  MoSold  YrSold  SaleType  SaleCondition  \n",
       "0               3        0       6    2010         8              4  \n",
       "1               0    12500       6    2010         8              4  \n",
       "2               3        0       3    2010         8              4  \n",
       "3               3        0       6    2010         8              4  \n",
       "4               3        0       1    2010         8              4  \n",
       "...           ...      ...     ...     ...       ...            ...  \n",
       "1454            3        0       6    2006         8              4  \n",
       "1455            3        0       4    2006         8              0  \n",
       "1456            3        0       9    2006         8              0  \n",
       "1457            2      700       7    2006         8              4  \n",
       "1458            3        0      11    2006         8              4  \n",
       "\n",
       "[1459 rows x 81 columns]"
      ]
     },
     "execution_count": 93,
     "metadata": {},
     "output_type": "execute_result"
    }
   ],
   "source": [
    "data_test.insert(1,\"SalePrice\",saleprice)\n",
    "data_test"
   ]
  },
  {
   "cell_type": "code",
   "execution_count": 94,
   "metadata": {
    "execution": {
     "iopub.execute_input": "2023-02-26T06:37:53.332966Z",
     "iopub.status.busy": "2023-02-26T06:37:53.331764Z",
     "iopub.status.idle": "2023-02-26T06:37:53.348726Z",
     "shell.execute_reply": "2023-02-26T06:37:53.347389Z",
     "shell.execute_reply.started": "2023-02-26T06:37:53.332917Z"
    }
   },
   "outputs": [
    {
     "data": {
      "text/html": [
       "<div>\n",
       "<style scoped>\n",
       "    .dataframe tbody tr th:only-of-type {\n",
       "        vertical-align: middle;\n",
       "    }\n",
       "\n",
       "    .dataframe tbody tr th {\n",
       "        vertical-align: top;\n",
       "    }\n",
       "\n",
       "    .dataframe thead th {\n",
       "        text-align: right;\n",
       "    }\n",
       "</style>\n",
       "<table border=\"1\" class=\"dataframe\">\n",
       "  <thead>\n",
       "    <tr style=\"text-align: right;\">\n",
       "      <th></th>\n",
       "      <th>Id</th>\n",
       "      <th>SalePrice</th>\n",
       "    </tr>\n",
       "  </thead>\n",
       "  <tbody>\n",
       "    <tr>\n",
       "      <th>0</th>\n",
       "      <td>1461</td>\n",
       "      <td>2.742964e+06</td>\n",
       "    </tr>\n",
       "    <tr>\n",
       "      <th>1</th>\n",
       "      <td>1462</td>\n",
       "      <td>5.493791e+06</td>\n",
       "    </tr>\n",
       "    <tr>\n",
       "      <th>2</th>\n",
       "      <td>1463</td>\n",
       "      <td>4.724245e+06</td>\n",
       "    </tr>\n",
       "    <tr>\n",
       "      <th>3</th>\n",
       "      <td>1464</td>\n",
       "      <td>3.620532e+06</td>\n",
       "    </tr>\n",
       "    <tr>\n",
       "      <th>4</th>\n",
       "      <td>1465</td>\n",
       "      <td>1.603518e+06</td>\n",
       "    </tr>\n",
       "    <tr>\n",
       "      <th>...</th>\n",
       "      <td>...</td>\n",
       "      <td>...</td>\n",
       "    </tr>\n",
       "    <tr>\n",
       "      <th>1454</th>\n",
       "      <td>2915</td>\n",
       "      <td>-8.421205e+04</td>\n",
       "    </tr>\n",
       "    <tr>\n",
       "      <th>1455</th>\n",
       "      <td>2916</td>\n",
       "      <td>1.407563e+06</td>\n",
       "    </tr>\n",
       "    <tr>\n",
       "      <th>1456</th>\n",
       "      <td>2917</td>\n",
       "      <td>7.264727e+06</td>\n",
       "    </tr>\n",
       "    <tr>\n",
       "      <th>1457</th>\n",
       "      <td>2918</td>\n",
       "      <td>1.960169e+06</td>\n",
       "    </tr>\n",
       "    <tr>\n",
       "      <th>1458</th>\n",
       "      <td>2919</td>\n",
       "      <td>4.601316e+06</td>\n",
       "    </tr>\n",
       "  </tbody>\n",
       "</table>\n",
       "<p>1459 rows × 2 columns</p>\n",
       "</div>"
      ],
      "text/plain": [
       "        Id     SalePrice\n",
       "0     1461  2.742964e+06\n",
       "1     1462  5.493791e+06\n",
       "2     1463  4.724245e+06\n",
       "3     1464  3.620532e+06\n",
       "4     1465  1.603518e+06\n",
       "...    ...           ...\n",
       "1454  2915 -8.421205e+04\n",
       "1455  2916  1.407563e+06\n",
       "1456  2917  7.264727e+06\n",
       "1457  2918  1.960169e+06\n",
       "1458  2919  4.601316e+06\n",
       "\n",
       "[1459 rows x 2 columns]"
      ]
     },
     "execution_count": 94,
     "metadata": {},
     "output_type": "execute_result"
    }
   ],
   "source": [
    "sample=data_test.iloc[:,[0,1]]\n",
    "sample\n"
   ]
  },
  {
   "cell_type": "code",
   "execution_count": null,
   "metadata": {},
   "outputs": [],
   "source": []
  }
 ],
 "metadata": {
  "kernelspec": {
   "display_name": "Python 3 (ipykernel)",
   "language": "python",
   "name": "python3"
  },
  "language_info": {
   "codemirror_mode": {
    "name": "ipython",
    "version": 3
   },
   "file_extension": ".py",
   "mimetype": "text/x-python",
   "name": "python",
   "nbconvert_exporter": "python",
   "pygments_lexer": "ipython3",
   "version": "3.9.13"
  }
 },
 "nbformat": 4,
 "nbformat_minor": 4
}
